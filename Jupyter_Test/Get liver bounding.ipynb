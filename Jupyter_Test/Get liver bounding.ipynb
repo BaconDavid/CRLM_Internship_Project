{
 "cells": [
  {
   "cell_type": "markdown",
   "metadata": {},
   "source": [
    "# This is the script to extract Liver bounding!"
   ]
  },
  {
   "cell_type": "code",
   "execution_count": 7,
   "metadata": {},
   "outputs": [
    {
     "data": {
      "text/plain": [
       "263"
      ]
     },
     "execution_count": 7,
     "metadata": {},
     "output_type": "execute_result"
    }
   ],
   "source": [
    "import os\n",
    "import nibabel as nib\n",
    "len(os.listdir('../../Data/CT_Phase/Task_502_Phase_Data/'))\n",
    "#len(os.listdir('../../Data/CT_Phase/Full_Image_Liver_07075/'))"
   ]
  },
  {
   "cell_type": "code",
   "execution_count": 29,
   "metadata": {},
   "outputs": [],
   "source": [
    "import os\n",
    "import nibabel as nib\n",
    "import numpy as np\n",
    "import skimage \n",
    "import matplotlib.pyplot as plt\n",
    "from tqdm import tqdm\n",
    "import SimpleITK as sitk\n",
    "import nibabel as nib\n",
    "import math\n",
    "#print(os.listdir('../../Test_Data/Test_3D/'))\n",
    "class ImageLoad:\n",
    "    def __init__(self,input_path):\n",
    "        \"\"\"\n",
    "        The path should only contain images\n",
    "        \"\"\"\n",
    "        self.input_path = input_path\n",
    "\n",
    "\n",
    "        #self.images_names = os.listdir('../../Test_Data/Test_3D/')\n",
    "        self.images_names = os.listdir(self.input_path)\n",
    "        self.images_num = len(self.images_names)\n",
    "        self.image_path = [self.input_path + name for name in self.images_names]\n",
    "\n",
    "    def image_load(self,image_path,reader='nib'):\n",
    "        if reader == 'nib':\n",
    "            return nib.load(image_path)\n",
    "        elif reader == 'sitk':\n",
    "            return sitk.ReadImage(image_path)\n",
    "        else:\n",
    "            raise ValueError(\"The reader should be either nib or sitk!\")\n",
    "        \n",
    "    #def image_get_float(self):\n",
    "\n",
    "  \n",
    "\n",
    "\n",
    "class LiverBoundingBox:\n",
    "    def __init__(self,liver_mask,liver_orig,out_path_box=None,file_name=None):\n",
    "        \"\"\"\n",
    "        args:\n",
    "            liver_mask: the liver mask|nib or sitk\n",
    "            original_image: the original image|nib or sitk\n",
    "        \"\"\"\n",
    "        self.liver_seg = liver_mask\n",
    "        self.liver_orig = liver_orig\n",
    "        self.out_path_box = out_path_box\n",
    "        self.file_name = file_name\n",
    "        # self.original_image = original_image\n",
    "        # self.liver_mask_array = self._get_array(liver_seg)\n",
    "        # self.original_arrary = self._get_array(original_image)\n",
    "        # self.image_loader = image_loader\n",
    "    def extract_liver(self,liver=True):\n",
    "        \"\"\"\n",
    "            get either the liver or tumor region from the mask\n",
    "            args:\n",
    "                mask: mask of the liver and tumor\n",
    "                liver: if True return the liver region, if False return the tumor region\n",
    "        \"\"\"\n",
    "        mask = self._get_array(self.liver_seg)\n",
    "        mask = mask.astype(int)\n",
    "        print(mask.shape)\n",
    "        \n",
    "        if liver:\n",
    "            mask[mask == 2] = 1\n",
    "        else:\n",
    "            mask[mask == 1] = 0\n",
    "            mask[mask == 2] = 1\n",
    "            mask = mask.astype(int)\n",
    "            \n",
    "        # only keep the largest connected component\n",
    "        labeled = skimage.measure.label(mask, connectivity=2)\n",
    "\n",
    "        labeled[labeled != 1] = 0\n",
    "      \n",
    "        mask = labeled\n",
    "        print(mask.sum())\n",
    "\n",
    "        return mask\n",
    "\n",
    "\n",
    "        \n",
    "    def get_liver_bounding_box(self,liver_mask):\n",
    "        '''\n",
    "    Function to generate bounding box for liver, from a binary liver mask\n",
    "        args:\n",
    "            liver_mask: binary mask of the liver\n",
    "\n",
    "        returns:\n",
    "            bbox: bounding box of the liver (min_row, min_col, min_slice, max_row, max_col, max_slice = bbox)\n",
    "        '''\n",
    "\n",
    "        # get the image_probs\n",
    "        image_probs = skimage.measure.regionprops((liver_mask))\n",
    "\n",
    "        # get the bounding box of the liver\n",
    "\n",
    "        if len(image_probs) == 0:\n",
    "            print(f'[WARNING] no liver found')\n",
    "            self._recording_failing()\n",
    "            return None\n",
    "\n",
    "        ## find the adjacent box that contains the liver\n",
    "        for props in image_probs:\n",
    "            bbox = props.bbox\n",
    "            min_row, min_col, min_slice, max_row, max_col, max_slice = bbox \n",
    "            print(\"this is range\",min_row, min_col, min_slice, max_row, max_col, max_slice)\n",
    "        return [min_row, min_col, min_slice, max_row, max_col, max_slice]\n",
    "\n",
    "    def crop_scan(self,liver_bounding):\n",
    "        \"\"\"\n",
    "        Crop the scan with the bounding box\n",
    "        args:\n",
    "            liver_bounding: the bounding box of the liver\n",
    "        \"\"\"\n",
    "        liver_original = self._get_array(self.liver_orig)\n",
    "        # get the bounding box of the liver\n",
    "        min_row, min_col, min_slice, max_row, max_col, max_slice = list(map(self._check_range,liver_bounding))\n",
    "        print('this is after check range',min_row, min_col, min_slice, max_row, max_col, max_slice)\n",
    "        \n",
    "        #crop the scan\n",
    "        cropped_scan = liver_original[min_row:max_row,min_col:max_col,min_slice:max_slice]\n",
    "        return cropped_scan\n",
    "    \n",
    "    def store_cropped_data(self,cropped_data):\n",
    "\n",
    "        if not os.path.exists(self.out_path_box):\n",
    "            os.mkdir(self.out_path_box)\n",
    "            print('The path does not exist, create the path!')\n",
    "\n",
    "        header = self.liver_orig.header\n",
    "        affine = self.liver_orig.affine\n",
    "        print(\"this is shape of cropped data\",cropped_data.shape)\n",
    "        cropped_image = nib.Nifti1Image(cropped_data, affine, header)\n",
    "\n",
    "\n",
    "        \n",
    "        nib.save(cropped_image, self.out_path_box + self.file_name)\n",
    "\n",
    "    @staticmethod   \n",
    "    def liver_detection(mask):\n",
    "        if np.count_nonzero(mask) != 0:\n",
    "            return True\n",
    "\n",
    "\n",
    "    def _check_range(self,range_num):\n",
    "        return max(0,range_num)\n",
    "    \n",
    "    def _get_array(self,image_file):\n",
    "        return image_file.get_fdata()\n",
    "    \n",
    "    def _recording_failing(self):\n",
    "        with open(self.out_path_box + 'failing_box.txt','a') as f:\n",
    "            f.write(self.file_name + '\\n')\n",
    "\n",
    "\n",
    "\n",
    "\n",
    "\n",
    "\n"
   ]
  },
  {
   "cell_type": "code",
   "execution_count": 1,
   "metadata": {},
   "outputs": [
    {
     "ename": "NameError",
     "evalue": "name 'os' is not defined",
     "output_type": "error",
     "traceback": [
      "\u001b[1;31m---------------------------------------------------------------------------\u001b[0m",
      "\u001b[1;31mNameError\u001b[0m                                 Traceback (most recent call last)",
      "\u001b[1;32mc:\\Users\\098986\\Intership_CILM\\CRLM_Internship_Project\\Jupyter_Test\\Get liver bounding.ipynb 单元格 4\u001b[0m line \u001b[0;36m1\n\u001b[1;32m----> <a href='vscode-notebook-cell:/c%3A/Users/098986/Intership_CILM/CRLM_Internship_Project/Jupyter_Test/Get%20liver%20bounding.ipynb#X11sZmlsZQ%3D%3D?line=0'>1</a>\u001b[0m os\n",
      "\u001b[1;31mNameError\u001b[0m: name 'os' is not defined"
     ]
    }
   ],
   "source": []
  },
  {
   "cell_type": "code",
   "execution_count": 12,
   "metadata": {},
   "outputs": [
    {
     "data": {
      "text/plain": [
       "{'CILM_CT_101040_0000.nii.gz': (),\n",
       " 'CILM_CT_102030_0000.nii.gz': (),\n",
       " 'CILM_CT_104550_0000.nii.gz': (),\n",
       " 'CILM_CT_104551_0000.nii.gz': (),\n",
       " 'CILM_CT_104552_0000.nii.gz': (),\n",
       " 'CILM_CT_107850_0000.nii.gz': (),\n",
       " 'CILM_CT_107851_0000.nii.gz': (),\n",
       " 'CILM_CT_111110_0000.nii.gz': (),\n",
       " 'CILM_CT_111111_0000.nii.gz': (),\n",
       " 'CILM_CT_111112_0000.nii.gz': (),\n",
       " 'CILM_CT_111550_0000.nii.gz': (),\n",
       " 'CILM_CT_111551_0000.nii.gz': (),\n",
       " 'CILM_CT_111552_0000.nii.gz': (),\n",
       " 'CILM_CT_111553_0000.nii.gz': (),\n",
       " 'CILM_CT_114470_0000.nii.gz': (),\n",
       " 'CILM_CT_114471_0000.nii.gz': (),\n",
       " 'CILM_CT_114472_0000.nii.gz': (),\n",
       " 'CILM_CT_116560_0000.nii.gz': (),\n",
       " 'CILM_CT_116561_0000.nii.gz': (),\n",
       " 'CILM_CT_121900_0000.nii.gz': (),\n",
       " 'CILM_CT_121901_0000.nii.gz': (),\n",
       " 'CILM_CT_125530_0000.nii.gz': (),\n",
       " 'CILM_CT_125531_0000.nii.gz': (),\n",
       " 'CILM_CT_125532_0000.nii.gz': (),\n",
       " 'CILM_CT_129310_0000.nii.gz': (),\n",
       " 'CILM_CT_129311_0000.nii.gz': (),\n",
       " 'CILM_CT_129570_0000.nii.gz': (),\n",
       " 'CILM_CT_134190_0000.nii.gz': (),\n",
       " 'CILM_CT_134191_0000.nii.gz': (),\n",
       " 'CILM_CT_134192_0000.nii.gz': (),\n",
       " 'CILM_CT_134193_0000.nii.gz': (),\n",
       " 'CILM_CT_137140_0000.nii.gz': (),\n",
       " 'CILM_CT_137141_0000.nii.gz': (),\n",
       " 'CILM_CT_137142_0000.nii.gz': (),\n",
       " 'CILM_CT_139990_0000.nii.gz': (),\n",
       " 'CILM_CT_139991_0000.nii.gz': (),\n",
       " 'CILM_CT_139992_0000.nii.gz': (),\n",
       " 'CILM_CT_139993_0000.nii.gz': (),\n",
       " 'CILM_CT_140250_0000.nii.gz': (),\n",
       " 'CILM_CT_140251_0000.nii.gz': (),\n",
       " 'CILM_CT_140252_0000.nii.gz': (),\n",
       " 'CILM_CT_141460_0000.nii.gz': (),\n",
       " 'CILM_CT_141461_0000.nii.gz': (),\n",
       " 'CILM_CT_141510_0000.nii.gz': (),\n",
       " 'CILM_CT_141511_0000.nii.gz': (),\n",
       " 'CILM_CT_141512_0000.nii.gz': (),\n",
       " 'CILM_CT_141513_0000.nii.gz': (),\n",
       " 'CILM_CT_142990_0000.nii.gz': (),\n",
       " 'CILM_CT_142991_0000.nii.gz': (),\n",
       " 'CILM_CT_147760_0000.nii.gz': (),\n",
       " 'CILM_CT_147761_0000.nii.gz': (),\n",
       " 'CILM_CT_150140_0000.nii.gz': (),\n",
       " 'CILM_CT_155660_0000.nii.gz': (),\n",
       " 'CILM_CT_155661_0000.nii.gz': (),\n",
       " 'CILM_CT_155662_0000.nii.gz': (),\n",
       " 'CILM_CT_155663_0000.nii.gz': (),\n",
       " 'CILM_CT_158130_0000.nii.gz': (),\n",
       " 'CILM_CT_158131_0000.nii.gz': (),\n",
       " 'CILM_CT_160780_0000.nii.gz': (),\n",
       " 'CILM_CT_160781_0000.nii.gz': (),\n",
       " 'CILM_CT_160782_0000.nii.gz': (),\n",
       " 'CILM_CT_160783_0000.nii.gz': (),\n",
       " 'CILM_CT_164660_0000.nii.gz': (),\n",
       " 'CILM_CT_164661_0000.nii.gz': (),\n",
       " 'CILM_CT_164662_0000.nii.gz': (),\n",
       " 'CILM_CT_164663_0000.nii.gz': (),\n",
       " 'CILM_CT_166410_0000.nii.gz': (),\n",
       " 'CILM_CT_176840_0000.nii.gz': (),\n",
       " 'CILM_CT_176841_0000.nii.gz': (),\n",
       " 'CILM_CT_176842_0000.nii.gz': (),\n",
       " 'CILM_CT_176843_0000.nii.gz': (),\n",
       " 'CILM_CT_190460_0000.nii.gz': (),\n",
       " 'CILM_CT_190820_0000.nii.gz': (),\n",
       " 'CILM_CT_190821_0000.nii.gz': (),\n",
       " 'CILM_CT_190822_0000.nii.gz': (),\n",
       " 'CILM_CT_190823_0000.nii.gz': (),\n",
       " 'CILM_CT_193810_0000.nii.gz': (),\n",
       " 'CILM_CT_193811_0000.nii.gz': (),\n",
       " 'CILM_CT_193812_0000.nii.gz': (),\n",
       " 'CILM_CT_197380_0000.nii.gz': (),\n",
       " 'CILM_CT_198760_0000.nii.gz': (),\n",
       " 'CILM_CT_198761_0000.nii.gz': (),\n",
       " 'CILM_CT_198762_0000.nii.gz': (),\n",
       " 'CILM_CT_198763_0000.nii.gz': (),\n",
       " 'CILM_CT_199010_0000.nii.gz': (),\n",
       " 'CILM_CT_199011_0000.nii.gz': (),\n",
       " 'CILM_CT_199012_0000.nii.gz': (),\n",
       " 'CILM_CT_199013_0000.nii.gz': (),\n",
       " 'CILM_CT_201850_0000.nii.gz': (),\n",
       " 'CILM_CT_201851_0000.nii.gz': (),\n",
       " 'CILM_CT_201852_0000.nii.gz': (),\n",
       " 'CILM_CT_201853_0000.nii.gz': (),\n",
       " 'CILM_CT_202990_0000.nii.gz': (),\n",
       " 'CILM_CT_203700_0000.nii.gz': (),\n",
       " 'CILM_CT_203701_0000.nii.gz': (),\n",
       " 'CILM_CT_206460_0000.nii.gz': (),\n",
       " 'CILM_CT_209850_0000.nii.gz': (),\n",
       " 'CILM_CT_210170_0000.nii.gz': (),\n",
       " 'CILM_CT_210171_0000.nii.gz': (),\n",
       " 'CILM_CT_211030_0000.nii.gz': (),\n",
       " 'CILM_CT_211140_0000.nii.gz': (),\n",
       " 'CILM_CT_211141_0000.nii.gz': (),\n",
       " 'CILM_CT_211142_0000.nii.gz': (),\n",
       " 'CILM_CT_215020_0000.nii.gz': (),\n",
       " 'CILM_CT_215640_0000.nii.gz': (),\n",
       " 'CILM_CT_219190_0000.nii.gz': (),\n",
       " 'CILM_CT_219270_0000.nii.gz': (),\n",
       " 'CILM_CT_219271_0000.nii.gz': (),\n",
       " 'CILM_CT_219272_0000.nii.gz': (),\n",
       " 'CILM_CT_219273_0000.nii.gz': (),\n",
       " 'CILM_CT_227620_0000.nii.gz': (),\n",
       " 'CILM_CT_227621_0000.nii.gz': (),\n",
       " 'CILM_CT_228290_0000.nii.gz': (),\n",
       " 'CILM_CT_228291_0000.nii.gz': (),\n",
       " 'CILM_CT_228292_0000.nii.gz': (),\n",
       " 'CILM_CT_229580_0000.nii.gz': (),\n",
       " 'CILM_CT_229581_0000.nii.gz': (),\n",
       " 'CILM_CT_229582_0000.nii.gz': (),\n",
       " 'CILM_CT_229583_0000.nii.gz': (),\n",
       " 'CILM_CT_229584_0000.nii.gz': (),\n",
       " 'CILM_CT_232880_0000.nii.gz': (),\n",
       " 'CILM_CT_232881_0000.nii.gz': (),\n",
       " 'CILM_CT_232882_0000.nii.gz': (),\n",
       " 'CILM_CT_232883_0000.nii.gz': (),\n",
       " 'CILM_CT_233500_0000.nii.gz': (),\n",
       " 'CILM_CT_235170_0000.nii.gz': (),\n",
       " 'CILM_CT_243292_0000.nii.gz': (),\n",
       " 'CILM_CT_246500_0000.nii.gz': (),\n",
       " 'CILM_CT_246501_0000.nii.gz': (),\n",
       " 'CILM_CT_246502_0000.nii.gz': (),\n",
       " 'CILM_CT_246503_0000.nii.gz': (),\n",
       " 'CILM_CT_246504_0000.nii.gz': (),\n",
       " 'CILM_CT_255220_0000.nii.gz': (),\n",
       " 'CILM_CT_255221_0000.nii.gz': (),\n",
       " 'CILM_CT_256150_0000.nii.gz': (),\n",
       " 'CILM_CT_256151_0000.nii.gz': (),\n",
       " 'CILM_CT_256152_0000.nii.gz': (),\n",
       " 'CILM_CT_258480_0000.nii.gz': (),\n",
       " 'CILM_CT_258481_0000.nii.gz': (),\n",
       " 'CILM_CT_259630_0000.nii.gz': (),\n",
       " 'CILM_CT_259631_0000.nii.gz': (),\n",
       " 'CILM_CT_259632_0000.nii.gz': (),\n",
       " 'CILM_CT_261400_0000.nii.gz': (),\n",
       " 'CILM_CT_261401_0000.nii.gz': (),\n",
       " 'CILM_CT_261402_0000.nii.gz': (),\n",
       " 'CILM_CT_261403_0000.nii.gz': (),\n",
       " 'CILM_CT_261404_0000.nii.gz': (),\n",
       " 'CILM_CT_265790_0000.nii.gz': (),\n",
       " 'CILM_CT_265791_0000.nii.gz': (),\n",
       " 'CILM_CT_270350_0000.nii.gz': (),\n",
       " 'CILM_CT_270351_0000.nii.gz': (),\n",
       " 'CILM_CT_270352_0000.nii.gz': (),\n",
       " 'CILM_CT_270353_0000.nii.gz': (),\n",
       " 'CILM_CT_270354_0000.nii.gz': (),\n",
       " 'CILM_CT_270355_0000.nii.gz': (),\n",
       " 'CILM_CT_271390_0000.nii.gz': (),\n",
       " 'CILM_CT_271391_0000.nii.gz': (),\n",
       " 'CILM_CT_271580_0000.nii.gz': (),\n",
       " 'CILM_CT_271670_0000.nii.gz': (),\n",
       " 'CILM_CT_271671_0000.nii.gz': (),\n",
       " 'CILM_CT_271672_0000.nii.gz': (),\n",
       " 'CILM_CT_271673_0000.nii.gz': (),\n",
       " 'CILM_CT_272320_0000.nii.gz': (),\n",
       " 'CILM_CT_272321_0000.nii.gz': (),\n",
       " 'CILM_CT_274790_0000.nii.gz': (),\n",
       " 'CILM_CT_274791_0000.nii.gz': (),\n",
       " 'CILM_CT_274792_0000.nii.gz': (),\n",
       " 'CILM_CT_274793_0000.nii.gz': (),\n",
       " 'CILM_CT_277500_0000.nii.gz': (),\n",
       " 'CILM_CT_277501_0000.nii.gz': (),\n",
       " 'CILM_CT_277502_0000.nii.gz': (),\n",
       " 'CILM_CT_278620_0000.nii.gz': (),\n",
       " 'CILM_CT_279250_0000.nii.gz': (),\n",
       " 'CILM_CT_284670_0000.nii.gz': (),\n",
       " 'CILM_CT_284671_0000.nii.gz': (),\n",
       " 'CILM_CT_284672_0000.nii.gz': (),\n",
       " 'CILM_CT_300650_0000.nii.gz': (),\n",
       " 'CILM_CT_300651_0000.nii.gz': (),\n",
       " 'CILM_CT_301360_0000.nii.gz': (),\n",
       " 'CILM_CT_301361_0000.nii.gz': (),\n",
       " 'CILM_CT_307220_0000.nii.gz': (),\n",
       " 'CILM_CT_307221_0000.nii.gz': (),\n",
       " 'CILM_CT_307222_0000.nii.gz': (),\n",
       " 'CILM_CT_307223_0000.nii.gz': (),\n",
       " 'CILM_CT_307224_0000.nii.gz': (),\n",
       " 'CILM_CT_308211_0000.nii.gz': (),\n",
       " 'CILM_CT_308212_0000.nii.gz': (),\n",
       " 'CILM_CT_308213_0000.nii.gz': (),\n",
       " 'CILM_CT_309030_0000.nii.gz': (),\n",
       " 'CILM_CT_309031_0000.nii.gz': (),\n",
       " 'CILM_CT_311960_0000.nii.gz': (),\n",
       " 'CILM_CT_320940_0000.nii.gz': (),\n",
       " 'CILM_CT_321560_0000.nii.gz': (),\n",
       " 'CILM_CT_321561_0000.nii.gz': (),\n",
       " 'CILM_CT_321562_0000.nii.gz': (),\n",
       " 'CILM_CT_321563_0000.nii.gz': (),\n",
       " 'CILM_CT_323410_0000.nii.gz': (),\n",
       " 'CILM_CT_323411_0000.nii.gz': (),\n",
       " 'CILM_CT_323412_0000.nii.gz': (),\n",
       " 'CILM_CT_325050_0000.nii.gz': (),\n",
       " 'CILM_CT_326750_0000.nii.gz': (),\n",
       " 'CILM_CT_326751_0000.nii.gz': (),\n",
       " 'CILM_CT_327610_0000.nii.gz': (),\n",
       " 'CILM_CT_328380_0000.nii.gz': (),\n",
       " 'CILM_CT_328381_0000.nii.gz': (),\n",
       " 'CILM_CT_328382_0000.nii.gz': (),\n",
       " 'CILM_CT_328383_0000.nii.gz': (),\n",
       " 'CILM_CT_333700_0000.nii.gz': (),\n",
       " 'CILM_CT_333701_0000.nii.gz': (),\n",
       " 'CILM_CT_335120_0000.nii.gz': (),\n",
       " 'CILM_CT_335121_0000.nii.gz': (),\n",
       " 'CILM_CT_335122_0000.nii.gz': (),\n",
       " 'CILM_CT_335540_0000.nii.gz': (),\n",
       " 'CILM_CT_335541_0000.nii.gz': (),\n",
       " 'CILM_CT_339330_0000.nii.gz': (),\n",
       " 'CILM_CT_339331_0000.nii.gz': (),\n",
       " 'CILM_CT_351260_0000.nii.gz': (),\n",
       " 'CILM_CT_400340_0000.nii.gz': (),\n",
       " 'CILM_CT_495080_0000.nii.gz': (),\n",
       " 'CILM_CT_495081_0000.nii.gz': (),\n",
       " 'CILM_CT_503480_0000.nii.gz': (),\n",
       " 'CILM_CT_503481_0000.nii.gz': (),\n",
       " 'CILM_CT_503482_0000.nii.gz': (),\n",
       " 'CILM_CT_503483_0000.nii.gz': (),\n",
       " 'CILM_CT_503484_0000.nii.gz': (),\n",
       " 'CILM_CT_504100_0000.nii.gz': (),\n",
       " 'CILM_CT_504101_0000.nii.gz': (),\n",
       " 'CILM_CT_504102_0000.nii.gz': (),\n",
       " 'CILM_CT_542930_0000.nii.gz': (),\n",
       " 'CILM_CT_542931_0000.nii.gz': (),\n",
       " 'CILM_CT_542932_0000.nii.gz': (),\n",
       " 'CILM_CT_542933_0000.nii.gz': (),\n",
       " 'CILM_CT_542934_0000.nii.gz': (),\n",
       " 'CILM_CT_548380_0000.nii.gz': (),\n",
       " 'CILM_CT_548630_0000.nii.gz': (),\n",
       " 'CILM_CT_548631_0000.nii.gz': (),\n",
       " 'CILM_CT_626110_0000.nii.gz': (),\n",
       " 'CILM_CT_626111_0000.nii.gz': (),\n",
       " 'CILM_CT_626112_0000.nii.gz': (),\n",
       " 'CILM_CT_626113_0000.nii.gz': (),\n",
       " 'CILM_CT_675130_0000.nii.gz': (),\n",
       " 'CILM_CT_696440_0000.nii.gz': (),\n",
       " 'CILM_CT_696441_0000.nii.gz': (),\n",
       " 'CILM_CT_764150_0000.nii.gz': (),\n",
       " 'CILM_CT_764151_0000.nii.gz': (),\n",
       " 'CILM_CT_764152_0000.nii.gz': (),\n",
       " 'CILM_CT_764153_0000.nii.gz': (),\n",
       " 'CILM_CT_792210_0000.nii.gz': (),\n",
       " 'CILM_CT_792211_0000.nii.gz': (),\n",
       " 'CILM_CT_792212_0000.nii.gz': (),\n",
       " 'CILM_CT_792213_0000.nii.gz': (),\n",
       " 'CILM_CT_802590_0000.nii.gz': (),\n",
       " 'CILM_CT_839580_0000.nii.gz': (),\n",
       " 'CILM_CT_839581_0000.nii.gz': (),\n",
       " 'CILM_CT_839582_0000.nii.gz': (),\n",
       " 'CILM_CT_839583_0000.nii.gz': (),\n",
       " 'CILM_CT_887990_0000.nii.gz': (),\n",
       " 'CILM_CT_955820_0000.nii.gz': (),\n",
       " 'CILM_CT_955821_0000.nii.gz': (),\n",
       " 'CILM_CT_990890_0000.nii.gz': (),\n",
       " 'CILM_CT_994000_0000.nii.gz': (),\n",
       " 'CILM_CT_994001_0000.nii.gz': (),\n",
       " 'CILM_CT_994002_0000.nii.gz': ()}"
      ]
     },
     "execution_count": 12,
     "metadata": {},
     "output_type": "execute_result"
    }
   ],
   "source": [
    "image_lst = os.listdir('../../Data/CT_Phase/Full_Image_Liver_07075/')\n",
    "image_liver_slice = {img:() for img in image_lst}"
   ]
  },
  {
   "cell_type": "code",
   "execution_count": 70,
   "metadata": {},
   "outputs": [
    {
     "name": "stdout",
     "output_type": "stream",
     "text": [
      "(512, 512, 112)\n",
      "834018\n",
      "this is range 61 143 72 330 424 111\n",
      "(512, 512, 56)\n",
      "753106\n",
      "this is range 43 146 19 348 416 54\n",
      "(512, 512, 37)\n",
      "204600\n",
      "this is range 92 176 7 293 383 35\n",
      "(512, 512, 61)\n",
      "907715\n",
      "this is range 94 169 2 416 387 58\n",
      "(512, 512, 79)\n",
      "598292\n",
      "this is range 87 166 42 433 387 77\n",
      "(512, 512, 59)\n",
      "226024\n",
      "this is range 103 178 0 387 368 12\n",
      "(512, 512, 127)\n",
      "470047\n",
      "this is range 101 177 48 380 372 79\n",
      "(512, 512, 48)\n",
      "951642\n",
      "this is range 46 140 5 387 419 43\n",
      "(512, 512, 42)\n",
      "789539\n",
      "this is range 30 143 0 376 400 36\n",
      "(512, 512, 48)\n",
      "890230\n",
      "this is range 40 176 5 387 414 43\n",
      "(512, 512, 34)\n",
      "492336\n",
      "this is range 44 133 1 319 374 32\n",
      "(512, 512, 60)\n",
      "570101\n",
      "this is range 27 114 0 341 384 15\n",
      "(512, 512, 113)\n",
      "2087630\n",
      "this is range 43 127 6 332 376 108\n",
      "(512, 512, 125)\n",
      "657710\n",
      "this is range 43 125 49 328 374 80\n",
      "(512, 512, 142)\n",
      "783531\n",
      "this is range 60 144 85 325 386 140\n",
      "(512, 512, 65)\n",
      "741745\n",
      "this is range 62 142 8 321 384 62\n",
      "(512, 512, 142)\n",
      "776687\n",
      "this is range 59 140 86 322 383 141\n",
      "(512, 512, 38)\n",
      "447880\n",
      "this is range 70 133 8 351 349 36\n",
      "(512, 512, 38)\n",
      "503390\n",
      "this is range 67 131 7 383 352 36\n",
      "(512, 512, 130)\n",
      "526664\n",
      "this is range 56 80 96 336 340 126\n",
      "(512, 512, 130)\n",
      "525270\n",
      "this is range 56 81 96 335 339 126\n",
      "(512, 512, 60)\n",
      "1009182\n",
      "this is range 66 175 11 398 429 53\n",
      "(512, 512, 60)\n",
      "799358\n",
      "this is range 65 178 11 373 407 52\n",
      "(512, 512, 60)\n",
      "981965\n",
      "this is range 65 178 12 386 429 54\n",
      "(512, 512, 93)\n",
      "567594\n",
      "this is range 34 133 59 292 421 89\n",
      "(512, 512, 86)\n",
      "950341\n",
      "this is range 40 110 31 286 399 82\n",
      "(512, 512, 192)\n",
      "3109669\n",
      "this is range 50 150 24 380 433 183\n",
      "(512, 512, 42)\n",
      "811553\n",
      "this is range 27 170 6 309 502 40\n",
      "(512, 512, 42)\n",
      "730444\n",
      "this is range 28 168 7 308 492 40\n",
      "(512, 512, 42)\n",
      "679350\n",
      "this is range 45 126 6 302 429 40\n",
      "(512, 512, 42)\n",
      "544556\n",
      "this is range 57 107 7 295 388 40\n",
      "(512, 512, 224)\n",
      "943416\n",
      "this is range 47 154 103 310 392 164\n",
      "(512, 512, 87)\n",
      "472860\n",
      "this is range 85 195 37 262 396 86\n",
      "(512, 512, 164)\n",
      "946929\n",
      "this is range 46 154 102 309 394 163\n",
      "(512, 512, 121)\n",
      "641782\n",
      "this is range 44 164 49 352 426 82\n",
      "(512, 512, 34)\n",
      "630999\n",
      "this is range 40 164 1 377 431 34\n",
      "(512, 512, 54)\n",
      "429768\n",
      "this is range 29 177 0 352 434 15\n",
      "(512, 512, 35)\n",
      "52209\n",
      "this is range 43 236 17 160 349 33\n",
      "(512, 512, 32)\n",
      "352762\n",
      "this is range 97 219 1 379 375 26\n",
      "(512, 512, 75)\n",
      "545924\n",
      "this is range 72 167 1 397 380 27\n",
      "(512, 512, 75)\n",
      "494070\n",
      "this is range 97 153 44 407 360 72\n",
      "(512, 512, 151)\n",
      "538605\n",
      "this is range 100 175 96 324 361 145\n",
      "(512, 512, 218)\n",
      "536421\n",
      "this is range 96 173 97 315 357 144\n",
      "(512, 512, 40)\n",
      "241443\n",
      "this is range 41 213 16 335 374 36\n",
      "(512, 512, 37)\n",
      "545028\n",
      "this is range 30 135 4 363 378 34\n",
      "(512, 512, 58)\n",
      "294480\n",
      "this is range 62 118 0 361 358 11\n",
      "(512, 512, 120)\n",
      "483903\n",
      "this is range 65 119 43 360 357 73\n",
      "(512, 512, 79)\n",
      "689755\n",
      "this is range 81 206 17 361 426 71\n",
      "(512, 512, 79)\n",
      "959046\n",
      "this is range 68 176 18 368 421 73\n",
      "(512, 512, 151)\n",
      "1373183\n",
      "this is range 76 172 0 365 416 55\n",
      "(512, 512, 334)\n",
      "2278580\n",
      "this is range 76 173 117 377 419 238\n",
      "(512, 512, 50)\n",
      "705869\n",
      "this is range 55 155 9 372 416 46\n",
      "(512, 512, 86)\n",
      "786337\n",
      "this is range 35 158 5 366 409 39\n",
      "(512, 512, 62)\n",
      "494442\n",
      "this is range 35 159 0 366 409 15\n",
      "(512, 512, 46)\n",
      "537723\n",
      "this is range 43 184 7 372 405 39\n",
      "(512, 512, 45)\n",
      "716804\n",
      "this is range 45 178 5 376 409 38\n",
      "(512, 512, 63)\n",
      "534727\n",
      "this is range 33 151 0 294 425 23\n",
      "(512, 512, 131)\n",
      "429592\n",
      "this is range 49 136 63 284 392 91\n",
      "(512, 512, 45)\n",
      "712207\n",
      "this is range 52 163 14 349 414 44\n",
      "(512, 512, 45)\n",
      "881325\n",
      "this is range 50 161 5 356 418 45\n",
      "(512, 512, 87)\n",
      "853017\n",
      "this is range 46 163 48 353 419 87\n",
      "(512, 512, 45)\n",
      "849766\n",
      "this is range 50 170 5 364 425 45\n",
      "(512, 512, 73)\n",
      "507937\n",
      "this is range 50 146 44 310 410 72\n",
      "(512, 512, 37)\n",
      "476905\n",
      "this is range 57 147 7 330 406 36\n",
      "(512, 512, 37)\n",
      "474962\n",
      "this is range 56 149 7 331 405 35\n",
      "(512, 512, 73)\n",
      "520567\n",
      "this is range 50 138 44 329 411 73\n",
      "(512, 512, 47)\n",
      "556120\n",
      "this is range 69 149 15 330 398 45\n",
      "(512, 512, 212)\n",
      "588726\n",
      "this is range 78 162 87 362 335 137\n",
      "(512, 512, 529)\n",
      "2320373\n",
      "this is range 78 159 333 366 331 528\n",
      "(512, 512, 792)\n",
      "2256705\n",
      "this is range 78 161 325 366 335 513\n",
      "(512, 512, 142)\n",
      "613834\n",
      "this is range 77 159 90 364 331 141\n",
      "(512, 512, 37)\n",
      "550599\n",
      "this is range 48 175 4 305 443 35\n",
      "(512, 512, 81)\n",
      "766679\n",
      "this is range 25 114 6 330 423 38\n",
      "(512, 512, 40)\n",
      "513913\n",
      "this is range 42 178 5 316 412 37\n",
      "(512, 512, 42)\n",
      "633955\n",
      "this is range 39 180 7 331 437 38\n",
      "(512, 512, 58)\n",
      "530552\n",
      "this is range 25 114 0 330 423 15\n",
      "(512, 512, 43)\n",
      "691279\n",
      "this is range 12 93 7 294 406 40\n",
      "(512, 512, 43)\n",
      "598717\n",
      "this is range 31 108 7 300 402 40\n",
      "(512, 512, 43)\n",
      "484785\n",
      "this is range 52 163 7 283 438 40\n",
      "(512, 512, 45)\n",
      "498505\n",
      "this is range 77 153 4 326 360 39\n",
      "(512, 512, 47)\n",
      "352550\n",
      "this is range 37 123 17 248 398 43\n",
      "(512, 512, 66)\n",
      "444790\n",
      "this is range 63 118 0 310 384 23\n",
      "(512, 512, 46)\n",
      "465308\n",
      "this is range 55 130 7 320 391 41\n",
      "(512, 512, 134)\n",
      "486738\n",
      "this is range 64 118 57 311 383 91\n",
      "(512, 512, 53)\n",
      "384207\n",
      "this is range 41 291 20 295 451 48\n",
      "(512, 512, 98)\n",
      "1141254\n",
      "this is range 41 185 50 406 456 94\n",
      "(512, 512, 58)\n",
      "746762\n",
      "this is range 45 296 10 333 464 51\n",
      "(512, 512, 58)\n",
      "1153558\n",
      "this is range 36 182 10 405 457 54\n",
      "(512, 512, 85)\n",
      "662434\n",
      "this is range 67 175 2 390 388 38\n",
      "(512, 512, 37)\n",
      "221140\n",
      "this is range 78 225 16 227 382 36\n",
      "(512, 512, 35)\n",
      "556502\n",
      "this is range 80 195 0 372 395 33\n",
      "(512, 512, 60)\n",
      "346498\n",
      "this is range 68 173 0 390 388 13\n",
      "(512, 512, 92)\n",
      "523839\n",
      "this is range 42 166 53 312 417 87\n",
      "(512, 512, 37)\n",
      "394940\n",
      "this is range 29 166 3 215 368 35\n",
      "(512, 512, 39)\n",
      "190969\n",
      "this is range 69 225 5 279 440 36\n",
      "(512, 512, 46)\n",
      "696010\n",
      "this is range 52 102 8 343 384 40\n",
      "(512, 512, 93)\n",
      "754408\n",
      "this is range 62 137 46 389 420 88\n",
      "(512, 512, 41)\n",
      "557704\n",
      "this is range 43 197 6 283 457 40\n",
      "(512, 512, 41)\n",
      "285733\n",
      "this is range 45 216 5 226 411 39\n",
      "(512, 512, 45)\n",
      "806922\n",
      "this is range 48 111 9 326 417 41\n",
      "(512, 512, 41)\n",
      "658953\n",
      "this is range 43 144 6 309 405 39\n",
      "(512, 512, 58)\n",
      "593407\n",
      "this is range 45 125 0 310 403 19\n",
      "(512, 512, 127)\n",
      "719632\n",
      "this is range 46 124 55 310 403 88\n",
      "(512, 512, 73)\n",
      "1223046\n",
      "this is range 59 127 9 347 408 70\n",
      "(512, 512, 45)\n",
      "498505\n",
      "this is range 77 153 4 326 360 39\n",
      "(512, 512, 50)\n",
      "195264\n",
      "this is range 84 125 19 250 296 48\n",
      "(512, 512, 70)\n",
      "546990\n",
      "this is range 52 202 39 335 461 70\n",
      "(512, 512, 38)\n",
      "532618\n",
      "this is range 51 225 8 325 456 38\n",
      "(512, 512, 38)\n",
      "498078\n",
      "this is range 44 227 8 319 464 38\n",
      "(512, 512, 11)\n",
      "321545\n",
      "this is range 61 212 0 349 460 11\n",
      "(512, 512, 43)\n",
      "677055\n",
      "this is range 38 112 4 304 386 38\n",
      "(512, 512, 43)\n",
      "712806\n",
      "this is range 39 106 4 310 384 39\n",
      "(512, 512, 137)\n",
      "718201\n",
      "this is range 72 119 83 323 339 131\n",
      "(512, 512, 78)\n",
      "661942\n",
      "this is range 79 123 24 317 338 72\n",
      "(512, 512, 137)\n",
      "722218\n",
      "this is range 73 119 83 327 344 131\n",
      "(512, 512, 148)\n",
      "1677297\n",
      "this is range 40 143 48 340 393 136\n",
      "(512, 512, 132)\n",
      "767547\n",
      "this is range 31 117 67 353 414 97\n",
      "(512, 512, 41)\n",
      "420047\n",
      "this is range 29 149 11 331 404 38\n",
      "(512, 512, 451)\n",
      "2323553\n",
      "this is range 47 138 230 356 419 331\n",
      "(512, 512, 56)\n",
      "629532\n",
      "this is range 46 139 0 354 413 21\n",
      "(512, 512, 97)\n",
      "1116786\n",
      "this is range 25 118 10 384 405 49\n",
      "(512, 512, 56)\n",
      "789899\n",
      "this is range 27 181 8 329 407 46\n",
      "(512, 512, 60)\n",
      "425313\n",
      "this is range 24 118 0 331 396 12\n",
      "(512, 512, 56)\n",
      "1030115\n",
      "this is range 23 117 9 381 401 47\n",
      "(512, 512, 166)\n",
      "3216334\n",
      "this is range 27 165 25 332 442 154\n",
      "(512, 512, 69)\n",
      "862273\n",
      "this is range 36 159 19 335 420 63\n",
      "(512, 512, 65)\n",
      "890838\n",
      "this is range 41 130 14 315 392 60\n",
      "(512, 512, 156)\n",
      "720518\n",
      "this is range 87 145 94 328 384 146\n",
      "(512, 512, 582)\n",
      "2646430\n",
      "this is range 84 152 345 337 383 544\n",
      "(512, 512, 79)\n",
      "626315\n",
      "this is range 87 156 16 321 384 69\n",
      "(512, 512, 582)\n",
      "2727435\n",
      "this is range 87 144 349 326 384 545\n",
      "(512, 512, 155)\n",
      "686870\n",
      "this is range 84 152 11 332 383 62\n",
      "(512, 512, 148)\n",
      "2003212\n",
      "this is range 53 127 16 325 418 136\n",
      "(512, 512, 44)\n",
      "580785\n",
      "this is range 54 128 2 316 416 38\n",
      "(512, 512, 122)\n",
      "801497\n",
      "this is range 45 127 81 316 412 119\n",
      "(512, 512, 60)\n",
      "545517\n",
      "this is range 56 157 17 312 407 55\n",
      "(512, 512, 60)\n",
      "776169\n",
      "this is range 46 135 17 315 411 55\n",
      "(512, 512, 137)\n",
      "866844\n",
      "this is range 114 204 0 315 384 59\n",
      "(512, 512, 305)\n",
      "895174\n",
      "this is range 113 199 156 315 384 227\n",
      "(512, 512, 40)\n",
      "274004\n",
      "this is range 18 186 18 251 337 39\n",
      "(512, 512, 75)\n",
      "786723\n",
      "this is range 27 118 1 293 416 38\n",
      "(512, 512, 80)\n",
      "861636\n",
      "this is range 21 114 41 282 422 79\n",
      "(512, 512, 40)\n",
      "142615\n",
      "this is range 113 256 19 287 411 39\n",
      "(512, 512, 40)\n",
      "589802\n",
      "this is range 44 202 4 321 448 40\n",
      "(512, 512, 10)\n",
      "21173\n",
      "this is range 273 276 3 379 402 8\n",
      "(512, 512, 38)\n",
      "1167\n",
      "this is range 127 224 35 160 290 37\n",
      "(512, 512, 40)\n",
      "682206\n",
      "this is range 38 130 6 346 412 39\n",
      "(512, 512, 42)\n",
      "1829\n",
      "this is range 269 299 23 300 354 31\n",
      "(512, 512, 42)\n",
      "563323\n",
      "this is range 58 131 6 323 363 38\n",
      "(512, 512, 65)\n",
      "949447\n",
      "this is range 33 177 5 368 437 56\n",
      "(512, 512, 321)\n",
      "4842839\n",
      "this is range 32 179 20 379 437 279\n",
      "(512, 512, 401)\n",
      "4774482\n",
      "this is range 32 170 106 383 437 363\n",
      "(512, 512, 81)\n",
      "943674\n",
      "this is range 32 171 22 371 437 73\n",
      "(512, 512, 401)\n",
      "4776811\n",
      "this is range 32 170 106 383 437 363\n",
      "(512, 512, 321)\n",
      "4843631\n",
      "this is range 32 180 20 379 437 279\n",
      "(512, 512, 37)\n",
      "779045\n",
      "this is range 61 147 3 407 381 34\n",
      "(512, 512, 37)\n",
      "786186\n",
      "this is range 63 153 3 408 385 34\n",
      "(512, 512, 113)\n",
      "787047\n",
      "this is range 63 130 73 409 361 109\n",
      "(512, 512, 431)\n",
      "1935162\n",
      "this is range 88 172 262 321 351 415\n",
      "(512, 512, 87)\n",
      "719390\n",
      "this is range 27 141 53 342 387 83\n",
      "(512, 512, 206)\n",
      "3643836\n",
      "this is range 34 157 34 353 405 187\n",
      "(512, 512, 42)\n",
      "726843\n",
      "this is range 35 157 7 350 405 38\n",
      "(512, 512, 63)\n",
      "989070\n",
      "this is range 49 120 10 313 396 55\n",
      "(512, 512, 311)\n",
      "5008138\n",
      "this is range 49 120 45 314 396 278\n",
      "(512, 512, 34)\n",
      "469708\n",
      "this is range 45 160 2 329 436 31\n",
      "(512, 512, 34)\n",
      "581687\n",
      "this is range 41 145 3 333 431 33\n",
      "(512, 512, 60)\n",
      "555898\n",
      "this is range 25 113 0 355 452 16\n",
      "(512, 512, 78)\n",
      "607627\n",
      "this is range 42 111 6 344 437 34\n",
      "(512, 512, 47)\n",
      "56371\n",
      "this is range 80 123 19 174 252 42\n",
      "(512, 512, 35)\n",
      "408430\n",
      "this is range 55 124 4 286 391 32\n",
      "(512, 512, 35)\n",
      "391969\n",
      "this is range 53 123 3 280 393 31\n",
      "(512, 512, 88)\n",
      "388240\n",
      "this is range 42 144 56 225 422 81\n",
      "(512, 512, 92)\n",
      "1302398\n",
      "this is range 64 144 16 338 406 88\n",
      "(512, 512, 65)\n",
      "463852\n",
      "this is range 55 145 0 330 415 17\n",
      "(512, 512, 48)\n",
      "560984\n",
      "this is range 60 141 5 324 401 41\n",
      "(512, 512, 137)\n",
      "754431\n",
      "this is range 48 124 53 333 407 89\n",
      "(512, 512, 35)\n",
      "700338\n",
      "this is range 54 127 2 343 383 32\n",
      "(512, 512, 35)\n",
      "703488\n",
      "this is range 61 131 1 352 388 31\n",
      "(512, 512, 167)\n",
      "2341258\n",
      "this is range 54 117 51 370 390 155\n",
      "(512, 512, 47)\n",
      "677609\n",
      "this is range 53 118 14 362 390 44\n",
      "(512, 512, 71)\n",
      "405763\n",
      "this is range 62 110 0 337 398 13\n",
      "(512, 512, 46)\n",
      "539512\n",
      "this is range 72 140 5 323 396 41\n",
      "(512, 512, 161)\n",
      "739831\n",
      "this is range 63 108 71 332 398 103\n",
      "(512, 512, 53)\n",
      "692868\n",
      "this is range 66 113 13 328 397 48\n",
      "(512, 512, 46)\n",
      "518129\n",
      "this is range 83 148 6 347 379 40\n",
      "(512, 512, 41)\n",
      "662456\n",
      "this is range 49 91 5 321 382 37\n",
      "(512, 512, 41)\n",
      "419063\n",
      "this is range 56 177 6 320 377 38\n",
      "(512, 512, 40)\n",
      "643123\n",
      "this is range 51 94 5 317 380 37\n",
      "(512, 512, 54)\n",
      "649109\n",
      "this is range 34 114 0 312 384 22\n",
      "(512, 512, 120)\n",
      "482368\n",
      "this is range 69 135 60 302 364 88\n",
      "(512, 512, 39)\n",
      "457938\n",
      "this is range 86 150 2 312 413 35\n",
      "(512, 512, 42)\n",
      "733204\n",
      "this is range 32 188 3 355 419 34\n",
      "(512, 512, 44)\n",
      "486293\n",
      "this is range 74 159 13 325 408 42\n",
      "(512, 512, 118)\n",
      "1240988\n",
      "this is range 73 159 38 328 409 109\n",
      "(512, 512, 44)\n",
      "509584\n",
      "this is range 73 160 13 324 411 42\n",
      "(512, 512, 119)\n",
      "1284088\n",
      "this is range 73 159 36 327 412 112\n",
      "(512, 512, 151)\n",
      "692111\n",
      "this is range 112 184 94 392 379 145\n",
      "(512, 512, 152)\n",
      "650193\n",
      "this is range 114 187 23 390 373 73\n",
      "(512, 512, 81)\n",
      "12146\n",
      "this is range 311 321 56 383 395 68\n",
      "(512, 512, 217)\n",
      "3601420\n",
      "this is range 60 103 23 360 373 217\n",
      "(512, 512, 67)\n",
      "1344316\n",
      "this is range 40 136 2 327 417 67\n",
      "(512, 512, 334)\n",
      "6733126\n",
      "this is range 42 136 35 323 417 334\n",
      "(512, 512, 47)\n",
      "396180\n",
      "this is range 33 174 6 257 401 38\n",
      "(512, 512, 91)\n",
      "856453\n",
      "this is range 48 133 3 379 407 40\n",
      "(512, 512, 45)\n",
      "699479\n",
      "this is range 42 186 5 367 418 41\n",
      "(512, 512, 46)\n",
      "639282\n",
      "this is range 49 228 6 375 443 41\n",
      "(512, 512, 58)\n",
      "251941\n",
      "this is range 42 134 0 371 405 7\n",
      "(512, 512, 72)\n",
      "873964\n",
      "this is range 55 149 6 306 408 62\n",
      "(512, 512, 360)\n",
      "4417084\n",
      "this is range 55 148 29 307 409 311\n",
      "(512, 512, 52)\n",
      "377377\n",
      "this is range 86 239 18 258 433 47\n",
      "(512, 512, 89)\n",
      "1520941\n",
      "this is range 44 151 9 364 452 84\n",
      "(512, 512, 94)\n",
      "825900\n",
      "this is range 55 151 44 358 435 90\n",
      "(512, 512, 596)\n",
      "5855264\n",
      "this is range 39 131 313 368 420 565\n",
      "(512, 512, 159)\n",
      "1553926\n",
      "this is range 39 131 83 355 420 150\n",
      "(512, 512, 317)\n",
      "1144022\n",
      "this is range 74 191 98 351 389 187\n",
      "(512, 512, 171)\n",
      "798361\n",
      "this is range 74 191 0 392 389 41\n",
      "(512, 512, 45)\n",
      "703462\n",
      "this is range 72 129 7 360 368 41\n",
      "(512, 512, 42)\n",
      "488553\n",
      "this is range 72 158 8 322 383 39\n",
      "(512, 512, 67)\n",
      "428595\n",
      "this is range 72 152 0 323 389 18\n",
      "(512, 512, 130)\n",
      "606626\n",
      "this is range 72 151 48 318 389 81\n",
      "(512, 512, 109)\n",
      "725637\n",
      "this is range 76 121 3 364 357 46\n",
      "(512, 512, 109)\n",
      "722120\n",
      "this is range 76 122 3 355 357 46\n",
      "(512, 512, 51)\n",
      "491959\n",
      "this is range 94 170 3 346 357 46\n",
      "(512, 512, 52)\n",
      "693928\n",
      "this is range 78 124 4 351 354 46\n",
      "(512, 512, 52)\n",
      "467355\n",
      "this is range 93 217 2 362 361 44\n",
      "(512, 512, 39)\n",
      "642691\n",
      "this is range 72 136 3 393 389 37\n",
      "(512, 512, 38)\n",
      "320315\n",
      "this is range 104 206 5 357 404 36\n",
      "(512, 512, 39)\n",
      "422829\n",
      "this is range 100 174 5 371 400 38\n",
      "(512, 512, 105)\n",
      "445017\n",
      "this is range 73 195 40 348 433 68\n",
      "(512, 512, 51)\n",
      "350856\n",
      "this is range 74 195 0 349 434 14\n",
      "(512, 512, 37)\n",
      "99578\n",
      "this is range 120 308 16 363 446 33\n",
      "(512, 512, 348)\n",
      "1550115\n",
      "this is range 72 194 131 369 434 227\n",
      "(512, 512, 37)\n",
      "372629\n",
      "this is range 97 219 6 367 444 33\n",
      "(512, 512, 175)\n",
      "2292131\n",
      "this is range 30 107 50 301 365 159\n",
      "(512, 512, 45)\n",
      "478924\n",
      "this is range 80 153 17 340 380 43\n",
      "(512, 512, 159)\n",
      "1644470\n",
      "this is range 79 149 59 339 381 149\n",
      "(512, 512, 47)\n",
      "588762\n",
      "this is range 75 169 6 290 409 44\n",
      "(512, 512, 51)\n",
      "756987\n",
      "this is range 77 137 9 309 412 48\n",
      "(512, 512, 48)\n",
      "650648\n",
      "this is range 85 206 5 316 416 44\n",
      "(512, 512, 51)\n",
      "742391\n",
      "this is range 75 139 8 306 412 47\n",
      "(512, 512, 41)\n",
      "643822\n",
      "this is range 65 121 7 317 405 37\n",
      "(512, 512, 36)\n",
      "619845\n",
      "this is range 52 162 4 349 413 32\n",
      "(512, 512, 36)\n",
      "539150\n",
      "this is range 44 183 5 339 425 32\n",
      "(512, 512, 55)\n",
      "701589\n",
      "this is range 60 224 12 349 402 50\n",
      "(512, 512, 58)\n",
      "902333\n",
      "this is range 71 147 14 363 395 54\n",
      "(512, 512, 61)\n",
      "815715\n",
      "this is range 61 213 18 351 404 55\n",
      "(512, 512, 58)\n",
      "969874\n",
      "this is range 51 158 13 351 401 52\n",
      "(512, 512, 37)\n",
      "647819\n",
      "this is range 31 104 4 293 399 35\n",
      "(512, 512, 37)\n",
      "581537\n",
      "this is range 14 114 6 279 405 36\n",
      "(512, 512, 54)\n",
      "495677\n",
      "this is range 27 84 0 305 400 14\n",
      "(512, 512, 77)\n",
      "707076\n",
      "this is range 27 84 6 307 399 37\n",
      "(512, 512, 71)\n",
      "781681\n",
      "this is range 71 120 13 296 366 61\n",
      "(512, 512, 158)\n",
      "1939337\n",
      "this is range 64 110 23 358 367 135\n",
      "(512, 512, 158)\n",
      "1899056\n",
      "this is range 67 107 21 347 368 127\n",
      "(512, 512, 44)\n",
      "578969\n",
      "this is range 64 111 5 355 366 38\n",
      "(512, 512, 44)\n",
      "560620\n",
      "this is range 68 108 4 350 367 36\n",
      "(512, 512, 37)\n",
      "645220\n",
      "this is range 81 144 4 353 388 35\n",
      "(512, 512, 39)\n",
      "381404\n",
      "this is range 38 177 3 327 423 32\n",
      "(512, 512, 38)\n",
      "77817\n",
      "this is range 126 270 14 321 431 33\n",
      "(512, 512, 206)\n",
      "1577363\n",
      "this is range 38 155 71 304 445 191\n",
      "(512, 512, 67)\n",
      "785518\n",
      "this is range 61 159 4 347 397 51\n",
      "(512, 512, 67)\n",
      "785518\n",
      "this is range 61 159 4 347 397 51\n",
      "(512, 512, 65)\n",
      "553584\n",
      "this is range 66 208 10 345 396 55\n"
     ]
    }
   ],
   "source": [
    "cropped_out_path = '../../Data/CT_Phase/Full_image_Liver_slice_07075'\n",
    "#load the images\n",
    "image_orig_load = ImageLoad(\"../../Data/CT_Phase/Full_Image_Liver/\")\n",
    "image_seg_load = ImageLoad(\"../../Data/CT_Phase/Task_502_Phase_Data/\")\n",
    "for i in range(image_orig_load.images_num):\n",
    "    file_name = image_orig_load.images_names[i]\n",
    "    image_orign,image_segg = image_orig_load.image_load(image_orig_load.image_path[i]),image_seg_load.image_load(image_seg_load.image_path[i])\n",
    "\n",
    "    #finding bounding box\n",
    "    liver_bbox = LiverBoundingBox(image_segg,image_orign,cropped_out_path,file_name)\n",
    "    liver_mask = liver_bbox.extract_liver()\n",
    "    if liver_bbox.liver_detection(liver_mask):\n",
    "        liver_box_range = liver_bbox.get_liver_bounding_box(liver_mask)\n",
    "        image_liver_slice[file_name] = liver_box_range\n",
    "        \n",
    "    else:\n",
    "        liver_bbox._recording_failing()"
   ]
  },
  {
   "cell_type": "code",
   "execution_count": 61,
   "metadata": {},
   "outputs": [],
   "source": [
    "def save_liver_slice(image_path,image_name,cropped_out_path,slice_margin=0):\n",
    "    \"\"\"\n",
    "    args:\n",
    "        image_path: the path of the image\n",
    "        image_name: the name of the image\n",
    "        slice_margin: the margin of the slice\n",
    "    \"\"\"\n",
    "    image = nib.load(image_path)\n",
    "    image_data = image.get_fdata()\n",
    "    image_shape = image_data.shape\n",
    "    print(image_shape,666)\n",
    "    min_row, min_col, min_slice, max_row, max_col, max_slice = image_liver_slice[image_name]\n",
    "    print('min and max slice',min_slice,max_slice)\n",
    "    min_slice = max(0,math.floor(min_slice - min_slice*slice_margin))\n",
    "    print('fucking max slice',max_slice)\n",
    "    max_slice = min(image_shape[2],math.ceil(max_slice + max_slice* slice_margin))\n",
    "    print(\"fucking after\",max_slice)\n",
    "    print(min_slice,max_slice)\n",
    "    image_data = image_data[:,:,min_slice:max_slice]\n",
    "    print(image_data.shape)\n",
    "    image = nib.Nifti1Image(image_data, image.affine, image.header)\n",
    "    nib.save(image, cropped_out_path + '/' + image_name)\n",
    "    print('saved!')"
   ]
  },
  {
   "cell_type": "code",
   "execution_count": 69,
   "metadata": {},
   "outputs": [
    {
     "data": {
      "text/plain": [
       "(521, 521, 112)"
      ]
     },
     "execution_count": 69,
     "metadata": {},
     "output_type": "execute_result"
    }
   ],
   "source": [
    "image_orign = nib.load('../../Data/CT_Phase/Full_Image_Liver_07075/CILM_CT_101040_0000.nii.gz')\n",
    "image_orign.shape"
   ]
  },
  {
   "cell_type": "code",
   "execution_count": 71,
   "metadata": {},
   "outputs": [
    {
     "name": "stdout",
     "output_type": "stream",
     "text": [
      "(521, 521, 112) 666\n",
      "min and max slice 72 111\n",
      "fucking max slice 111\n",
      "fucking after 112\n",
      "57 112\n",
      "(521, 521, 55)\n",
      "saved!\n"
     ]
    },
    {
     "name": "stderr",
     "output_type": "stream",
     "text": [
      "  0%|          | 0/263 [00:00<?, ?it/s]"
     ]
    },
    {
     "name": "stdout",
     "output_type": "stream",
     "text": [
      "(512, 512, 112) 666\n",
      "min and max slice 72 111\n",
      "fucking max slice 111\n",
      "fucking after 112\n",
      "57 112\n",
      "(512, 512, 55)\n"
     ]
    },
    {
     "name": "stderr",
     "output_type": "stream",
     "text": [
      "  0%|          | 1/263 [00:00<03:41,  1.18it/s]"
     ]
    },
    {
     "name": "stdout",
     "output_type": "stream",
     "text": [
      "saved!\n",
      "(512, 512, 56) 666\n",
      "min and max slice 19 54\n",
      "fucking max slice 54\n",
      "fucking after 56\n",
      "15 56\n",
      "(512, 512, 41)\n"
     ]
    },
    {
     "name": "stderr",
     "output_type": "stream",
     "text": [
      "  1%|          | 2/263 [00:01<03:01,  1.43it/s]"
     ]
    },
    {
     "name": "stdout",
     "output_type": "stream",
     "text": [
      "saved!\n",
      "(512, 512, 37) 666\n",
      "min and max slice 7 35\n",
      "fucking max slice 35\n",
      "fucking after 37\n",
      "5 37\n",
      "(512, 512, 32)\n"
     ]
    },
    {
     "name": "stderr",
     "output_type": "stream",
     "text": [
      "  1%|          | 3/263 [00:01<02:28,  1.75it/s]"
     ]
    },
    {
     "name": "stdout",
     "output_type": "stream",
     "text": [
      "saved!\n",
      "(512, 512, 61) 666\n",
      "min and max slice 2 58\n",
      "fucking max slice 58\n",
      "fucking after 61\n",
      "1 61\n",
      "(512, 512, 60)\n"
     ]
    },
    {
     "name": "stderr",
     "output_type": "stream",
     "text": [
      "  2%|▏         | 4/263 [00:02<02:50,  1.52it/s]"
     ]
    },
    {
     "name": "stdout",
     "output_type": "stream",
     "text": [
      "saved!\n",
      "(512, 512, 79) 666\n",
      "min and max slice 42 77\n",
      "fucking max slice 77\n",
      "fucking after 79\n",
      "33 79\n",
      "(512, 512, 46)\n"
     ]
    },
    {
     "name": "stderr",
     "output_type": "stream",
     "text": [
      "  2%|▏         | 5/263 [00:03<02:53,  1.49it/s]"
     ]
    },
    {
     "name": "stdout",
     "output_type": "stream",
     "text": [
      "saved!\n",
      "(512, 512, 59) 666\n",
      "min and max slice 0 12\n",
      "fucking max slice 12\n",
      "fucking after 15\n",
      "0 15\n",
      "(512, 512, 15)\n"
     ]
    },
    {
     "name": "stderr",
     "output_type": "stream",
     "text": [
      "  2%|▏         | 6/263 [00:03<02:24,  1.78it/s]"
     ]
    },
    {
     "name": "stdout",
     "output_type": "stream",
     "text": [
      "saved!\n",
      "(512, 512, 127) 666\n",
      "min and max slice 48 79\n",
      "fucking max slice 79\n",
      "fucking after 95\n",
      "38 95\n",
      "(512, 512, 57)\n"
     ]
    },
    {
     "name": "stderr",
     "output_type": "stream",
     "text": [
      "  3%|▎         | 7/263 [00:04<02:50,  1.50it/s]"
     ]
    },
    {
     "name": "stdout",
     "output_type": "stream",
     "text": [
      "saved!\n",
      "(512, 512, 48) 666\n",
      "min and max slice 5 43\n",
      "fucking max slice 43\n",
      "fucking after 48\n",
      "4 48\n",
      "(512, 512, 44)\n"
     ]
    },
    {
     "name": "stderr",
     "output_type": "stream",
     "text": [
      "  3%|▎         | 8/263 [00:05<02:48,  1.51it/s]"
     ]
    },
    {
     "name": "stdout",
     "output_type": "stream",
     "text": [
      "saved!\n",
      "(512, 512, 42) 666\n",
      "min and max slice 0 36\n",
      "fucking max slice 36\n",
      "fucking after 42\n",
      "0 42\n",
      "(512, 512, 42)\n"
     ]
    },
    {
     "name": "stderr",
     "output_type": "stream",
     "text": [
      "  3%|▎         | 9/263 [00:05<02:41,  1.57it/s]"
     ]
    },
    {
     "name": "stdout",
     "output_type": "stream",
     "text": [
      "saved!\n",
      "(512, 512, 48) 666\n",
      "min and max slice 5 43\n",
      "fucking max slice 43\n",
      "fucking after 48\n",
      "4 48\n",
      "(512, 512, 44)\n"
     ]
    },
    {
     "name": "stderr",
     "output_type": "stream",
     "text": [
      "  4%|▍         | 10/263 [00:06<02:39,  1.58it/s]"
     ]
    },
    {
     "name": "stdout",
     "output_type": "stream",
     "text": [
      "saved!\n",
      "(512, 512, 34) 666\n",
      "min and max slice 1 32\n",
      "fucking max slice 32\n",
      "fucking after 34\n",
      "0 34\n",
      "(512, 512, 34)\n"
     ]
    },
    {
     "name": "stderr",
     "output_type": "stream",
     "text": [
      "  4%|▍         | 11/263 [00:06<02:26,  1.73it/s]"
     ]
    },
    {
     "name": "stdout",
     "output_type": "stream",
     "text": [
      "saved!\n",
      "(512, 512, 60) 666\n",
      "min and max slice 0 15\n",
      "fucking max slice 15\n",
      "fucking after 18\n",
      "0 18\n",
      "(512, 512, 18)\n"
     ]
    },
    {
     "name": "stderr",
     "output_type": "stream",
     "text": [
      "  5%|▍         | 12/263 [00:07<02:21,  1.78it/s]"
     ]
    },
    {
     "name": "stdout",
     "output_type": "stream",
     "text": [
      "saved!\n",
      "(512, 512, 113) 666\n",
      "min and max slice 6 108\n",
      "fucking max slice 108\n",
      "fucking after 113\n",
      "4 113\n",
      "(512, 512, 109)\n"
     ]
    },
    {
     "name": "stderr",
     "output_type": "stream",
     "text": [
      "  5%|▍         | 13/263 [00:08<03:27,  1.20it/s]"
     ]
    },
    {
     "name": "stdout",
     "output_type": "stream",
     "text": [
      "saved!\n",
      "(512, 512, 125) 666\n",
      "min and max slice 49 80\n",
      "fucking max slice 80\n",
      "fucking after 96\n",
      "39 96\n",
      "(512, 512, 57)\n"
     ]
    },
    {
     "name": "stderr",
     "output_type": "stream",
     "text": [
      "  5%|▌         | 14/263 [00:09<03:42,  1.12it/s]"
     ]
    },
    {
     "name": "stdout",
     "output_type": "stream",
     "text": [
      "saved!\n",
      "(512, 512, 142) 666\n",
      "min and max slice 85 140\n",
      "fucking max slice 140\n",
      "fucking after 142\n",
      "68 142\n",
      "(512, 512, 74)\n"
     ]
    },
    {
     "name": "stderr",
     "output_type": "stream",
     "text": [
      "  6%|▌         | 15/263 [00:11<03:58,  1.04it/s]"
     ]
    },
    {
     "name": "stdout",
     "output_type": "stream",
     "text": [
      "saved!\n",
      "(512, 512, 65) 666\n",
      "min and max slice 8 62\n",
      "fucking max slice 62\n",
      "fucking after 65\n",
      "6 65\n",
      "(512, 512, 59)\n"
     ]
    },
    {
     "name": "stderr",
     "output_type": "stream",
     "text": [
      "  6%|▌         | 16/263 [00:11<03:41,  1.12it/s]"
     ]
    },
    {
     "name": "stdout",
     "output_type": "stream",
     "text": [
      "saved!\n",
      "(512, 512, 142) 666\n",
      "min and max slice 86 141\n",
      "fucking max slice 141\n",
      "fucking after 142\n",
      "68 142\n",
      "(512, 512, 74)\n"
     ]
    },
    {
     "name": "stderr",
     "output_type": "stream",
     "text": [
      "  6%|▋         | 17/263 [00:12<03:54,  1.05it/s]"
     ]
    },
    {
     "name": "stdout",
     "output_type": "stream",
     "text": [
      "saved!\n",
      "(512, 512, 38) 666\n",
      "min and max slice 8 36\n",
      "fucking max slice 36\n",
      "fucking after 38\n",
      "6 38\n",
      "(512, 512, 32)\n"
     ]
    },
    {
     "name": "stderr",
     "output_type": "stream",
     "text": [
      "  7%|▋         | 18/263 [00:13<03:15,  1.26it/s]"
     ]
    },
    {
     "name": "stdout",
     "output_type": "stream",
     "text": [
      "saved!\n",
      "(512, 512, 38) 666\n",
      "min and max slice 7 36\n",
      "fucking max slice 36\n",
      "fucking after 38\n",
      "5 38\n",
      "(512, 512, 33)\n"
     ]
    },
    {
     "name": "stderr",
     "output_type": "stream",
     "text": [
      "  7%|▋         | 19/263 [00:13<02:49,  1.44it/s]"
     ]
    },
    {
     "name": "stdout",
     "output_type": "stream",
     "text": [
      "saved!\n",
      "(512, 512, 130) 666\n",
      "min and max slice 96 126\n",
      "fucking max slice 126\n",
      "fucking after 130\n",
      "76 130\n",
      "(512, 512, 54)\n"
     ]
    },
    {
     "name": "stderr",
     "output_type": "stream",
     "text": [
      "  8%|▊         | 20/263 [00:14<03:04,  1.32it/s]"
     ]
    },
    {
     "name": "stdout",
     "output_type": "stream",
     "text": [
      "saved!\n",
      "(512, 512, 130) 666\n",
      "min and max slice 96 126\n",
      "fucking max slice 126\n",
      "fucking after 130\n",
      "76 130\n",
      "(512, 512, 54)\n"
     ]
    },
    {
     "name": "stderr",
     "output_type": "stream",
     "text": [
      "  8%|▊         | 21/263 [00:15<03:11,  1.26it/s]"
     ]
    },
    {
     "name": "stdout",
     "output_type": "stream",
     "text": [
      "saved!\n",
      "(512, 512, 60) 666\n",
      "min and max slice 11 53\n",
      "fucking max slice 53\n",
      "fucking after 60\n",
      "8 60\n",
      "(512, 512, 52)\n"
     ]
    },
    {
     "name": "stderr",
     "output_type": "stream",
     "text": [
      "  8%|▊         | 22/263 [00:16<03:06,  1.29it/s]"
     ]
    },
    {
     "name": "stdout",
     "output_type": "stream",
     "text": [
      "saved!\n",
      "(512, 512, 60) 666\n",
      "min and max slice 11 52\n",
      "fucking max slice 52\n",
      "fucking after 60\n",
      "8 60\n",
      "(512, 512, 52)\n"
     ]
    },
    {
     "name": "stderr",
     "output_type": "stream",
     "text": [
      "  9%|▊         | 23/263 [00:16<03:00,  1.33it/s]"
     ]
    },
    {
     "name": "stdout",
     "output_type": "stream",
     "text": [
      "saved!\n",
      "(512, 512, 60) 666\n",
      "min and max slice 12 54\n",
      "fucking max slice 54\n",
      "fucking after 60\n",
      "9 60\n",
      "(512, 512, 51)\n"
     ]
    },
    {
     "name": "stderr",
     "output_type": "stream",
     "text": [
      "  9%|▉         | 24/263 [00:17<02:56,  1.35it/s]"
     ]
    },
    {
     "name": "stdout",
     "output_type": "stream",
     "text": [
      "saved!\n",
      "(512, 512, 93) 666\n",
      "min and max slice 59 89\n",
      "fucking max slice 89\n",
      "fucking after 93\n",
      "47 93\n",
      "(512, 512, 46)\n"
     ]
    },
    {
     "name": "stderr",
     "output_type": "stream",
     "text": [
      " 10%|▉         | 25/263 [00:18<02:59,  1.33it/s]"
     ]
    },
    {
     "name": "stdout",
     "output_type": "stream",
     "text": [
      "saved!\n",
      "(512, 512, 86) 666\n",
      "min and max slice 31 82\n",
      "fucking max slice 82\n",
      "fucking after 86\n",
      "24 86\n",
      "(512, 512, 62)\n"
     ]
    },
    {
     "name": "stderr",
     "output_type": "stream",
     "text": [
      " 10%|▉         | 26/263 [00:19<03:12,  1.23it/s]"
     ]
    },
    {
     "name": "stdout",
     "output_type": "stream",
     "text": [
      "saved!\n",
      "(512, 512, 192) 666\n",
      "min and max slice 24 183\n",
      "fucking max slice 183\n",
      "fucking after 192\n",
      "19 192\n",
      "(512, 512, 173)\n"
     ]
    },
    {
     "name": "stderr",
     "output_type": "stream",
     "text": [
      " 10%|█         | 27/263 [00:21<04:44,  1.21s/it]"
     ]
    },
    {
     "name": "stdout",
     "output_type": "stream",
     "text": [
      "saved!\n",
      "(512, 512, 42) 666\n",
      "min and max slice 6 40\n",
      "fucking max slice 40\n",
      "fucking after 42\n",
      "4 42\n",
      "(512, 512, 38)\n"
     ]
    },
    {
     "name": "stderr",
     "output_type": "stream",
     "text": [
      " 11%|█         | 28/263 [00:22<03:58,  1.01s/it]"
     ]
    },
    {
     "name": "stdout",
     "output_type": "stream",
     "text": [
      "saved!\n",
      "(512, 512, 42) 666\n",
      "min and max slice 7 40\n",
      "fucking max slice 40\n",
      "fucking after 42\n",
      "5 42\n",
      "(512, 512, 37)\n"
     ]
    },
    {
     "name": "stderr",
     "output_type": "stream",
     "text": [
      " 11%|█         | 29/263 [00:22<03:22,  1.16it/s]"
     ]
    },
    {
     "name": "stdout",
     "output_type": "stream",
     "text": [
      "saved!\n",
      "(512, 512, 42) 666\n",
      "min and max slice 6 40\n",
      "fucking max slice 40\n",
      "fucking after 42\n",
      "4 42\n",
      "(512, 512, 38)\n"
     ]
    },
    {
     "name": "stderr",
     "output_type": "stream",
     "text": [
      " 11%|█▏        | 30/263 [00:23<02:58,  1.30it/s]"
     ]
    },
    {
     "name": "stdout",
     "output_type": "stream",
     "text": [
      "saved!\n",
      "(512, 512, 42) 666\n",
      "min and max slice 7 40\n",
      "fucking max slice 40\n",
      "fucking after 42\n",
      "5 42\n",
      "(512, 512, 37)\n"
     ]
    },
    {
     "name": "stderr",
     "output_type": "stream",
     "text": [
      " 12%|█▏        | 31/263 [00:23<02:39,  1.46it/s]"
     ]
    },
    {
     "name": "stdout",
     "output_type": "stream",
     "text": [
      "saved!\n",
      "(512, 512, 224) 666\n",
      "min and max slice 103 164\n",
      "fucking max slice 164\n",
      "fucking after 197\n",
      "82 197\n",
      "(512, 512, 115)\n"
     ]
    },
    {
     "name": "stderr",
     "output_type": "stream",
     "text": [
      " 12%|█▏        | 32/263 [00:25<03:40,  1.05it/s]"
     ]
    },
    {
     "name": "stdout",
     "output_type": "stream",
     "text": [
      "saved!\n",
      "(512, 512, 87) 666\n",
      "min and max slice 37 86\n",
      "fucking max slice 86\n",
      "fucking after 87\n",
      "29 87\n",
      "(512, 512, 58)\n"
     ]
    },
    {
     "name": "stderr",
     "output_type": "stream",
     "text": [
      " 13%|█▎        | 33/263 [00:26<03:27,  1.11it/s]"
     ]
    },
    {
     "name": "stdout",
     "output_type": "stream",
     "text": [
      "saved!\n",
      "(512, 512, 164) 666\n",
      "min and max slice 102 163\n",
      "fucking max slice 163\n",
      "fucking after 164\n",
      "81 164\n",
      "(512, 512, 83)\n"
     ]
    },
    {
     "name": "stderr",
     "output_type": "stream",
     "text": [
      " 13%|█▎        | 34/263 [00:27<03:45,  1.02it/s]"
     ]
    },
    {
     "name": "stdout",
     "output_type": "stream",
     "text": [
      "saved!\n",
      "(512, 512, 121) 666\n",
      "min and max slice 49 82\n",
      "fucking max slice 82\n",
      "fucking after 99\n",
      "39 99\n",
      "(512, 512, 60)\n"
     ]
    },
    {
     "name": "stderr",
     "output_type": "stream",
     "text": [
      " 13%|█▎        | 35/263 [00:28<03:43,  1.02it/s]"
     ]
    },
    {
     "name": "stdout",
     "output_type": "stream",
     "text": [
      "saved!\n",
      "(512, 512, 34) 666\n",
      "min and max slice 1 34\n",
      "fucking max slice 34\n",
      "fucking after 34\n",
      "0 34\n",
      "(512, 512, 34)\n"
     ]
    },
    {
     "name": "stderr",
     "output_type": "stream",
     "text": [
      " 14%|█▎        | 36/263 [00:28<03:08,  1.20it/s]"
     ]
    },
    {
     "name": "stdout",
     "output_type": "stream",
     "text": [
      "saved!\n",
      "(512, 512, 54) 666\n",
      "min and max slice 0 15\n",
      "fucking max slice 15\n",
      "fucking after 18\n",
      "0 18\n",
      "(512, 512, 18)\n"
     ]
    },
    {
     "name": "stderr",
     "output_type": "stream",
     "text": [
      " 14%|█▍        | 37/263 [00:29<02:41,  1.40it/s]"
     ]
    },
    {
     "name": "stdout",
     "output_type": "stream",
     "text": [
      "saved!\n",
      "(512, 512, 35) 666\n",
      "min and max slice 17 33\n",
      "fucking max slice 33\n",
      "fucking after 35\n",
      "13 35\n",
      "(512, 512, 22)\n"
     ]
    },
    {
     "name": "stderr",
     "output_type": "stream",
     "text": [
      " 14%|█▍        | 38/263 [00:29<02:16,  1.64it/s]"
     ]
    },
    {
     "name": "stdout",
     "output_type": "stream",
     "text": [
      "saved!\n",
      "(512, 512, 32) 666\n",
      "min and max slice 1 26\n",
      "fucking max slice 26\n",
      "fucking after 32\n",
      "0 32\n",
      "(512, 512, 32)\n"
     ]
    },
    {
     "name": "stderr",
     "output_type": "stream",
     "text": [
      " 15%|█▍        | 39/263 [00:29<02:03,  1.82it/s]"
     ]
    },
    {
     "name": "stdout",
     "output_type": "stream",
     "text": [
      "saved!\n",
      "(512, 512, 75) 666\n",
      "min and max slice 1 27\n",
      "fucking max slice 27\n",
      "fucking after 33\n",
      "0 33\n",
      "(512, 512, 33)\n"
     ]
    },
    {
     "name": "stderr",
     "output_type": "stream",
     "text": [
      " 15%|█▌        | 40/263 [00:30<02:03,  1.80it/s]"
     ]
    },
    {
     "name": "stdout",
     "output_type": "stream",
     "text": [
      "saved!\n",
      "(512, 512, 75) 666\n",
      "min and max slice 44 72\n",
      "fucking max slice 72\n",
      "fucking after 75\n",
      "35 75\n",
      "(512, 512, 40)\n"
     ]
    },
    {
     "name": "stderr",
     "output_type": "stream",
     "text": [
      " 16%|█▌        | 41/263 [00:31<02:08,  1.73it/s]"
     ]
    },
    {
     "name": "stdout",
     "output_type": "stream",
     "text": [
      "saved!\n",
      "(512, 512, 151) 666\n",
      "min and max slice 96 145\n",
      "fucking max slice 145\n",
      "fucking after 151\n",
      "76 151\n",
      "(512, 512, 75)\n"
     ]
    },
    {
     "name": "stderr",
     "output_type": "stream",
     "text": [
      " 16%|█▌        | 42/263 [00:32<02:40,  1.38it/s]"
     ]
    },
    {
     "name": "stdout",
     "output_type": "stream",
     "text": [
      "saved!\n",
      "(512, 512, 218) 666\n",
      "min and max slice 97 144\n",
      "fucking max slice 144\n",
      "fucking after 173\n",
      "77 173\n",
      "(512, 512, 96)\n"
     ]
    },
    {
     "name": "stderr",
     "output_type": "stream",
     "text": [
      " 16%|█▋        | 43/263 [00:33<03:28,  1.05it/s]"
     ]
    },
    {
     "name": "stdout",
     "output_type": "stream",
     "text": [
      "saved!\n",
      "(512, 512, 40) 666\n",
      "min and max slice 16 36\n",
      "fucking max slice 36\n",
      "fucking after 40\n",
      "12 40\n",
      "(512, 512, 28)\n"
     ]
    },
    {
     "name": "stderr",
     "output_type": "stream",
     "text": [
      " 17%|█▋        | 44/263 [00:34<02:53,  1.26it/s]"
     ]
    },
    {
     "name": "stdout",
     "output_type": "stream",
     "text": [
      "saved!\n",
      "(512, 512, 37) 666\n",
      "min and max slice 4 34\n",
      "fucking max slice 34\n",
      "fucking after 37\n",
      "3 37\n",
      "(512, 512, 34)\n"
     ]
    },
    {
     "name": "stderr",
     "output_type": "stream",
     "text": [
      " 17%|█▋        | 45/263 [00:34<02:32,  1.43it/s]"
     ]
    },
    {
     "name": "stdout",
     "output_type": "stream",
     "text": [
      "saved!\n",
      "(512, 512, 58) 666\n",
      "min and max slice 0 11\n",
      "fucking max slice 11\n",
      "fucking after 14\n",
      "0 14\n",
      "(512, 512, 14)\n"
     ]
    },
    {
     "name": "stderr",
     "output_type": "stream",
     "text": [
      " 17%|█▋        | 46/263 [00:34<02:10,  1.66it/s]"
     ]
    },
    {
     "name": "stdout",
     "output_type": "stream",
     "text": [
      "saved!\n",
      "(512, 512, 120) 666\n",
      "min and max slice 43 73\n",
      "fucking max slice 73\n",
      "fucking after 88\n",
      "34 88\n",
      "(512, 512, 54)\n"
     ]
    },
    {
     "name": "stderr",
     "output_type": "stream",
     "text": [
      " 18%|█▊        | 47/263 [00:35<02:32,  1.42it/s]"
     ]
    },
    {
     "name": "stdout",
     "output_type": "stream",
     "text": [
      "saved!\n",
      "(512, 512, 79) 666\n",
      "min and max slice 17 71\n",
      "fucking max slice 71\n",
      "fucking after 79\n",
      "13 79\n",
      "(512, 512, 66)\n"
     ]
    },
    {
     "name": "stderr",
     "output_type": "stream",
     "text": [
      " 18%|█▊        | 48/263 [00:36<02:45,  1.30it/s]"
     ]
    },
    {
     "name": "stdout",
     "output_type": "stream",
     "text": [
      "saved!\n",
      "(512, 512, 79) 666\n",
      "min and max slice 18 73\n",
      "fucking max slice 73\n",
      "fucking after 79\n",
      "14 79\n",
      "(512, 512, 65)\n"
     ]
    },
    {
     "name": "stderr",
     "output_type": "stream",
     "text": [
      " 19%|█▊        | 49/263 [00:37<02:55,  1.22it/s]"
     ]
    },
    {
     "name": "stdout",
     "output_type": "stream",
     "text": [
      "saved!\n",
      "(512, 512, 151) 666\n",
      "min and max slice 0 55\n",
      "fucking max slice 55\n",
      "fucking after 66\n",
      "0 66\n",
      "(512, 512, 66)\n"
     ]
    },
    {
     "name": "stderr",
     "output_type": "stream",
     "text": [
      " 19%|█▉        | 50/263 [00:38<03:14,  1.10it/s]"
     ]
    },
    {
     "name": "stdout",
     "output_type": "stream",
     "text": [
      "saved!\n",
      "(512, 512, 334) 666\n",
      "min and max slice 117 238\n",
      "fucking max slice 238\n",
      "fucking after 286\n",
      "93 286\n",
      "(512, 512, 193)\n"
     ]
    },
    {
     "name": "stderr",
     "output_type": "stream",
     "text": [
      " 19%|█▉        | 51/263 [00:41<05:04,  1.44s/it]"
     ]
    },
    {
     "name": "stdout",
     "output_type": "stream",
     "text": [
      "saved!\n",
      "(512, 512, 50) 666\n",
      "min and max slice 9 46\n",
      "fucking max slice 46\n",
      "fucking after 50\n",
      "7 50\n",
      "(512, 512, 43)\n"
     ]
    },
    {
     "name": "stderr",
     "output_type": "stream",
     "text": [
      " 20%|█▉        | 52/263 [00:42<04:17,  1.22s/it]"
     ]
    },
    {
     "name": "stdout",
     "output_type": "stream",
     "text": [
      "saved!\n",
      "(512, 512, 86) 666\n",
      "min and max slice 5 39\n",
      "fucking max slice 39\n",
      "fucking after 47\n",
      "4 47\n",
      "(512, 512, 43)\n"
     ]
    },
    {
     "name": "stderr",
     "output_type": "stream",
     "text": [
      " 20%|██        | 53/263 [00:42<03:45,  1.07s/it]"
     ]
    },
    {
     "name": "stdout",
     "output_type": "stream",
     "text": [
      "saved!\n",
      "(512, 512, 62) 666\n",
      "min and max slice 0 15\n",
      "fucking max slice 15\n",
      "fucking after 18\n",
      "0 18\n",
      "(512, 512, 18)\n"
     ]
    },
    {
     "name": "stderr",
     "output_type": "stream",
     "text": [
      " 21%|██        | 54/263 [00:43<03:06,  1.12it/s]"
     ]
    },
    {
     "name": "stdout",
     "output_type": "stream",
     "text": [
      "saved!\n",
      "(512, 512, 46) 666\n",
      "min and max slice 7 39\n",
      "fucking max slice 39\n",
      "fucking after 46\n",
      "5 46\n",
      "(512, 512, 41)\n"
     ]
    },
    {
     "name": "stderr",
     "output_type": "stream",
     "text": [
      " 21%|██        | 55/263 [00:43<02:44,  1.26it/s]"
     ]
    },
    {
     "name": "stdout",
     "output_type": "stream",
     "text": [
      "saved!\n",
      "(512, 512, 45) 666\n",
      "min and max slice 5 38\n",
      "fucking max slice 38\n",
      "fucking after 45\n",
      "4 45\n",
      "(512, 512, 41)\n"
     ]
    },
    {
     "name": "stderr",
     "output_type": "stream",
     "text": [
      " 21%|██▏       | 56/263 [00:44<02:30,  1.38it/s]"
     ]
    },
    {
     "name": "stdout",
     "output_type": "stream",
     "text": [
      "saved!\n",
      "(512, 512, 63) 666\n",
      "min and max slice 0 23\n",
      "fucking max slice 23\n",
      "fucking after 28\n",
      "0 28\n",
      "(512, 512, 28)\n"
     ]
    },
    {
     "name": "stderr",
     "output_type": "stream",
     "text": [
      " 22%|██▏       | 57/263 [00:44<02:14,  1.54it/s]"
     ]
    },
    {
     "name": "stdout",
     "output_type": "stream",
     "text": [
      "saved!\n",
      "(512, 512, 131) 666\n",
      "min and max slice 63 91\n",
      "fucking max slice 91\n",
      "fucking after 110\n",
      "50 110\n",
      "(512, 512, 60)\n"
     ]
    },
    {
     "name": "stderr",
     "output_type": "stream",
     "text": [
      " 22%|██▏       | 58/263 [00:45<02:29,  1.37it/s]"
     ]
    },
    {
     "name": "stdout",
     "output_type": "stream",
     "text": [
      "saved!\n",
      "(512, 512, 45) 666\n",
      "min and max slice 14 44\n",
      "fucking max slice 44\n",
      "fucking after 45\n",
      "11 45\n",
      "(512, 512, 34)\n"
     ]
    },
    {
     "name": "stderr",
     "output_type": "stream",
     "text": [
      " 22%|██▏       | 59/263 [00:46<02:16,  1.50it/s]"
     ]
    },
    {
     "name": "stdout",
     "output_type": "stream",
     "text": [
      "saved!\n",
      "(512, 512, 45) 666\n",
      "min and max slice 5 45\n",
      "fucking max slice 45\n",
      "fucking after 45\n",
      "4 45\n",
      "(512, 512, 41)\n"
     ]
    },
    {
     "name": "stderr",
     "output_type": "stream",
     "text": [
      " 23%|██▎       | 60/263 [00:46<02:07,  1.59it/s]"
     ]
    },
    {
     "name": "stdout",
     "output_type": "stream",
     "text": [
      "saved!\n",
      "(512, 512, 87) 666\n",
      "min and max slice 48 87\n",
      "fucking max slice 87\n",
      "fucking after 87\n",
      "38 87\n",
      "(512, 512, 49)\n"
     ]
    },
    {
     "name": "stderr",
     "output_type": "stream",
     "text": [
      " 23%|██▎       | 61/263 [00:47<02:16,  1.48it/s]"
     ]
    },
    {
     "name": "stdout",
     "output_type": "stream",
     "text": [
      "saved!\n",
      "(512, 512, 45) 666\n",
      "min and max slice 5 45\n",
      "fucking max slice 45\n",
      "fucking after 45\n",
      "4 45\n",
      "(512, 512, 41)\n"
     ]
    },
    {
     "name": "stderr",
     "output_type": "stream",
     "text": [
      " 24%|██▎       | 62/263 [00:48<02:09,  1.55it/s]"
     ]
    },
    {
     "name": "stdout",
     "output_type": "stream",
     "text": [
      "saved!\n",
      "(512, 512, 73) 666\n",
      "min and max slice 44 72\n",
      "fucking max slice 72\n",
      "fucking after 73\n",
      "35 73\n",
      "(512, 512, 38)\n"
     ]
    },
    {
     "name": "stderr",
     "output_type": "stream",
     "text": [
      " 24%|██▍       | 63/263 [00:48<02:07,  1.57it/s]"
     ]
    },
    {
     "name": "stdout",
     "output_type": "stream",
     "text": [
      "saved!\n",
      "(512, 512, 37) 666\n",
      "min and max slice 7 36\n",
      "fucking max slice 36\n",
      "fucking after 37\n",
      "5 37\n",
      "(512, 512, 32)\n"
     ]
    },
    {
     "name": "stderr",
     "output_type": "stream",
     "text": [
      " 24%|██▍       | 64/263 [00:49<01:56,  1.71it/s]"
     ]
    },
    {
     "name": "stdout",
     "output_type": "stream",
     "text": [
      "saved!\n",
      "(512, 512, 37) 666\n",
      "min and max slice 7 35\n",
      "fucking max slice 35\n",
      "fucking after 37\n",
      "5 37\n",
      "(512, 512, 32)\n"
     ]
    },
    {
     "name": "stderr",
     "output_type": "stream",
     "text": [
      " 25%|██▍       | 65/263 [00:49<01:47,  1.85it/s]"
     ]
    },
    {
     "name": "stdout",
     "output_type": "stream",
     "text": [
      "saved!\n",
      "(512, 512, 73) 666\n",
      "min and max slice 44 73\n",
      "fucking max slice 73\n",
      "fucking after 73\n",
      "35 73\n",
      "(512, 512, 38)\n"
     ]
    },
    {
     "name": "stderr",
     "output_type": "stream",
     "text": [
      " 25%|██▌       | 66/263 [00:50<01:52,  1.76it/s]"
     ]
    },
    {
     "name": "stdout",
     "output_type": "stream",
     "text": [
      "saved!\n",
      "(512, 512, 47) 666\n",
      "min and max slice 15 45\n",
      "fucking max slice 45\n",
      "fucking after 47\n",
      "12 47\n",
      "(512, 512, 35)\n"
     ]
    },
    {
     "name": "stderr",
     "output_type": "stream",
     "text": [
      " 25%|██▌       | 67/263 [00:50<01:48,  1.81it/s]"
     ]
    },
    {
     "name": "stdout",
     "output_type": "stream",
     "text": [
      "saved!\n",
      "(512, 512, 212) 666\n",
      "min and max slice 87 137\n",
      "fucking max slice 137\n",
      "fucking after 165\n",
      "69 165\n",
      "(512, 512, 96)\n"
     ]
    },
    {
     "name": "stderr",
     "output_type": "stream",
     "text": [
      " 26%|██▌       | 68/263 [00:52<02:37,  1.24it/s]"
     ]
    },
    {
     "name": "stdout",
     "output_type": "stream",
     "text": [
      "saved!\n",
      "(512, 512, 529) 666\n",
      "min and max slice 333 528\n",
      "fucking max slice 528\n",
      "fucking after 529\n",
      "266 529\n",
      "(512, 512, 263)\n"
     ]
    },
    {
     "name": "stderr",
     "output_type": "stream",
     "text": [
      " 26%|██▌       | 69/263 [00:56<05:27,  1.69s/it]"
     ]
    },
    {
     "name": "stdout",
     "output_type": "stream",
     "text": [
      "saved!\n",
      "(512, 512, 792) 666\n",
      "min and max slice 325 513\n",
      "fucking max slice 513\n",
      "fucking after 616\n",
      "260 616\n",
      "(512, 512, 356)\n"
     ]
    },
    {
     "name": "stderr",
     "output_type": "stream",
     "text": [
      " 27%|██▋       | 70/263 [01:01<08:58,  2.79s/it]"
     ]
    },
    {
     "name": "stdout",
     "output_type": "stream",
     "text": [
      "saved!\n",
      "(512, 512, 142) 666\n",
      "min and max slice 90 141\n",
      "fucking max slice 141\n",
      "fucking after 142\n",
      "72 142\n",
      "(512, 512, 70)\n"
     ]
    },
    {
     "name": "stderr",
     "output_type": "stream",
     "text": [
      " 27%|██▋       | 71/263 [01:02<07:12,  2.25s/it]"
     ]
    },
    {
     "name": "stdout",
     "output_type": "stream",
     "text": [
      "saved!\n",
      "(512, 512, 37) 666\n",
      "min and max slice 4 35\n",
      "fucking max slice 35\n",
      "fucking after 37\n",
      "3 37\n",
      "(512, 512, 34)\n"
     ]
    },
    {
     "name": "stderr",
     "output_type": "stream",
     "text": [
      " 27%|██▋       | 72/263 [01:02<05:29,  1.73s/it]"
     ]
    },
    {
     "name": "stdout",
     "output_type": "stream",
     "text": [
      "saved!\n",
      "(512, 512, 81) 666\n",
      "min and max slice 6 38\n",
      "fucking max slice 38\n",
      "fucking after 46\n",
      "4 46\n",
      "(512, 512, 42)\n"
     ]
    },
    {
     "name": "stderr",
     "output_type": "stream",
     "text": [
      " 28%|██▊       | 73/263 [01:03<04:32,  1.44s/it]"
     ]
    },
    {
     "name": "stdout",
     "output_type": "stream",
     "text": [
      "saved!\n",
      "(512, 512, 40) 666\n",
      "min and max slice 5 37\n",
      "fucking max slice 37\n",
      "fucking after 40\n",
      "4 40\n",
      "(512, 512, 36)\n"
     ]
    },
    {
     "name": "stderr",
     "output_type": "stream",
     "text": [
      " 28%|██▊       | 74/263 [01:04<03:38,  1.15s/it]"
     ]
    },
    {
     "name": "stdout",
     "output_type": "stream",
     "text": [
      "saved!\n",
      "(512, 512, 42) 666\n",
      "min and max slice 7 38\n",
      "fucking max slice 38\n",
      "fucking after 42\n",
      "5 42\n",
      "(512, 512, 37)\n"
     ]
    },
    {
     "name": "stderr",
     "output_type": "stream",
     "text": [
      " 29%|██▊       | 75/263 [01:04<03:02,  1.03it/s]"
     ]
    },
    {
     "name": "stdout",
     "output_type": "stream",
     "text": [
      "saved!\n",
      "(512, 512, 58) 666\n",
      "min and max slice 0 15\n",
      "fucking max slice 15\n",
      "fucking after 18\n",
      "0 18\n",
      "(512, 512, 18)\n"
     ]
    },
    {
     "name": "stderr",
     "output_type": "stream",
     "text": [
      " 29%|██▉       | 76/263 [01:05<02:31,  1.23it/s]"
     ]
    },
    {
     "name": "stdout",
     "output_type": "stream",
     "text": [
      "saved!\n",
      "(512, 512, 43) 666\n",
      "min and max slice 7 40\n",
      "fucking max slice 40\n",
      "fucking after 43\n",
      "5 43\n",
      "(512, 512, 38)\n"
     ]
    },
    {
     "name": "stderr",
     "output_type": "stream",
     "text": [
      " 29%|██▉       | 77/263 [01:05<02:16,  1.36it/s]"
     ]
    },
    {
     "name": "stdout",
     "output_type": "stream",
     "text": [
      "saved!\n",
      "(512, 512, 43) 666\n",
      "min and max slice 7 40\n",
      "fucking max slice 40\n",
      "fucking after 43\n",
      "5 43\n",
      "(512, 512, 38)\n"
     ]
    },
    {
     "name": "stderr",
     "output_type": "stream",
     "text": [
      " 30%|██▉       | 78/263 [01:06<02:06,  1.46it/s]"
     ]
    },
    {
     "name": "stdout",
     "output_type": "stream",
     "text": [
      "saved!\n",
      "(512, 512, 43) 666\n",
      "min and max slice 7 40\n",
      "fucking max slice 40\n",
      "fucking after 43\n",
      "5 43\n",
      "(512, 512, 38)\n"
     ]
    },
    {
     "name": "stderr",
     "output_type": "stream",
     "text": [
      " 30%|███       | 79/263 [01:06<01:59,  1.54it/s]"
     ]
    },
    {
     "name": "stdout",
     "output_type": "stream",
     "text": [
      "saved!\n",
      "(512, 512, 45) 666\n",
      "min and max slice 4 39\n",
      "fucking max slice 39\n",
      "fucking after 45\n",
      "3 45\n",
      "(512, 512, 42)\n"
     ]
    },
    {
     "name": "stderr",
     "output_type": "stream",
     "text": [
      " 30%|███       | 80/263 [01:07<02:00,  1.51it/s]"
     ]
    },
    {
     "name": "stdout",
     "output_type": "stream",
     "text": [
      "saved!\n",
      "(512, 512, 47) 666\n",
      "min and max slice 17 43\n",
      "fucking max slice 43\n",
      "fucking after 47\n",
      "13 47\n",
      "(512, 512, 34)\n"
     ]
    },
    {
     "name": "stderr",
     "output_type": "stream",
     "text": [
      " 31%|███       | 81/263 [01:08<01:52,  1.62it/s]"
     ]
    },
    {
     "name": "stdout",
     "output_type": "stream",
     "text": [
      "saved!\n",
      "(512, 512, 66) 666\n",
      "min and max slice 0 23\n",
      "fucking max slice 23\n",
      "fucking after 28\n",
      "0 28\n",
      "(512, 512, 28)\n"
     ]
    },
    {
     "name": "stderr",
     "output_type": "stream",
     "text": [
      " 31%|███       | 82/263 [01:08<01:51,  1.63it/s]"
     ]
    },
    {
     "name": "stdout",
     "output_type": "stream",
     "text": [
      "saved!\n",
      "(512, 512, 46) 666\n",
      "min and max slice 7 41\n",
      "fucking max slice 41\n",
      "fucking after 46\n",
      "5 46\n",
      "(512, 512, 41)\n"
     ]
    },
    {
     "name": "stderr",
     "output_type": "stream",
     "text": [
      " 32%|███▏      | 83/263 [01:09<01:50,  1.63it/s]"
     ]
    },
    {
     "name": "stdout",
     "output_type": "stream",
     "text": [
      "saved!\n",
      "(512, 512, 134) 666\n",
      "min and max slice 57 91\n",
      "fucking max slice 91\n",
      "fucking after 110\n",
      "45 110\n",
      "(512, 512, 65)\n"
     ]
    },
    {
     "name": "stderr",
     "output_type": "stream",
     "text": [
      " 32%|███▏      | 84/263 [01:10<02:17,  1.30it/s]"
     ]
    },
    {
     "name": "stdout",
     "output_type": "stream",
     "text": [
      "saved!\n",
      "(512, 512, 53) 666\n",
      "min and max slice 20 48\n",
      "fucking max slice 48\n",
      "fucking after 53\n",
      "16 53\n",
      "(512, 512, 37)\n"
     ]
    },
    {
     "name": "stderr",
     "output_type": "stream",
     "text": [
      " 32%|███▏      | 85/263 [01:11<02:04,  1.43it/s]"
     ]
    },
    {
     "name": "stdout",
     "output_type": "stream",
     "text": [
      "saved!\n",
      "(512, 512, 98) 666\n",
      "min and max slice 50 94\n",
      "fucking max slice 94\n",
      "fucking after 98\n",
      "40 98\n",
      "(512, 512, 58)\n"
     ]
    },
    {
     "name": "stderr",
     "output_type": "stream",
     "text": [
      " 33%|███▎      | 86/263 [01:12<02:22,  1.24it/s]"
     ]
    },
    {
     "name": "stdout",
     "output_type": "stream",
     "text": [
      "saved!\n",
      "(512, 512, 58) 666\n",
      "min and max slice 10 51\n",
      "fucking max slice 51\n",
      "fucking after 58\n",
      "8 58\n",
      "(512, 512, 50)\n"
     ]
    },
    {
     "name": "stderr",
     "output_type": "stream",
     "text": [
      " 33%|███▎      | 87/263 [01:12<02:19,  1.26it/s]"
     ]
    },
    {
     "name": "stdout",
     "output_type": "stream",
     "text": [
      "saved!\n",
      "(512, 512, 58) 666\n",
      "min and max slice 10 54\n",
      "fucking max slice 54\n",
      "fucking after 58\n",
      "8 58\n",
      "(512, 512, 50)\n"
     ]
    },
    {
     "name": "stderr",
     "output_type": "stream",
     "text": [
      " 33%|███▎      | 88/263 [01:13<02:17,  1.27it/s]"
     ]
    },
    {
     "name": "stdout",
     "output_type": "stream",
     "text": [
      "saved!\n",
      "(512, 512, 85) 666\n",
      "min and max slice 2 38\n",
      "fucking max slice 38\n",
      "fucking after 46\n",
      "1 46\n",
      "(512, 512, 45)\n"
     ]
    },
    {
     "name": "stderr",
     "output_type": "stream",
     "text": [
      " 34%|███▍      | 89/263 [01:14<02:19,  1.24it/s]"
     ]
    },
    {
     "name": "stdout",
     "output_type": "stream",
     "text": [
      "saved!\n",
      "(512, 512, 37) 666\n",
      "min and max slice 16 36\n",
      "fucking max slice 36\n",
      "fucking after 37\n",
      "12 37\n",
      "(512, 512, 25)\n"
     ]
    },
    {
     "name": "stderr",
     "output_type": "stream",
     "text": [
      " 34%|███▍      | 90/263 [01:14<01:57,  1.48it/s]"
     ]
    },
    {
     "name": "stdout",
     "output_type": "stream",
     "text": [
      "saved!\n",
      "(512, 512, 35) 666\n",
      "min and max slice 0 33\n",
      "fucking max slice 33\n",
      "fucking after 35\n",
      "0 35\n",
      "(512, 512, 35)\n"
     ]
    },
    {
     "name": "stderr",
     "output_type": "stream",
     "text": [
      " 35%|███▍      | 91/263 [01:15<01:45,  1.64it/s]"
     ]
    },
    {
     "name": "stdout",
     "output_type": "stream",
     "text": [
      "saved!\n",
      "(512, 512, 60) 666\n",
      "min and max slice 0 13\n",
      "fucking max slice 13\n",
      "fucking after 16\n",
      "0 16\n",
      "(512, 512, 16)\n"
     ]
    },
    {
     "name": "stderr",
     "output_type": "stream",
     "text": [
      " 35%|███▍      | 92/263 [01:15<01:36,  1.78it/s]"
     ]
    },
    {
     "name": "stdout",
     "output_type": "stream",
     "text": [
      "saved!\n",
      "(512, 512, 92) 666\n",
      "min and max slice 53 87\n",
      "fucking max slice 87\n",
      "fucking after 92\n",
      "42 92\n",
      "(512, 512, 50)\n"
     ]
    },
    {
     "name": "stderr",
     "output_type": "stream",
     "text": [
      " 35%|███▌      | 93/263 [01:16<01:46,  1.60it/s]"
     ]
    },
    {
     "name": "stdout",
     "output_type": "stream",
     "text": [
      "saved!\n",
      "(512, 512, 37) 666\n",
      "min and max slice 3 35\n",
      "fucking max slice 35\n",
      "fucking after 37\n",
      "2 37\n",
      "(512, 512, 35)\n"
     ]
    },
    {
     "name": "stderr",
     "output_type": "stream",
     "text": [
      " 36%|███▌      | 94/263 [01:16<01:38,  1.71it/s]"
     ]
    },
    {
     "name": "stdout",
     "output_type": "stream",
     "text": [
      "saved!\n",
      "(512, 512, 39) 666\n",
      "min and max slice 5 36\n",
      "fucking max slice 36\n",
      "fucking after 39\n",
      "4 39\n",
      "(512, 512, 35)\n"
     ]
    },
    {
     "name": "stderr",
     "output_type": "stream",
     "text": [
      " 36%|███▌      | 95/263 [01:17<01:34,  1.77it/s]"
     ]
    },
    {
     "name": "stdout",
     "output_type": "stream",
     "text": [
      "saved!\n",
      "(512, 512, 46) 666\n",
      "min and max slice 8 40\n",
      "fucking max slice 40\n",
      "fucking after 46\n",
      "6 46\n",
      "(512, 512, 40)\n"
     ]
    },
    {
     "name": "stderr",
     "output_type": "stream",
     "text": [
      " 37%|███▋      | 96/263 [01:18<01:34,  1.77it/s]"
     ]
    },
    {
     "name": "stdout",
     "output_type": "stream",
     "text": [
      "saved!\n",
      "(512, 512, 93) 666\n",
      "min and max slice 46 88\n",
      "fucking max slice 88\n",
      "fucking after 93\n",
      "36 93\n",
      "(512, 512, 57)\n"
     ]
    },
    {
     "name": "stderr",
     "output_type": "stream",
     "text": [
      " 37%|███▋      | 97/263 [01:18<01:46,  1.56it/s]"
     ]
    },
    {
     "name": "stdout",
     "output_type": "stream",
     "text": [
      "saved!\n",
      "(512, 512, 41) 666\n",
      "min and max slice 6 40\n",
      "fucking max slice 40\n",
      "fucking after 41\n",
      "4 41\n",
      "(512, 512, 37)\n"
     ]
    },
    {
     "name": "stderr",
     "output_type": "stream",
     "text": [
      " 37%|███▋      | 98/263 [01:19<01:39,  1.66it/s]"
     ]
    },
    {
     "name": "stdout",
     "output_type": "stream",
     "text": [
      "saved!\n",
      "(512, 512, 41) 666\n",
      "min and max slice 5 39\n",
      "fucking max slice 39\n",
      "fucking after 41\n",
      "4 41\n",
      "(512, 512, 37)\n"
     ]
    },
    {
     "name": "stderr",
     "output_type": "stream",
     "text": [
      " 38%|███▊      | 99/263 [01:19<01:35,  1.71it/s]"
     ]
    },
    {
     "name": "stdout",
     "output_type": "stream",
     "text": [
      "saved!\n",
      "(512, 512, 45) 666\n",
      "min and max slice 9 41\n",
      "fucking max slice 41\n",
      "fucking after 45\n",
      "7 45\n",
      "(512, 512, 38)\n"
     ]
    },
    {
     "name": "stderr",
     "output_type": "stream",
     "text": [
      " 38%|███▊      | 100/263 [01:20<01:34,  1.72it/s]"
     ]
    },
    {
     "name": "stdout",
     "output_type": "stream",
     "text": [
      "saved!\n",
      "(512, 512, 41) 666\n",
      "min and max slice 6 39\n",
      "fucking max slice 39\n",
      "fucking after 41\n",
      "4 41\n",
      "(512, 512, 37)\n"
     ]
    },
    {
     "name": "stderr",
     "output_type": "stream",
     "text": [
      " 38%|███▊      | 101/263 [01:21<01:31,  1.77it/s]"
     ]
    },
    {
     "name": "stdout",
     "output_type": "stream",
     "text": [
      "saved!\n",
      "(512, 512, 58) 666\n",
      "min and max slice 0 19\n",
      "fucking max slice 19\n",
      "fucking after 23\n",
      "0 23\n",
      "(512, 512, 23)\n"
     ]
    },
    {
     "name": "stderr",
     "output_type": "stream",
     "text": [
      " 39%|███▉      | 102/263 [01:21<01:29,  1.80it/s]"
     ]
    },
    {
     "name": "stdout",
     "output_type": "stream",
     "text": [
      "saved!\n",
      "(512, 512, 127) 666\n",
      "min and max slice 55 88\n",
      "fucking max slice 88\n",
      "fucking after 106\n",
      "44 106\n",
      "(512, 512, 62)\n"
     ]
    },
    {
     "name": "stderr",
     "output_type": "stream",
     "text": [
      " 39%|███▉      | 103/263 [01:22<01:53,  1.41it/s]"
     ]
    },
    {
     "name": "stdout",
     "output_type": "stream",
     "text": [
      "saved!\n",
      "(512, 512, 73) 666\n",
      "min and max slice 9 70\n",
      "fucking max slice 70\n",
      "fucking after 73\n",
      "7 73\n",
      "(512, 512, 66)\n"
     ]
    },
    {
     "name": "stderr",
     "output_type": "stream",
     "text": [
      " 40%|███▉      | 104/263 [01:23<02:04,  1.28it/s]"
     ]
    },
    {
     "name": "stdout",
     "output_type": "stream",
     "text": [
      "saved!\n",
      "(512, 512, 45) 666\n",
      "min and max slice 4 39\n",
      "fucking max slice 39\n",
      "fucking after 45\n",
      "3 45\n",
      "(512, 512, 42)\n"
     ]
    },
    {
     "name": "stderr",
     "output_type": "stream",
     "text": [
      " 40%|███▉      | 105/263 [01:24<01:59,  1.32it/s]"
     ]
    },
    {
     "name": "stdout",
     "output_type": "stream",
     "text": [
      "saved!\n",
      "(512, 512, 50) 666\n",
      "min and max slice 19 48\n",
      "fucking max slice 48\n",
      "fucking after 50\n",
      "15 50\n",
      "(512, 512, 35)\n"
     ]
    },
    {
     "name": "stderr",
     "output_type": "stream",
     "text": [
      " 40%|████      | 106/263 [01:24<01:49,  1.44it/s]"
     ]
    },
    {
     "name": "stdout",
     "output_type": "stream",
     "text": [
      "saved!\n",
      "(512, 512, 70) 666\n",
      "min and max slice 39 70\n",
      "fucking max slice 70\n",
      "fucking after 70\n",
      "31 70\n",
      "(512, 512, 39)\n"
     ]
    },
    {
     "name": "stderr",
     "output_type": "stream",
     "text": [
      " 41%|████      | 107/263 [01:25<01:48,  1.44it/s]"
     ]
    },
    {
     "name": "stdout",
     "output_type": "stream",
     "text": [
      "saved!\n",
      "(512, 512, 38) 666\n",
      "min and max slice 8 38\n",
      "fucking max slice 38\n",
      "fucking after 38\n",
      "6 38\n",
      "(512, 512, 32)\n"
     ]
    },
    {
     "name": "stderr",
     "output_type": "stream",
     "text": [
      " 41%|████      | 108/263 [01:26<01:39,  1.56it/s]"
     ]
    },
    {
     "name": "stdout",
     "output_type": "stream",
     "text": [
      "saved!\n",
      "(512, 512, 38) 666\n",
      "min and max slice 8 38\n",
      "fucking max slice 38\n",
      "fucking after 38\n",
      "6 38\n",
      "(512, 512, 32)\n"
     ]
    },
    {
     "name": "stderr",
     "output_type": "stream",
     "text": [
      " 42%|████▏     | 110/263 [01:26<01:14,  2.06it/s]"
     ]
    },
    {
     "name": "stdout",
     "output_type": "stream",
     "text": [
      "saved!\n",
      "(512, 512, 11) 666\n",
      "min and max slice 0 11\n",
      "fucking max slice 11\n",
      "fucking after 11\n",
      "0 11\n",
      "(512, 512, 11)\n",
      "saved!\n",
      "(512, 512, 43) 666\n",
      "min and max slice 4 38\n",
      "fucking max slice 38\n",
      "fucking after 43\n",
      "3 43\n",
      "(512, 512, 40)\n"
     ]
    },
    {
     "name": "stderr",
     "output_type": "stream",
     "text": [
      " 42%|████▏     | 111/263 [01:27<01:18,  1.93it/s]"
     ]
    },
    {
     "name": "stdout",
     "output_type": "stream",
     "text": [
      "saved!\n",
      "(512, 512, 43) 666\n",
      "min and max slice 4 39\n",
      "fucking max slice 39\n",
      "fucking after 43\n",
      "3 43\n",
      "(512, 512, 40)\n"
     ]
    },
    {
     "name": "stderr",
     "output_type": "stream",
     "text": [
      " 43%|████▎     | 112/263 [01:27<01:20,  1.87it/s]"
     ]
    },
    {
     "name": "stdout",
     "output_type": "stream",
     "text": [
      "saved!\n",
      "(512, 512, 137) 666\n",
      "min and max slice 83 131\n",
      "fucking max slice 131\n",
      "fucking after 137\n",
      "66 137\n",
      "(512, 512, 71)\n"
     ]
    },
    {
     "name": "stderr",
     "output_type": "stream",
     "text": [
      " 43%|████▎     | 113/263 [01:29<01:44,  1.43it/s]"
     ]
    },
    {
     "name": "stdout",
     "output_type": "stream",
     "text": [
      "saved!\n",
      "(512, 512, 78) 666\n",
      "min and max slice 24 72\n",
      "fucking max slice 72\n",
      "fucking after 78\n",
      "19 78\n",
      "(512, 512, 59)\n"
     ]
    },
    {
     "name": "stderr",
     "output_type": "stream",
     "text": [
      " 43%|████▎     | 114/263 [01:29<01:48,  1.37it/s]"
     ]
    },
    {
     "name": "stdout",
     "output_type": "stream",
     "text": [
      "saved!\n",
      "(512, 512, 137) 666\n",
      "min and max slice 83 131\n",
      "fucking max slice 131\n",
      "fucking after 137\n",
      "66 137\n",
      "(512, 512, 71)\n"
     ]
    },
    {
     "name": "stderr",
     "output_type": "stream",
     "text": [
      " 44%|████▎     | 115/263 [01:30<02:02,  1.21it/s]"
     ]
    },
    {
     "name": "stdout",
     "output_type": "stream",
     "text": [
      "saved!\n",
      "(512, 512, 148) 666\n",
      "min and max slice 48 136\n",
      "fucking max slice 136\n",
      "fucking after 148\n",
      "38 148\n",
      "(512, 512, 110)\n"
     ]
    },
    {
     "name": "stderr",
     "output_type": "stream",
     "text": [
      " 44%|████▍     | 116/263 [01:33<02:58,  1.21s/it]"
     ]
    },
    {
     "name": "stdout",
     "output_type": "stream",
     "text": [
      "saved!\n",
      "(512, 512, 132) 666\n",
      "min and max slice 67 97\n",
      "fucking max slice 97\n",
      "fucking after 117\n",
      "53 117\n",
      "(512, 512, 64)\n"
     ]
    },
    {
     "name": "stderr",
     "output_type": "stream",
     "text": [
      " 44%|████▍     | 117/263 [01:34<03:03,  1.26s/it]"
     ]
    },
    {
     "name": "stdout",
     "output_type": "stream",
     "text": [
      "saved!\n",
      "(512, 512, 41) 666\n",
      "min and max slice 11 38\n",
      "fucking max slice 38\n",
      "fucking after 41\n",
      "8 41\n",
      "(512, 512, 33)\n"
     ]
    },
    {
     "name": "stderr",
     "output_type": "stream",
     "text": [
      " 45%|████▍     | 118/263 [01:34<02:30,  1.04s/it]"
     ]
    },
    {
     "name": "stdout",
     "output_type": "stream",
     "text": [
      "saved!\n",
      "(512, 512, 451) 666\n",
      "min and max slice 230 331\n",
      "fucking max slice 331\n",
      "fucking after 398\n",
      "184 398\n",
      "(512, 512, 214)\n"
     ]
    },
    {
     "name": "stderr",
     "output_type": "stream",
     "text": [
      " 45%|████▌     | 119/263 [01:39<04:49,  2.01s/it]"
     ]
    },
    {
     "name": "stdout",
     "output_type": "stream",
     "text": [
      "saved!\n",
      "(512, 512, 56) 666\n",
      "min and max slice 0 21\n",
      "fucking max slice 21\n",
      "fucking after 26\n",
      "0 26\n",
      "(512, 512, 26)\n"
     ]
    },
    {
     "name": "stderr",
     "output_type": "stream",
     "text": [
      " 46%|████▌     | 120/263 [01:39<03:45,  1.58s/it]"
     ]
    },
    {
     "name": "stdout",
     "output_type": "stream",
     "text": [
      "saved!\n",
      "(512, 512, 97) 666\n",
      "min and max slice 10 49\n",
      "fucking max slice 49\n",
      "fucking after 59\n",
      "8 59\n",
      "(512, 512, 51)\n"
     ]
    },
    {
     "name": "stderr",
     "output_type": "stream",
     "text": [
      " 46%|████▌     | 121/263 [01:40<03:13,  1.36s/it]"
     ]
    },
    {
     "name": "stdout",
     "output_type": "stream",
     "text": [
      "saved!\n",
      "(512, 512, 56) 666\n",
      "min and max slice 8 46\n",
      "fucking max slice 46\n",
      "fucking after 56\n",
      "6 56\n",
      "(512, 512, 50)\n"
     ]
    },
    {
     "name": "stderr",
     "output_type": "stream",
     "text": [
      " 46%|████▋     | 122/263 [01:41<02:41,  1.15s/it]"
     ]
    },
    {
     "name": "stdout",
     "output_type": "stream",
     "text": [
      "saved!\n",
      "(512, 512, 60) 666\n",
      "min and max slice 0 12\n",
      "fucking max slice 12\n",
      "fucking after 15\n",
      "0 15\n",
      "(512, 512, 15)\n"
     ]
    },
    {
     "name": "stderr",
     "output_type": "stream",
     "text": [
      " 47%|████▋     | 123/263 [01:41<02:11,  1.06it/s]"
     ]
    },
    {
     "name": "stdout",
     "output_type": "stream",
     "text": [
      "saved!\n",
      "(512, 512, 56) 666\n",
      "min and max slice 9 47\n",
      "fucking max slice 47\n",
      "fucking after 56\n",
      "7 56\n",
      "(512, 512, 49)\n"
     ]
    },
    {
     "name": "stderr",
     "output_type": "stream",
     "text": [
      " 47%|████▋     | 124/263 [01:42<02:02,  1.13it/s]"
     ]
    },
    {
     "name": "stdout",
     "output_type": "stream",
     "text": [
      "saved!\n",
      "(512, 512, 166) 666\n",
      "min and max slice 25 154\n",
      "fucking max slice 154\n",
      "fucking after 166\n",
      "20 166\n",
      "(512, 512, 146)\n"
     ]
    },
    {
     "name": "stderr",
     "output_type": "stream",
     "text": [
      " 48%|████▊     | 125/263 [01:44<02:50,  1.23s/it]"
     ]
    },
    {
     "name": "stdout",
     "output_type": "stream",
     "text": [
      "saved!\n",
      "(512, 512, 69) 666\n",
      "min and max slice 19 63\n",
      "fucking max slice 63\n",
      "fucking after 69\n",
      "15 69\n",
      "(512, 512, 54)\n"
     ]
    },
    {
     "name": "stderr",
     "output_type": "stream",
     "text": [
      " 48%|████▊     | 126/263 [01:45<02:32,  1.11s/it]"
     ]
    },
    {
     "name": "stdout",
     "output_type": "stream",
     "text": [
      "saved!\n",
      "(512, 512, 65) 666\n",
      "min and max slice 14 60\n",
      "fucking max slice 60\n",
      "fucking after 65\n",
      "11 65\n",
      "(512, 512, 54)\n"
     ]
    },
    {
     "name": "stderr",
     "output_type": "stream",
     "text": [
      " 48%|████▊     | 127/263 [01:46<02:19,  1.02s/it]"
     ]
    },
    {
     "name": "stdout",
     "output_type": "stream",
     "text": [
      "saved!\n",
      "(512, 512, 156) 666\n",
      "min and max slice 94 146\n",
      "fucking max slice 146\n",
      "fucking after 156\n",
      "75 156\n",
      "(512, 512, 81)\n"
     ]
    },
    {
     "name": "stderr",
     "output_type": "stream",
     "text": [
      " 49%|████▊     | 128/263 [01:47<02:26,  1.08s/it]"
     ]
    },
    {
     "name": "stdout",
     "output_type": "stream",
     "text": [
      "saved!\n",
      "(512, 512, 582) 666\n",
      "min and max slice 345 544\n",
      "fucking max slice 544\n",
      "fucking after 582\n",
      "276 582\n",
      "(512, 512, 306)\n"
     ]
    },
    {
     "name": "stderr",
     "output_type": "stream",
     "text": [
      " 49%|████▉     | 129/263 [01:51<04:44,  2.13s/it]"
     ]
    },
    {
     "name": "stdout",
     "output_type": "stream",
     "text": [
      "saved!\n",
      "(512, 512, 79) 666\n",
      "min and max slice 16 69\n",
      "fucking max slice 69\n",
      "fucking after 79\n",
      "12 79\n",
      "(512, 512, 67)\n"
     ]
    },
    {
     "name": "stderr",
     "output_type": "stream",
     "text": [
      " 49%|████▉     | 130/263 [01:52<03:50,  1.73s/it]"
     ]
    },
    {
     "name": "stdout",
     "output_type": "stream",
     "text": [
      "saved!\n",
      "(512, 512, 582) 666\n",
      "min and max slice 349 545\n",
      "fucking max slice 545\n",
      "fucking after 582\n",
      "279 582\n",
      "(512, 512, 303)\n"
     ]
    },
    {
     "name": "stderr",
     "output_type": "stream",
     "text": [
      " 50%|████▉     | 131/263 [01:57<05:36,  2.55s/it]"
     ]
    },
    {
     "name": "stdout",
     "output_type": "stream",
     "text": [
      "saved!\n",
      "(512, 512, 155) 666\n",
      "min and max slice 11 62\n",
      "fucking max slice 62\n",
      "fucking after 75\n",
      "8 75\n",
      "(512, 512, 67)\n"
     ]
    },
    {
     "name": "stderr",
     "output_type": "stream",
     "text": [
      " 50%|█████     | 132/263 [01:58<04:35,  2.10s/it]"
     ]
    },
    {
     "name": "stdout",
     "output_type": "stream",
     "text": [
      "saved!\n",
      "(512, 512, 148) 666\n",
      "min and max slice 16 136\n",
      "fucking max slice 136\n",
      "fucking after 148\n",
      "12 148\n",
      "(512, 512, 136)\n"
     ]
    },
    {
     "name": "stderr",
     "output_type": "stream",
     "text": [
      " 51%|█████     | 133/263 [02:00<04:23,  2.03s/it]"
     ]
    },
    {
     "name": "stdout",
     "output_type": "stream",
     "text": [
      "saved!\n",
      "(512, 512, 44) 666\n",
      "min and max slice 2 38\n",
      "fucking max slice 38\n",
      "fucking after 44\n",
      "1 44\n",
      "(512, 512, 43)\n"
     ]
    },
    {
     "name": "stderr",
     "output_type": "stream",
     "text": [
      " 51%|█████     | 134/263 [02:00<03:25,  1.59s/it]"
     ]
    },
    {
     "name": "stdout",
     "output_type": "stream",
     "text": [
      "saved!\n",
      "(512, 512, 122) 666\n",
      "min and max slice 81 119\n",
      "fucking max slice 119\n",
      "fucking after 122\n",
      "64 122\n",
      "(512, 512, 58)\n"
     ]
    },
    {
     "name": "stderr",
     "output_type": "stream",
     "text": [
      " 51%|█████▏    | 135/263 [02:01<02:55,  1.37s/it]"
     ]
    },
    {
     "name": "stdout",
     "output_type": "stream",
     "text": [
      "saved!\n",
      "(512, 512, 60) 666\n",
      "min and max slice 17 55\n",
      "fucking max slice 55\n",
      "fucking after 60\n",
      "13 60\n",
      "(512, 512, 47)\n"
     ]
    },
    {
     "name": "stderr",
     "output_type": "stream",
     "text": [
      " 52%|█████▏    | 136/263 [02:02<02:24,  1.14s/it]"
     ]
    },
    {
     "name": "stdout",
     "output_type": "stream",
     "text": [
      "saved!\n",
      "(512, 512, 60) 666\n",
      "min and max slice 17 55\n",
      "fucking max slice 55\n",
      "fucking after 60\n",
      "13 60\n",
      "(512, 512, 47)\n"
     ]
    },
    {
     "name": "stderr",
     "output_type": "stream",
     "text": [
      " 52%|█████▏    | 137/263 [02:02<02:03,  1.02it/s]"
     ]
    },
    {
     "name": "stdout",
     "output_type": "stream",
     "text": [
      "saved!\n",
      "(512, 512, 137) 666\n",
      "min and max slice 0 59\n",
      "fucking max slice 59\n",
      "fucking after 71\n",
      "0 71\n",
      "(512, 512, 71)\n"
     ]
    },
    {
     "name": "stderr",
     "output_type": "stream",
     "text": [
      " 52%|█████▏    | 138/263 [02:03<02:02,  1.02it/s]"
     ]
    },
    {
     "name": "stdout",
     "output_type": "stream",
     "text": [
      "saved!\n",
      "(512, 512, 305) 666\n",
      "min and max slice 156 227\n",
      "fucking max slice 227\n",
      "fucking after 273\n",
      "124 273\n",
      "(512, 512, 149)\n"
     ]
    },
    {
     "name": "stderr",
     "output_type": "stream",
     "text": [
      " 53%|█████▎    | 139/263 [02:05<02:36,  1.26s/it]"
     ]
    },
    {
     "name": "stdout",
     "output_type": "stream",
     "text": [
      "saved!\n",
      "(512, 512, 40) 666\n",
      "min and max slice 18 39\n",
      "fucking max slice 39\n",
      "fucking after 40\n",
      "14 40\n",
      "(512, 512, 26)\n"
     ]
    },
    {
     "name": "stderr",
     "output_type": "stream",
     "text": [
      " 53%|█████▎    | 140/263 [02:06<02:03,  1.00s/it]"
     ]
    },
    {
     "name": "stdout",
     "output_type": "stream",
     "text": [
      "saved!\n",
      "(512, 512, 75) 666\n",
      "min and max slice 1 38\n",
      "fucking max slice 38\n",
      "fucking after 46\n",
      "0 46\n",
      "(512, 512, 46)\n"
     ]
    },
    {
     "name": "stderr",
     "output_type": "stream",
     "text": [
      " 54%|█████▎    | 141/263 [02:06<01:52,  1.09it/s]"
     ]
    },
    {
     "name": "stdout",
     "output_type": "stream",
     "text": [
      "saved!\n",
      "(512, 512, 80) 666\n",
      "min and max slice 41 79\n",
      "fucking max slice 79\n",
      "fucking after 80\n",
      "32 80\n",
      "(512, 512, 48)\n"
     ]
    },
    {
     "name": "stderr",
     "output_type": "stream",
     "text": [
      " 54%|█████▍    | 142/263 [02:07<01:45,  1.14it/s]"
     ]
    },
    {
     "name": "stdout",
     "output_type": "stream",
     "text": [
      "saved!\n",
      "(512, 512, 40) 666\n",
      "min and max slice 19 39\n",
      "fucking max slice 39\n",
      "fucking after 40\n",
      "15 40\n",
      "(512, 512, 25)\n"
     ]
    },
    {
     "name": "stderr",
     "output_type": "stream",
     "text": [
      " 54%|█████▍    | 143/263 [02:07<01:27,  1.36it/s]"
     ]
    },
    {
     "name": "stdout",
     "output_type": "stream",
     "text": [
      "saved!\n",
      "(512, 512, 40) 666\n",
      "min and max slice 4 40\n",
      "fucking max slice 40\n",
      "fucking after 40\n",
      "3 40\n",
      "(512, 512, 37)\n"
     ]
    },
    {
     "name": "stderr",
     "output_type": "stream",
     "text": [
      " 55%|█████▌    | 145/263 [02:08<01:00,  1.96it/s]"
     ]
    },
    {
     "name": "stdout",
     "output_type": "stream",
     "text": [
      "saved!\n",
      "(512, 512, 10) 666\n",
      "min and max slice 3 8\n",
      "fucking max slice 8\n",
      "fucking after 10\n",
      "2 10\n",
      "(512, 512, 8)\n",
      "saved!\n"
     ]
    },
    {
     "name": "stderr",
     "output_type": "stream",
     "text": [
      " 56%|█████▌    | 146/263 [02:08<00:50,  2.33it/s]"
     ]
    },
    {
     "name": "stdout",
     "output_type": "stream",
     "text": [
      "(512, 512, 38) 666\n",
      "min and max slice 35 37\n",
      "fucking max slice 37\n",
      "fucking after 38\n",
      "28 38\n",
      "(512, 512, 10)\n",
      "saved!\n",
      "(512, 512, 40) 666\n",
      "min and max slice 6 39\n",
      "fucking max slice 39\n",
      "fucking after 40\n",
      "4 40\n",
      "(512, 512, 36)\n"
     ]
    },
    {
     "name": "stderr",
     "output_type": "stream",
     "text": [
      " 56%|█████▌    | 147/263 [02:09<00:52,  2.20it/s]"
     ]
    },
    {
     "name": "stdout",
     "output_type": "stream",
     "text": [
      "saved!\n",
      "(512, 512, 42) 666\n",
      "min and max slice 23 31\n",
      "fucking max slice 31\n",
      "fucking after 38\n",
      "18 38\n",
      "(512, 512, 20)\n"
     ]
    },
    {
     "name": "stderr",
     "output_type": "stream",
     "text": [
      " 56%|█████▋    | 148/263 [02:09<00:48,  2.39it/s]"
     ]
    },
    {
     "name": "stdout",
     "output_type": "stream",
     "text": [
      "saved!\n",
      "(512, 512, 42) 666\n",
      "min and max slice 6 38\n",
      "fucking max slice 38\n",
      "fucking after 42\n",
      "4 42\n",
      "(512, 512, 38)\n"
     ]
    },
    {
     "name": "stderr",
     "output_type": "stream",
     "text": [
      " 57%|█████▋    | 149/263 [02:10<00:49,  2.28it/s]"
     ]
    },
    {
     "name": "stdout",
     "output_type": "stream",
     "text": [
      "saved!\n",
      "(512, 512, 65) 666\n",
      "min and max slice 5 56\n",
      "fucking max slice 56\n",
      "fucking after 65\n",
      "4 65\n",
      "(512, 512, 61)\n"
     ]
    },
    {
     "name": "stderr",
     "output_type": "stream",
     "text": [
      " 57%|█████▋    | 150/263 [02:11<01:02,  1.80it/s]"
     ]
    },
    {
     "name": "stdout",
     "output_type": "stream",
     "text": [
      "saved!\n",
      "(512, 512, 321) 666\n",
      "min and max slice 20 279\n",
      "fucking max slice 279\n",
      "fucking after 321\n",
      "16 321\n",
      "(512, 512, 305)\n"
     ]
    },
    {
     "name": "stderr",
     "output_type": "stream",
     "text": [
      " 57%|█████▋    | 151/263 [02:15<03:05,  1.66s/it]"
     ]
    },
    {
     "name": "stdout",
     "output_type": "stream",
     "text": [
      "saved!\n",
      "(512, 512, 401) 666\n",
      "min and max slice 106 363\n",
      "fucking max slice 363\n",
      "fucking after 401\n",
      "84 401\n",
      "(512, 512, 317)\n"
     ]
    },
    {
     "name": "stderr",
     "output_type": "stream",
     "text": [
      " 58%|█████▊    | 152/263 [02:19<04:36,  2.49s/it]"
     ]
    },
    {
     "name": "stdout",
     "output_type": "stream",
     "text": [
      "saved!\n",
      "(512, 512, 81) 666\n",
      "min and max slice 22 73\n",
      "fucking max slice 73\n",
      "fucking after 81\n",
      "17 81\n",
      "(512, 512, 64)\n"
     ]
    },
    {
     "name": "stderr",
     "output_type": "stream",
     "text": [
      " 58%|█████▊    | 153/263 [02:20<03:43,  2.03s/it]"
     ]
    },
    {
     "name": "stdout",
     "output_type": "stream",
     "text": [
      "saved!\n",
      "(512, 512, 401) 666\n",
      "min and max slice 106 363\n",
      "fucking max slice 363\n",
      "fucking after 401\n",
      "84 401\n",
      "(512, 512, 317)\n"
     ]
    },
    {
     "name": "stderr",
     "output_type": "stream",
     "text": [
      " 59%|█████▊    | 154/263 [02:25<05:04,  2.79s/it]"
     ]
    },
    {
     "name": "stdout",
     "output_type": "stream",
     "text": [
      "saved!\n",
      "(512, 512, 321) 666\n",
      "min and max slice 20 279\n",
      "fucking max slice 279\n",
      "fucking after 321\n",
      "16 321\n",
      "(512, 512, 305)\n"
     ]
    },
    {
     "name": "stderr",
     "output_type": "stream",
     "text": [
      " 59%|█████▉    | 155/263 [02:29<05:47,  3.22s/it]"
     ]
    },
    {
     "name": "stdout",
     "output_type": "stream",
     "text": [
      "saved!\n",
      "(512, 512, 37) 666\n",
      "min and max slice 3 34\n",
      "fucking max slice 34\n",
      "fucking after 37\n",
      "2 37\n",
      "(512, 512, 35)\n"
     ]
    },
    {
     "name": "stderr",
     "output_type": "stream",
     "text": [
      " 59%|█████▉    | 156/263 [02:29<04:15,  2.39s/it]"
     ]
    },
    {
     "name": "stdout",
     "output_type": "stream",
     "text": [
      "saved!\n",
      "(512, 512, 37) 666\n",
      "min and max slice 3 34\n",
      "fucking max slice 34\n",
      "fucking after 37\n",
      "2 37\n",
      "(512, 512, 35)\n"
     ]
    },
    {
     "name": "stderr",
     "output_type": "stream",
     "text": [
      " 60%|█████▉    | 157/263 [02:30<03:12,  1.82s/it]"
     ]
    },
    {
     "name": "stdout",
     "output_type": "stream",
     "text": [
      "saved!\n",
      "(512, 512, 113) 666\n",
      "min and max slice 73 109\n",
      "fucking max slice 109\n",
      "fucking after 113\n",
      "58 113\n",
      "(512, 512, 55)\n"
     ]
    },
    {
     "name": "stderr",
     "output_type": "stream",
     "text": [
      " 60%|██████    | 158/263 [02:31<02:38,  1.51s/it]"
     ]
    },
    {
     "name": "stdout",
     "output_type": "stream",
     "text": [
      "saved!\n",
      "(512, 512, 431) 666\n",
      "min and max slice 262 415\n",
      "fucking max slice 415\n",
      "fucking after 431\n",
      "209 431\n",
      "(512, 512, 222)\n"
     ]
    },
    {
     "name": "stderr",
     "output_type": "stream",
     "text": [
      " 60%|██████    | 159/263 [02:34<03:34,  2.06s/it]"
     ]
    },
    {
     "name": "stdout",
     "output_type": "stream",
     "text": [
      "saved!\n",
      "(512, 512, 87) 666\n",
      "min and max slice 53 83\n",
      "fucking max slice 83\n",
      "fucking after 87\n",
      "42 87\n",
      "(512, 512, 45)\n"
     ]
    },
    {
     "name": "stderr",
     "output_type": "stream",
     "text": [
      " 61%|██████    | 160/263 [02:35<02:51,  1.67s/it]"
     ]
    },
    {
     "name": "stdout",
     "output_type": "stream",
     "text": [
      "saved!\n",
      "(512, 512, 206) 666\n",
      "min and max slice 34 187\n",
      "fucking max slice 187\n",
      "fucking after 206\n",
      "27 206\n",
      "(512, 512, 179)\n"
     ]
    },
    {
     "name": "stderr",
     "output_type": "stream",
     "text": [
      " 61%|██████    | 161/263 [02:37<03:15,  1.92s/it]"
     ]
    },
    {
     "name": "stdout",
     "output_type": "stream",
     "text": [
      "saved!\n",
      "(512, 512, 42) 666\n",
      "min and max slice 7 38\n",
      "fucking max slice 38\n",
      "fucking after 42\n",
      "5 42\n",
      "(512, 512, 37)\n"
     ]
    },
    {
     "name": "stderr",
     "output_type": "stream",
     "text": [
      " 62%|██████▏   | 162/263 [02:38<02:31,  1.50s/it]"
     ]
    },
    {
     "name": "stdout",
     "output_type": "stream",
     "text": [
      "saved!\n",
      "(512, 512, 63) 666\n",
      "min and max slice 10 55\n",
      "fucking max slice 55\n",
      "fucking after 63\n",
      "8 63\n",
      "(512, 512, 55)\n"
     ]
    },
    {
     "name": "stderr",
     "output_type": "stream",
     "text": [
      " 62%|██████▏   | 163/263 [02:39<02:12,  1.32s/it]"
     ]
    },
    {
     "name": "stdout",
     "output_type": "stream",
     "text": [
      "saved!\n",
      "(512, 512, 311) 666\n",
      "min and max slice 45 278\n",
      "fucking max slice 278\n",
      "fucking after 311\n",
      "36 311\n",
      "(512, 512, 275)\n"
     ]
    },
    {
     "name": "stderr",
     "output_type": "stream",
     "text": [
      " 62%|██████▏   | 164/263 [02:43<03:40,  2.23s/it]"
     ]
    },
    {
     "name": "stdout",
     "output_type": "stream",
     "text": [
      "saved!\n",
      "(512, 512, 34) 666\n",
      "min and max slice 2 31\n",
      "fucking max slice 31\n",
      "fucking after 34\n",
      "1 34\n",
      "(512, 512, 33)\n"
     ]
    },
    {
     "name": "stderr",
     "output_type": "stream",
     "text": [
      " 63%|██████▎   | 165/263 [02:44<02:48,  1.72s/it]"
     ]
    },
    {
     "name": "stdout",
     "output_type": "stream",
     "text": [
      "saved!\n",
      "(512, 512, 34) 666\n",
      "min and max slice 3 33\n",
      "fucking max slice 33\n",
      "fucking after 34\n",
      "2 34\n",
      "(512, 512, 32)\n"
     ]
    },
    {
     "name": "stderr",
     "output_type": "stream",
     "text": [
      " 63%|██████▎   | 166/263 [02:44<02:12,  1.36s/it]"
     ]
    },
    {
     "name": "stdout",
     "output_type": "stream",
     "text": [
      "saved!\n",
      "(512, 512, 60) 666\n",
      "min and max slice 0 16\n",
      "fucking max slice 16\n",
      "fucking after 20\n",
      "0 20\n",
      "(512, 512, 20)\n"
     ]
    },
    {
     "name": "stderr",
     "output_type": "stream",
     "text": [
      " 63%|██████▎   | 167/263 [02:45<01:45,  1.10s/it]"
     ]
    },
    {
     "name": "stdout",
     "output_type": "stream",
     "text": [
      "saved!\n",
      "(512, 512, 78) 666\n",
      "min and max slice 6 34\n",
      "fucking max slice 34\n",
      "fucking after 41\n",
      "4 41\n",
      "(512, 512, 37)\n"
     ]
    },
    {
     "name": "stderr",
     "output_type": "stream",
     "text": [
      " 64%|██████▍   | 168/263 [02:45<01:33,  1.01it/s]"
     ]
    },
    {
     "name": "stdout",
     "output_type": "stream",
     "text": [
      "saved!\n",
      "(512, 512, 47) 666\n",
      "min and max slice 19 42\n",
      "fucking max slice 42\n",
      "fucking after 47\n",
      "15 47\n",
      "(512, 512, 32)\n"
     ]
    },
    {
     "name": "stderr",
     "output_type": "stream",
     "text": [
      " 64%|██████▍   | 169/263 [02:46<01:18,  1.19it/s]"
     ]
    },
    {
     "name": "stdout",
     "output_type": "stream",
     "text": [
      "saved!\n",
      "(512, 512, 35) 666\n",
      "min and max slice 4 32\n",
      "fucking max slice 32\n",
      "fucking after 35\n",
      "3 35\n",
      "(512, 512, 32)\n"
     ]
    },
    {
     "name": "stderr",
     "output_type": "stream",
     "text": [
      " 65%|██████▍   | 170/263 [02:46<01:07,  1.39it/s]"
     ]
    },
    {
     "name": "stdout",
     "output_type": "stream",
     "text": [
      "saved!\n",
      "(512, 512, 35) 666\n",
      "min and max slice 3 31\n",
      "fucking max slice 31\n",
      "fucking after 35\n",
      "2 35\n",
      "(512, 512, 33)\n"
     ]
    },
    {
     "name": "stderr",
     "output_type": "stream",
     "text": [
      " 65%|██████▌   | 171/263 [02:47<00:59,  1.55it/s]"
     ]
    },
    {
     "name": "stdout",
     "output_type": "stream",
     "text": [
      "saved!\n",
      "(512, 512, 88) 666\n",
      "min and max slice 56 81\n",
      "fucking max slice 81\n",
      "fucking after 88\n",
      "44 88\n",
      "(512, 512, 44)\n"
     ]
    },
    {
     "name": "stderr",
     "output_type": "stream",
     "text": [
      " 65%|██████▌   | 172/263 [02:48<01:02,  1.45it/s]"
     ]
    },
    {
     "name": "stdout",
     "output_type": "stream",
     "text": [
      "saved!\n",
      "(512, 512, 92) 666\n",
      "min and max slice 16 88\n",
      "fucking max slice 88\n",
      "fucking after 92\n",
      "12 92\n",
      "(512, 512, 80)\n"
     ]
    },
    {
     "name": "stderr",
     "output_type": "stream",
     "text": [
      " 66%|██████▌   | 173/263 [02:49<01:15,  1.19it/s]"
     ]
    },
    {
     "name": "stdout",
     "output_type": "stream",
     "text": [
      "saved!\n",
      "(512, 512, 65) 666\n",
      "min and max slice 0 17\n",
      "fucking max slice 17\n",
      "fucking after 21\n",
      "0 21\n",
      "(512, 512, 21)\n"
     ]
    },
    {
     "name": "stderr",
     "output_type": "stream",
     "text": [
      " 66%|██████▌   | 174/263 [02:49<01:05,  1.36it/s]"
     ]
    },
    {
     "name": "stdout",
     "output_type": "stream",
     "text": [
      "saved!\n",
      "(512, 512, 48) 666\n",
      "min and max slice 5 41\n",
      "fucking max slice 41\n",
      "fucking after 48\n",
      "4 48\n",
      "(512, 512, 44)\n"
     ]
    },
    {
     "name": "stderr",
     "output_type": "stream",
     "text": [
      " 67%|██████▋   | 175/263 [02:50<01:01,  1.44it/s]"
     ]
    },
    {
     "name": "stdout",
     "output_type": "stream",
     "text": [
      "saved!\n",
      "(512, 512, 137) 666\n",
      "min and max slice 53 89\n",
      "fucking max slice 89\n",
      "fucking after 107\n",
      "42 107\n",
      "(512, 512, 65)\n"
     ]
    },
    {
     "name": "stderr",
     "output_type": "stream",
     "text": [
      " 67%|██████▋   | 176/263 [02:51<01:10,  1.23it/s]"
     ]
    },
    {
     "name": "stdout",
     "output_type": "stream",
     "text": [
      "saved!\n",
      "(512, 512, 35) 666\n",
      "min and max slice 2 32\n",
      "fucking max slice 32\n",
      "fucking after 35\n",
      "1 35\n",
      "(512, 512, 34)\n"
     ]
    },
    {
     "name": "stderr",
     "output_type": "stream",
     "text": [
      " 67%|██████▋   | 177/263 [02:51<01:00,  1.42it/s]"
     ]
    },
    {
     "name": "stdout",
     "output_type": "stream",
     "text": [
      "saved!\n",
      "(512, 512, 35) 666\n",
      "min and max slice 1 31\n",
      "fucking max slice 31\n",
      "fucking after 35\n",
      "0 35\n",
      "(512, 512, 35)\n"
     ]
    },
    {
     "name": "stderr",
     "output_type": "stream",
     "text": [
      " 68%|██████▊   | 178/263 [02:52<00:53,  1.58it/s]"
     ]
    },
    {
     "name": "stdout",
     "output_type": "stream",
     "text": [
      "saved!\n",
      "(512, 512, 167) 666\n",
      "min and max slice 51 155\n",
      "fucking max slice 155\n",
      "fucking after 167\n",
      "40 167\n",
      "(512, 512, 127)\n"
     ]
    },
    {
     "name": "stderr",
     "output_type": "stream",
     "text": [
      " 68%|██████▊   | 179/263 [02:54<01:22,  1.02it/s]"
     ]
    },
    {
     "name": "stdout",
     "output_type": "stream",
     "text": [
      "saved!\n",
      "(512, 512, 47) 666\n",
      "min and max slice 14 44\n",
      "fucking max slice 44\n",
      "fucking after 47\n",
      "11 47\n",
      "(512, 512, 36)\n"
     ]
    },
    {
     "name": "stderr",
     "output_type": "stream",
     "text": [
      " 68%|██████▊   | 180/263 [02:54<01:10,  1.18it/s]"
     ]
    },
    {
     "name": "stdout",
     "output_type": "stream",
     "text": [
      "saved!\n"
     ]
    },
    {
     "name": "stderr",
     "output_type": "stream",
     "text": [
      " 69%|██████▉   | 181/263 [02:55<00:59,  1.37it/s]"
     ]
    },
    {
     "name": "stdout",
     "output_type": "stream",
     "text": [
      "(512, 512, 71) 666\n",
      "min and max slice 0 13\n",
      "fucking max slice 13\n",
      "fucking after 16\n",
      "0 16\n",
      "(512, 512, 16)\n",
      "saved!\n",
      "(512, 512, 46) 666\n",
      "min and max slice 5 41\n",
      "fucking max slice 41\n",
      "fucking after 46\n",
      "4 46\n",
      "(512, 512, 42)\n"
     ]
    },
    {
     "name": "stderr",
     "output_type": "stream",
     "text": [
      " 69%|██████▉   | 182/263 [02:55<00:55,  1.47it/s]"
     ]
    },
    {
     "name": "stdout",
     "output_type": "stream",
     "text": [
      "saved!\n",
      "(512, 512, 161) 666\n",
      "min and max slice 71 103\n",
      "fucking max slice 103\n",
      "fucking after 124\n",
      "56 124\n",
      "(512, 512, 68)\n"
     ]
    },
    {
     "name": "stderr",
     "output_type": "stream",
     "text": [
      " 70%|██████▉   | 183/263 [02:56<01:06,  1.21it/s]"
     ]
    },
    {
     "name": "stdout",
     "output_type": "stream",
     "text": [
      "saved!\n",
      "(512, 512, 53) 666\n",
      "min and max slice 13 48\n",
      "fucking max slice 48\n",
      "fucking after 53\n",
      "10 53\n",
      "(512, 512, 43)\n"
     ]
    },
    {
     "name": "stderr",
     "output_type": "stream",
     "text": [
      " 70%|██████▉   | 184/263 [02:57<01:00,  1.30it/s]"
     ]
    },
    {
     "name": "stdout",
     "output_type": "stream",
     "text": [
      "saved!\n",
      "(512, 512, 46) 666\n",
      "min and max slice 6 40\n",
      "fucking max slice 40\n",
      "fucking after 46\n",
      "4 46\n",
      "(512, 512, 42)\n"
     ]
    },
    {
     "name": "stderr",
     "output_type": "stream",
     "text": [
      " 70%|███████   | 185/263 [02:57<00:54,  1.43it/s]"
     ]
    },
    {
     "name": "stdout",
     "output_type": "stream",
     "text": [
      "saved!\n",
      "(512, 512, 41) 666\n",
      "min and max slice 5 37\n",
      "fucking max slice 37\n",
      "fucking after 41\n",
      "4 41\n",
      "(512, 512, 37)\n"
     ]
    },
    {
     "name": "stderr",
     "output_type": "stream",
     "text": [
      " 71%|███████   | 186/263 [02:58<00:49,  1.55it/s]"
     ]
    },
    {
     "name": "stdout",
     "output_type": "stream",
     "text": [
      "saved!\n",
      "(512, 512, 41) 666\n",
      "min and max slice 6 38\n",
      "fucking max slice 38\n",
      "fucking after 41\n",
      "4 41\n",
      "(512, 512, 37)\n"
     ]
    },
    {
     "name": "stderr",
     "output_type": "stream",
     "text": [
      " 71%|███████   | 187/263 [02:59<00:46,  1.64it/s]"
     ]
    },
    {
     "name": "stdout",
     "output_type": "stream",
     "text": [
      "saved!\n",
      "(512, 512, 40) 666\n",
      "min and max slice 5 37\n",
      "fucking max slice 37\n",
      "fucking after 40\n",
      "4 40\n",
      "(512, 512, 36)\n"
     ]
    },
    {
     "name": "stderr",
     "output_type": "stream",
     "text": [
      " 71%|███████▏  | 188/263 [02:59<00:43,  1.71it/s]"
     ]
    },
    {
     "name": "stdout",
     "output_type": "stream",
     "text": [
      "saved!\n",
      "(512, 512, 54) 666\n",
      "min and max slice 0 22\n",
      "fucking max slice 22\n",
      "fucking after 27\n",
      "0 27\n",
      "(512, 512, 27)\n"
     ]
    },
    {
     "name": "stderr",
     "output_type": "stream",
     "text": [
      " 72%|███████▏  | 189/263 [02:59<00:39,  1.86it/s]"
     ]
    },
    {
     "name": "stdout",
     "output_type": "stream",
     "text": [
      "saved!\n",
      "(512, 512, 120) 666\n",
      "min and max slice 60 88\n",
      "fucking max slice 88\n",
      "fucking after 106\n",
      "48 106\n",
      "(512, 512, 58)\n"
     ]
    },
    {
     "name": "stderr",
     "output_type": "stream",
     "text": [
      " 72%|███████▏  | 190/263 [03:00<00:46,  1.58it/s]"
     ]
    },
    {
     "name": "stdout",
     "output_type": "stream",
     "text": [
      "saved!\n",
      "(512, 512, 39) 666\n",
      "min and max slice 2 35\n",
      "fucking max slice 35\n",
      "fucking after 39\n",
      "1 39\n",
      "(512, 512, 38)\n"
     ]
    },
    {
     "name": "stderr",
     "output_type": "stream",
     "text": [
      " 73%|███████▎  | 191/263 [03:01<00:41,  1.72it/s]"
     ]
    },
    {
     "name": "stdout",
     "output_type": "stream",
     "text": [
      "saved!\n",
      "(512, 512, 42) 666\n",
      "min and max slice 3 34\n",
      "fucking max slice 34\n",
      "fucking after 41\n",
      "2 41\n",
      "(512, 512, 39)\n"
     ]
    },
    {
     "name": "stderr",
     "output_type": "stream",
     "text": [
      " 73%|███████▎  | 192/263 [03:01<00:39,  1.79it/s]"
     ]
    },
    {
     "name": "stdout",
     "output_type": "stream",
     "text": [
      "saved!\n",
      "(512, 512, 44) 666\n",
      "min and max slice 13 42\n",
      "fucking max slice 42\n",
      "fucking after 44\n",
      "10 44\n",
      "(512, 512, 34)\n"
     ]
    },
    {
     "name": "stderr",
     "output_type": "stream",
     "text": [
      " 73%|███████▎  | 193/263 [03:02<00:37,  1.86it/s]"
     ]
    },
    {
     "name": "stdout",
     "output_type": "stream",
     "text": [
      "saved!\n",
      "(512, 512, 118) 666\n",
      "min and max slice 38 109\n",
      "fucking max slice 109\n",
      "fucking after 118\n",
      "30 118\n",
      "(512, 512, 88)\n"
     ]
    },
    {
     "name": "stderr",
     "output_type": "stream",
     "text": [
      " 74%|███████▍  | 194/263 [03:03<00:52,  1.31it/s]"
     ]
    },
    {
     "name": "stdout",
     "output_type": "stream",
     "text": [
      "saved!\n",
      "(512, 512, 44) 666\n",
      "min and max slice 13 42\n",
      "fucking max slice 42\n",
      "fucking after 44\n",
      "10 44\n",
      "(512, 512, 34)\n"
     ]
    },
    {
     "name": "stderr",
     "output_type": "stream",
     "text": [
      " 74%|███████▍  | 195/263 [03:04<00:47,  1.43it/s]"
     ]
    },
    {
     "name": "stdout",
     "output_type": "stream",
     "text": [
      "saved!\n",
      "(512, 512, 119) 666\n",
      "min and max slice 36 112\n",
      "fucking max slice 112\n",
      "fucking after 119\n",
      "28 119\n",
      "(512, 512, 91)\n"
     ]
    },
    {
     "name": "stderr",
     "output_type": "stream",
     "text": [
      " 75%|███████▍  | 196/263 [03:05<00:59,  1.13it/s]"
     ]
    },
    {
     "name": "stdout",
     "output_type": "stream",
     "text": [
      "saved!\n",
      "(512, 512, 151) 666\n",
      "min and max slice 94 145\n",
      "fucking max slice 145\n",
      "fucking after 151\n",
      "75 151\n",
      "(512, 512, 76)\n"
     ]
    },
    {
     "name": "stderr",
     "output_type": "stream",
     "text": [
      " 75%|███████▍  | 197/263 [03:06<01:01,  1.07it/s]"
     ]
    },
    {
     "name": "stdout",
     "output_type": "stream",
     "text": [
      "saved!\n",
      "(512, 512, 152) 666\n",
      "min and max slice 23 73\n",
      "fucking max slice 73\n",
      "fucking after 88\n",
      "18 88\n",
      "(512, 512, 70)\n"
     ]
    },
    {
     "name": "stderr",
     "output_type": "stream",
     "text": [
      " 75%|███████▌  | 198/263 [03:07<01:02,  1.04it/s]"
     ]
    },
    {
     "name": "stdout",
     "output_type": "stream",
     "text": [
      "saved!\n",
      "(512, 512, 81) 666\n",
      "min and max slice 56 68\n",
      "fucking max slice 68\n",
      "fucking after 81\n",
      "44 81\n",
      "(512, 512, 37)\n"
     ]
    },
    {
     "name": "stderr",
     "output_type": "stream",
     "text": [
      " 76%|███████▌  | 199/263 [03:08<00:53,  1.19it/s]"
     ]
    },
    {
     "name": "stdout",
     "output_type": "stream",
     "text": [
      "saved!\n",
      "(512, 512, 217) 666\n",
      "min and max slice 23 217\n",
      "fucking max slice 217\n",
      "fucking after 217\n",
      "18 217\n",
      "(512, 512, 199)\n"
     ]
    },
    {
     "name": "stderr",
     "output_type": "stream",
     "text": [
      " 76%|███████▌  | 200/263 [03:10<01:24,  1.34s/it]"
     ]
    },
    {
     "name": "stdout",
     "output_type": "stream",
     "text": [
      "saved!\n",
      "(512, 512, 67) 666\n",
      "min and max slice 2 67\n",
      "fucking max slice 67\n",
      "fucking after 67\n",
      "1 67\n",
      "(512, 512, 66)\n"
     ]
    },
    {
     "name": "stderr",
     "output_type": "stream",
     "text": [
      " 76%|███████▋  | 201/263 [03:11<01:14,  1.21s/it]"
     ]
    },
    {
     "name": "stdout",
     "output_type": "stream",
     "text": [
      "saved!\n",
      "(512, 512, 334) 666\n",
      "min and max slice 35 334\n",
      "fucking max slice 334\n",
      "fucking after 334\n",
      "28 334\n",
      "(512, 512, 306)\n"
     ]
    },
    {
     "name": "stderr",
     "output_type": "stream",
     "text": [
      " 77%|███████▋  | 202/263 [03:15<02:05,  2.06s/it]"
     ]
    },
    {
     "name": "stdout",
     "output_type": "stream",
     "text": [
      "saved!\n",
      "(512, 512, 47) 666\n",
      "min and max slice 6 38\n",
      "fucking max slice 38\n",
      "fucking after 46\n",
      "4 46\n",
      "(512, 512, 42)\n"
     ]
    },
    {
     "name": "stderr",
     "output_type": "stream",
     "text": [
      " 77%|███████▋  | 203/263 [03:16<01:36,  1.61s/it]"
     ]
    },
    {
     "name": "stdout",
     "output_type": "stream",
     "text": [
      "saved!\n",
      "(512, 512, 91) 666\n",
      "min and max slice 3 40\n",
      "fucking max slice 40\n",
      "fucking after 48\n",
      "2 48\n",
      "(512, 512, 46)\n"
     ]
    },
    {
     "name": "stderr",
     "output_type": "stream",
     "text": [
      " 78%|███████▊  | 204/263 [03:16<01:20,  1.37s/it]"
     ]
    },
    {
     "name": "stdout",
     "output_type": "stream",
     "text": [
      "saved!\n",
      "(512, 512, 45) 666\n",
      "min and max slice 5 41\n",
      "fucking max slice 41\n",
      "fucking after 45\n",
      "4 45\n",
      "(512, 512, 41)\n"
     ]
    },
    {
     "name": "stderr",
     "output_type": "stream",
     "text": [
      " 78%|███████▊  | 205/263 [03:17<01:05,  1.13s/it]"
     ]
    },
    {
     "name": "stdout",
     "output_type": "stream",
     "text": [
      "saved!\n",
      "(512, 512, 46) 666\n",
      "min and max slice 6 41\n",
      "fucking max slice 41\n",
      "fucking after 46\n",
      "4 46\n",
      "(512, 512, 42)\n"
     ]
    },
    {
     "name": "stderr",
     "output_type": "stream",
     "text": [
      " 78%|███████▊  | 206/263 [03:18<00:55,  1.03it/s]"
     ]
    },
    {
     "name": "stdout",
     "output_type": "stream",
     "text": [
      "saved!\n"
     ]
    },
    {
     "name": "stderr",
     "output_type": "stream",
     "text": [
      " 79%|███████▊  | 207/263 [03:18<00:43,  1.28it/s]"
     ]
    },
    {
     "name": "stdout",
     "output_type": "stream",
     "text": [
      "(512, 512, 58) 666\n",
      "min and max slice 0 7\n",
      "fucking max slice 7\n",
      "fucking after 9\n",
      "0 9\n",
      "(512, 512, 9)\n",
      "saved!\n",
      "(512, 512, 72) 666\n",
      "min and max slice 6 62\n",
      "fucking max slice 62\n",
      "fucking after 72\n",
      "4 72\n",
      "(512, 512, 68)\n"
     ]
    },
    {
     "name": "stderr",
     "output_type": "stream",
     "text": [
      " 79%|███████▉  | 208/263 [03:19<00:48,  1.13it/s]"
     ]
    },
    {
     "name": "stdout",
     "output_type": "stream",
     "text": [
      "saved!\n",
      "(512, 512, 360) 666\n",
      "min and max slice 29 311\n",
      "fucking max slice 311\n",
      "fucking after 360\n",
      "23 360\n",
      "(512, 512, 337)\n"
     ]
    },
    {
     "name": "stderr",
     "output_type": "stream",
     "text": [
      " 79%|███████▉  | 209/263 [03:25<02:13,  2.47s/it]"
     ]
    },
    {
     "name": "stdout",
     "output_type": "stream",
     "text": [
      "saved!\n",
      "(512, 512, 52) 666\n",
      "min and max slice 18 47\n",
      "fucking max slice 47\n",
      "fucking after 52\n",
      "14 52\n",
      "(512, 512, 38)\n"
     ]
    },
    {
     "name": "stderr",
     "output_type": "stream",
     "text": [
      " 80%|███████▉  | 210/263 [03:26<01:41,  1.91s/it]"
     ]
    },
    {
     "name": "stdout",
     "output_type": "stream",
     "text": [
      "saved!\n",
      "(512, 512, 89) 666\n",
      "min and max slice 9 84\n",
      "fucking max slice 84\n",
      "fucking after 89\n",
      "7 89\n",
      "(512, 512, 82)\n"
     ]
    },
    {
     "name": "stderr",
     "output_type": "stream",
     "text": [
      " 80%|████████  | 211/263 [03:27<01:27,  1.68s/it]"
     ]
    },
    {
     "name": "stdout",
     "output_type": "stream",
     "text": [
      "saved!\n",
      "(512, 512, 94) 666\n",
      "min and max slice 44 90\n",
      "fucking max slice 90\n",
      "fucking after 94\n",
      "35 94\n",
      "(512, 512, 59)\n"
     ]
    },
    {
     "name": "stderr",
     "output_type": "stream",
     "text": [
      " 81%|████████  | 212/263 [03:28<01:14,  1.45s/it]"
     ]
    },
    {
     "name": "stdout",
     "output_type": "stream",
     "text": [
      "saved!\n",
      "(512, 512, 596) 666\n",
      "min and max slice 313 565\n",
      "fucking max slice 565\n",
      "fucking after 596\n",
      "250 596\n",
      "(512, 512, 346)\n"
     ]
    },
    {
     "name": "stderr",
     "output_type": "stream",
     "text": [
      " 81%|████████  | 213/263 [03:33<02:09,  2.60s/it]"
     ]
    },
    {
     "name": "stdout",
     "output_type": "stream",
     "text": [
      "saved!\n",
      "(512, 512, 159) 666\n",
      "min and max slice 83 150\n",
      "fucking max slice 150\n",
      "fucking after 159\n",
      "66 159\n",
      "(512, 512, 93)\n"
     ]
    },
    {
     "name": "stderr",
     "output_type": "stream",
     "text": [
      " 81%|████████▏ | 214/263 [03:35<01:49,  2.24s/it]"
     ]
    },
    {
     "name": "stdout",
     "output_type": "stream",
     "text": [
      "saved!\n",
      "(512, 512, 317) 666\n",
      "min and max slice 98 187\n",
      "fucking max slice 187\n",
      "fucking after 225\n",
      "78 225\n",
      "(512, 512, 147)\n"
     ]
    },
    {
     "name": "stderr",
     "output_type": "stream",
     "text": [
      " 82%|████████▏ | 215/263 [03:37<01:50,  2.30s/it]"
     ]
    },
    {
     "name": "stdout",
     "output_type": "stream",
     "text": [
      "saved!\n",
      "(512, 512, 171) 666\n",
      "min and max slice 0 41\n",
      "fucking max slice 41\n",
      "fucking after 50\n",
      "0 50\n",
      "(512, 512, 50)\n"
     ]
    },
    {
     "name": "stderr",
     "output_type": "stream",
     "text": [
      " 82%|████████▏ | 216/263 [03:38<01:31,  1.94s/it]"
     ]
    },
    {
     "name": "stdout",
     "output_type": "stream",
     "text": [
      "saved!\n",
      "(512, 512, 45) 666\n",
      "min and max slice 7 41\n",
      "fucking max slice 41\n",
      "fucking after 45\n",
      "5 45\n",
      "(512, 512, 40)\n"
     ]
    },
    {
     "name": "stderr",
     "output_type": "stream",
     "text": [
      " 83%|████████▎ | 217/263 [03:39<01:11,  1.55s/it]"
     ]
    },
    {
     "name": "stdout",
     "output_type": "stream",
     "text": [
      "saved!\n",
      "(512, 512, 42) 666\n",
      "min and max slice 8 39\n",
      "fucking max slice 39\n",
      "fucking after 42\n",
      "6 42\n",
      "(512, 512, 36)\n"
     ]
    },
    {
     "name": "stderr",
     "output_type": "stream",
     "text": [
      " 83%|████████▎ | 218/263 [03:39<00:55,  1.24s/it]"
     ]
    },
    {
     "name": "stdout",
     "output_type": "stream",
     "text": [
      "saved!\n",
      "(512, 512, 67) 666\n",
      "min and max slice 0 18\n",
      "fucking max slice 18\n",
      "fucking after 22\n",
      "0 22\n",
      "(512, 512, 22)\n"
     ]
    },
    {
     "name": "stderr",
     "output_type": "stream",
     "text": [
      " 83%|████████▎ | 219/263 [03:40<00:44,  1.02s/it]"
     ]
    },
    {
     "name": "stdout",
     "output_type": "stream",
     "text": [
      "saved!\n",
      "(512, 512, 130) 666\n",
      "min and max slice 48 81\n",
      "fucking max slice 81\n",
      "fucking after 98\n",
      "38 98\n",
      "(512, 512, 60)\n"
     ]
    },
    {
     "name": "stderr",
     "output_type": "stream",
     "text": [
      " 84%|████████▎ | 220/263 [03:41<00:46,  1.08s/it]"
     ]
    },
    {
     "name": "stdout",
     "output_type": "stream",
     "text": [
      "saved!\n",
      "(512, 512, 109) 666\n",
      "min and max slice 3 46\n",
      "fucking max slice 46\n",
      "fucking after 56\n",
      "2 56\n",
      "(512, 512, 54)\n"
     ]
    },
    {
     "name": "stderr",
     "output_type": "stream",
     "text": [
      " 84%|████████▍ | 221/263 [03:42<00:48,  1.16s/it]"
     ]
    },
    {
     "name": "stdout",
     "output_type": "stream",
     "text": [
      "saved!\n",
      "(512, 512, 109) 666\n",
      "min and max slice 3 46\n",
      "fucking max slice 46\n",
      "fucking after 56\n",
      "2 56\n",
      "(512, 512, 54)\n"
     ]
    },
    {
     "name": "stderr",
     "output_type": "stream",
     "text": [
      " 84%|████████▍ | 222/263 [03:43<00:46,  1.14s/it]"
     ]
    },
    {
     "name": "stdout",
     "output_type": "stream",
     "text": [
      "saved!\n",
      "(512, 512, 51) 666\n",
      "min and max slice 3 46\n",
      "fucking max slice 46\n",
      "fucking after 51\n",
      "2 51\n",
      "(512, 512, 49)\n"
     ]
    },
    {
     "name": "stderr",
     "output_type": "stream",
     "text": [
      " 85%|████████▍ | 223/263 [03:44<00:40,  1.01s/it]"
     ]
    },
    {
     "name": "stdout",
     "output_type": "stream",
     "text": [
      "saved!\n",
      "(512, 512, 52) 666\n",
      "min and max slice 4 46\n",
      "fucking max slice 46\n",
      "fucking after 52\n",
      "3 52\n",
      "(512, 512, 49)\n"
     ]
    },
    {
     "name": "stderr",
     "output_type": "stream",
     "text": [
      " 85%|████████▌ | 224/263 [03:45<00:35,  1.10it/s]"
     ]
    },
    {
     "name": "stdout",
     "output_type": "stream",
     "text": [
      "saved!\n",
      "(512, 512, 52) 666\n",
      "min and max slice 2 44\n",
      "fucking max slice 44\n",
      "fucking after 52\n",
      "1 52\n",
      "(512, 512, 51)\n"
     ]
    },
    {
     "name": "stderr",
     "output_type": "stream",
     "text": [
      " 86%|████████▌ | 225/263 [03:46<00:32,  1.16it/s]"
     ]
    },
    {
     "name": "stdout",
     "output_type": "stream",
     "text": [
      "saved!\n",
      "(512, 512, 39) 666\n",
      "min and max slice 3 37\n",
      "fucking max slice 37\n",
      "fucking after 39\n",
      "2 39\n",
      "(512, 512, 37)\n"
     ]
    },
    {
     "name": "stderr",
     "output_type": "stream",
     "text": [
      " 86%|████████▌ | 226/263 [03:46<00:29,  1.25it/s]"
     ]
    },
    {
     "name": "stdout",
     "output_type": "stream",
     "text": [
      "saved!\n",
      "(512, 512, 38) 666\n",
      "min and max slice 5 36\n",
      "fucking max slice 36\n",
      "fucking after 38\n",
      "4 38\n",
      "(512, 512, 34)\n"
     ]
    },
    {
     "name": "stderr",
     "output_type": "stream",
     "text": [
      " 86%|████████▋ | 227/263 [03:47<00:25,  1.40it/s]"
     ]
    },
    {
     "name": "stdout",
     "output_type": "stream",
     "text": [
      "saved!\n",
      "(512, 512, 39) 666\n",
      "min and max slice 5 38\n",
      "fucking max slice 38\n",
      "fucking after 39\n",
      "4 39\n",
      "(512, 512, 35)\n"
     ]
    },
    {
     "name": "stderr",
     "output_type": "stream",
     "text": [
      " 87%|████████▋ | 228/263 [03:47<00:23,  1.47it/s]"
     ]
    },
    {
     "name": "stdout",
     "output_type": "stream",
     "text": [
      "saved!\n",
      "(512, 512, 105) 666\n",
      "min and max slice 40 68\n",
      "fucking max slice 68\n",
      "fucking after 82\n",
      "32 82\n",
      "(512, 512, 50)\n"
     ]
    },
    {
     "name": "stderr",
     "output_type": "stream",
     "text": [
      " 87%|████████▋ | 229/263 [03:48<00:26,  1.29it/s]"
     ]
    },
    {
     "name": "stdout",
     "output_type": "stream",
     "text": [
      "saved!\n",
      "(512, 512, 51) 666\n",
      "min and max slice 0 14\n",
      "fucking max slice 14\n",
      "fucking after 17\n",
      "0 17\n",
      "(512, 512, 17)\n"
     ]
    },
    {
     "name": "stderr",
     "output_type": "stream",
     "text": [
      " 87%|████████▋ | 230/263 [03:49<00:22,  1.47it/s]"
     ]
    },
    {
     "name": "stdout",
     "output_type": "stream",
     "text": [
      "saved!\n",
      "(512, 512, 37) 666\n",
      "min and max slice 16 33\n",
      "fucking max slice 33\n",
      "fucking after 37\n",
      "12 37\n",
      "(512, 512, 25)\n"
     ]
    },
    {
     "name": "stderr",
     "output_type": "stream",
     "text": [
      " 88%|████████▊ | 231/263 [03:49<00:19,  1.61it/s]"
     ]
    },
    {
     "name": "stdout",
     "output_type": "stream",
     "text": [
      "saved!\n",
      "(512, 512, 348) 666\n",
      "min and max slice 131 227\n",
      "fucking max slice 227\n",
      "fucking after 273\n",
      "104 273\n",
      "(512, 512, 169)\n"
     ]
    },
    {
     "name": "stderr",
     "output_type": "stream",
     "text": [
      " 88%|████████▊ | 232/263 [03:53<00:46,  1.51s/it]"
     ]
    },
    {
     "name": "stdout",
     "output_type": "stream",
     "text": [
      "saved!\n",
      "(512, 512, 37) 666\n",
      "min and max slice 6 33\n",
      "fucking max slice 33\n",
      "fucking after 37\n",
      "4 37\n",
      "(512, 512, 33)\n"
     ]
    },
    {
     "name": "stderr",
     "output_type": "stream",
     "text": [
      " 89%|████████▊ | 233/263 [03:53<00:36,  1.22s/it]"
     ]
    },
    {
     "name": "stdout",
     "output_type": "stream",
     "text": [
      "saved!\n",
      "(512, 512, 175) 666\n",
      "min and max slice 50 159\n",
      "fucking max slice 159\n",
      "fucking after 175\n",
      "40 175\n",
      "(512, 512, 135)\n"
     ]
    },
    {
     "name": "stderr",
     "output_type": "stream",
     "text": [
      " 89%|████████▉ | 234/263 [03:56<00:43,  1.49s/it]"
     ]
    },
    {
     "name": "stdout",
     "output_type": "stream",
     "text": [
      "saved!\n",
      "(512, 512, 45) 666\n",
      "min and max slice 17 43\n",
      "fucking max slice 43\n",
      "fucking after 45\n",
      "13 45\n",
      "(512, 512, 32)\n"
     ]
    },
    {
     "name": "stderr",
     "output_type": "stream",
     "text": [
      " 89%|████████▉ | 235/263 [03:56<00:33,  1.20s/it]"
     ]
    },
    {
     "name": "stdout",
     "output_type": "stream",
     "text": [
      "saved!\n",
      "(512, 512, 159) 666\n",
      "min and max slice 59 149\n",
      "fucking max slice 149\n",
      "fucking after 159\n",
      "47 159\n",
      "(512, 512, 112)\n"
     ]
    },
    {
     "name": "stderr",
     "output_type": "stream",
     "text": [
      " 90%|████████▉ | 236/263 [03:58<00:38,  1.41s/it]"
     ]
    },
    {
     "name": "stdout",
     "output_type": "stream",
     "text": [
      "saved!\n",
      "(512, 512, 47) 666\n",
      "min and max slice 6 44\n",
      "fucking max slice 44\n",
      "fucking after 47\n",
      "4 47\n",
      "(512, 512, 43)\n"
     ]
    },
    {
     "name": "stderr",
     "output_type": "stream",
     "text": [
      " 90%|█████████ | 237/263 [03:59<00:30,  1.19s/it]"
     ]
    },
    {
     "name": "stdout",
     "output_type": "stream",
     "text": [
      "saved!\n",
      "(512, 512, 51) 666\n",
      "min and max slice 9 48\n",
      "fucking max slice 48\n",
      "fucking after 51\n",
      "7 51\n",
      "(512, 512, 44)\n"
     ]
    },
    {
     "name": "stderr",
     "output_type": "stream",
     "text": [
      " 90%|█████████ | 238/263 [03:59<00:25,  1.03s/it]"
     ]
    },
    {
     "name": "stdout",
     "output_type": "stream",
     "text": [
      "saved!\n",
      "(512, 512, 48) 666\n",
      "min and max slice 5 44\n",
      "fucking max slice 44\n",
      "fucking after 48\n",
      "4 48\n",
      "(512, 512, 44)\n"
     ]
    },
    {
     "name": "stderr",
     "output_type": "stream",
     "text": [
      " 91%|█████████ | 239/263 [04:00<00:21,  1.09it/s]"
     ]
    },
    {
     "name": "stdout",
     "output_type": "stream",
     "text": [
      "saved!\n",
      "(512, 512, 51) 666\n",
      "min and max slice 8 47\n",
      "fucking max slice 47\n",
      "fucking after 51\n",
      "6 51\n",
      "(512, 512, 45)\n"
     ]
    },
    {
     "name": "stderr",
     "output_type": "stream",
     "text": [
      " 91%|█████████▏| 240/263 [04:01<00:20,  1.15it/s]"
     ]
    },
    {
     "name": "stdout",
     "output_type": "stream",
     "text": [
      "saved!\n",
      "(512, 512, 41) 666\n",
      "min and max slice 7 37\n",
      "fucking max slice 37\n",
      "fucking after 41\n",
      "5 41\n",
      "(512, 512, 36)\n"
     ]
    },
    {
     "name": "stderr",
     "output_type": "stream",
     "text": [
      " 92%|█████████▏| 241/263 [04:01<00:17,  1.25it/s]"
     ]
    },
    {
     "name": "stdout",
     "output_type": "stream",
     "text": [
      "saved!\n",
      "(512, 512, 36) 666\n",
      "min and max slice 4 32\n",
      "fucking max slice 32\n",
      "fucking after 36\n",
      "3 36\n",
      "(512, 512, 33)\n"
     ]
    },
    {
     "name": "stderr",
     "output_type": "stream",
     "text": [
      " 92%|█████████▏| 242/263 [04:02<00:15,  1.38it/s]"
     ]
    },
    {
     "name": "stdout",
     "output_type": "stream",
     "text": [
      "saved!\n",
      "(512, 512, 36) 666\n",
      "min and max slice 5 32\n",
      "fucking max slice 32\n",
      "fucking after 36\n",
      "4 36\n",
      "(512, 512, 32)\n"
     ]
    },
    {
     "name": "stderr",
     "output_type": "stream",
     "text": [
      " 92%|█████████▏| 243/263 [04:02<00:13,  1.53it/s]"
     ]
    },
    {
     "name": "stdout",
     "output_type": "stream",
     "text": [
      "saved!\n",
      "(512, 512, 55) 666\n",
      "min and max slice 12 50\n",
      "fucking max slice 50\n",
      "fucking after 55\n",
      "9 55\n",
      "(512, 512, 46)\n"
     ]
    },
    {
     "name": "stderr",
     "output_type": "stream",
     "text": [
      " 93%|█████████▎| 244/263 [04:03<00:13,  1.41it/s]"
     ]
    },
    {
     "name": "stdout",
     "output_type": "stream",
     "text": [
      "saved!\n",
      "(512, 512, 58) 666\n",
      "min and max slice 14 54\n",
      "fucking max slice 54\n",
      "fucking after 58\n",
      "11 58\n",
      "(512, 512, 47)\n"
     ]
    },
    {
     "name": "stderr",
     "output_type": "stream",
     "text": [
      " 93%|█████████▎| 245/263 [04:04<00:13,  1.35it/s]"
     ]
    },
    {
     "name": "stdout",
     "output_type": "stream",
     "text": [
      "saved!\n",
      "(512, 512, 61) 666\n",
      "min and max slice 18 55\n",
      "fucking max slice 55\n",
      "fucking after 61\n",
      "14 61\n",
      "(512, 512, 47)\n"
     ]
    },
    {
     "name": "stderr",
     "output_type": "stream",
     "text": [
      " 94%|█████████▎| 246/263 [04:05<00:12,  1.32it/s]"
     ]
    },
    {
     "name": "stdout",
     "output_type": "stream",
     "text": [
      "saved!\n",
      "(512, 512, 58) 666\n",
      "min and max slice 13 52\n",
      "fucking max slice 52\n",
      "fucking after 58\n",
      "10 58\n",
      "(512, 512, 48)\n"
     ]
    },
    {
     "name": "stderr",
     "output_type": "stream",
     "text": [
      " 94%|█████████▍| 247/263 [04:06<00:13,  1.20it/s]"
     ]
    },
    {
     "name": "stdout",
     "output_type": "stream",
     "text": [
      "saved!\n",
      "(512, 512, 37) 666\n",
      "min and max slice 4 35\n",
      "fucking max slice 35\n",
      "fucking after 37\n",
      "3 37\n",
      "(512, 512, 34)\n"
     ]
    },
    {
     "name": "stderr",
     "output_type": "stream",
     "text": [
      " 94%|█████████▍| 248/263 [04:06<00:11,  1.34it/s]"
     ]
    },
    {
     "name": "stdout",
     "output_type": "stream",
     "text": [
      "saved!\n",
      "(512, 512, 37) 666\n",
      "min and max slice 6 36\n",
      "fucking max slice 36\n",
      "fucking after 37\n",
      "4 37\n",
      "(512, 512, 33)\n"
     ]
    },
    {
     "name": "stderr",
     "output_type": "stream",
     "text": [
      " 95%|█████████▍| 249/263 [04:07<00:09,  1.45it/s]"
     ]
    },
    {
     "name": "stdout",
     "output_type": "stream",
     "text": [
      "saved!\n",
      "(512, 512, 54) 666\n",
      "min and max slice 0 14\n",
      "fucking max slice 14\n",
      "fucking after 17\n",
      "0 17\n",
      "(512, 512, 17)\n"
     ]
    },
    {
     "name": "stderr",
     "output_type": "stream",
     "text": [
      " 95%|█████████▌| 250/263 [04:07<00:08,  1.62it/s]"
     ]
    },
    {
     "name": "stdout",
     "output_type": "stream",
     "text": [
      "saved!\n",
      "(512, 512, 77) 666\n",
      "min and max slice 6 37\n",
      "fucking max slice 37\n",
      "fucking after 45\n",
      "4 45\n",
      "(512, 512, 41)\n"
     ]
    },
    {
     "name": "stderr",
     "output_type": "stream",
     "text": [
      " 95%|█████████▌| 251/263 [04:08<00:08,  1.47it/s]"
     ]
    },
    {
     "name": "stdout",
     "output_type": "stream",
     "text": [
      "saved!\n",
      "(512, 512, 71) 666\n",
      "min and max slice 13 61\n",
      "fucking max slice 61\n",
      "fucking after 71\n",
      "10 71\n",
      "(512, 512, 61)\n"
     ]
    },
    {
     "name": "stderr",
     "output_type": "stream",
     "text": [
      " 96%|█████████▌| 252/263 [04:09<00:08,  1.35it/s]"
     ]
    },
    {
     "name": "stdout",
     "output_type": "stream",
     "text": [
      "saved!\n",
      "(512, 512, 158) 666\n",
      "min and max slice 23 135\n",
      "fucking max slice 135\n",
      "fucking after 158\n",
      "18 158\n",
      "(512, 512, 140)\n"
     ]
    },
    {
     "name": "stderr",
     "output_type": "stream",
     "text": [
      " 96%|█████████▌| 253/263 [04:11<00:11,  1.14s/it]"
     ]
    },
    {
     "name": "stdout",
     "output_type": "stream",
     "text": [
      "saved!\n",
      "(512, 512, 158) 666\n",
      "min and max slice 21 127\n",
      "fucking max slice 127\n",
      "fucking after 153\n",
      "16 153\n",
      "(512, 512, 137)\n"
     ]
    },
    {
     "name": "stderr",
     "output_type": "stream",
     "text": [
      " 97%|█████████▋| 254/263 [04:13<00:12,  1.40s/it]"
     ]
    },
    {
     "name": "stdout",
     "output_type": "stream",
     "text": [
      "saved!\n",
      "(512, 512, 44) 666\n",
      "min and max slice 5 38\n",
      "fucking max slice 38\n",
      "fucking after 44\n",
      "4 44\n",
      "(512, 512, 40)\n"
     ]
    },
    {
     "name": "stderr",
     "output_type": "stream",
     "text": [
      " 97%|█████████▋| 255/263 [04:14<00:09,  1.16s/it]"
     ]
    },
    {
     "name": "stdout",
     "output_type": "stream",
     "text": [
      "saved!\n",
      "(512, 512, 44) 666\n",
      "min and max slice 4 36\n",
      "fucking max slice 36\n",
      "fucking after 44\n",
      "3 44\n",
      "(512, 512, 41)\n"
     ]
    },
    {
     "name": "stderr",
     "output_type": "stream",
     "text": [
      " 97%|█████████▋| 256/263 [04:14<00:06,  1.01it/s]"
     ]
    },
    {
     "name": "stdout",
     "output_type": "stream",
     "text": [
      "saved!\n",
      "(512, 512, 37) 666\n",
      "min and max slice 4 35\n",
      "fucking max slice 35\n",
      "fucking after 37\n",
      "3 37\n",
      "(512, 512, 34)\n"
     ]
    },
    {
     "name": "stderr",
     "output_type": "stream",
     "text": [
      " 98%|█████████▊| 257/263 [04:15<00:05,  1.20it/s]"
     ]
    },
    {
     "name": "stdout",
     "output_type": "stream",
     "text": [
      "saved!\n",
      "(512, 512, 39) 666\n",
      "min and max slice 3 32\n",
      "fucking max slice 32\n",
      "fucking after 39\n",
      "2 39\n",
      "(512, 512, 37)\n"
     ]
    },
    {
     "name": "stderr",
     "output_type": "stream",
     "text": [
      " 98%|█████████▊| 258/263 [04:15<00:03,  1.35it/s]"
     ]
    },
    {
     "name": "stdout",
     "output_type": "stream",
     "text": [
      "saved!\n",
      "(512, 512, 38) 666\n",
      "min and max slice 14 33\n",
      "fucking max slice 33\n",
      "fucking after 38\n",
      "11 38\n",
      "(512, 512, 27)\n"
     ]
    },
    {
     "name": "stderr",
     "output_type": "stream",
     "text": [
      " 98%|█████████▊| 259/263 [04:16<00:02,  1.57it/s]"
     ]
    },
    {
     "name": "stdout",
     "output_type": "stream",
     "text": [
      "saved!\n",
      "(512, 512, 206) 666\n",
      "min and max slice 71 191\n",
      "fucking max slice 191\n",
      "fucking after 206\n",
      "56 206\n",
      "(512, 512, 150)\n"
     ]
    },
    {
     "name": "stderr",
     "output_type": "stream",
     "text": [
      " 99%|█████████▉| 260/263 [04:18<00:03,  1.13s/it]"
     ]
    },
    {
     "name": "stdout",
     "output_type": "stream",
     "text": [
      "saved!\n",
      "(512, 512, 67) 666\n",
      "min and max slice 4 51\n",
      "fucking max slice 51\n",
      "fucking after 62\n",
      "3 62\n",
      "(512, 512, 59)\n"
     ]
    },
    {
     "name": "stderr",
     "output_type": "stream",
     "text": [
      " 99%|█████████▉| 261/263 [04:19<00:02,  1.10s/it]"
     ]
    },
    {
     "name": "stdout",
     "output_type": "stream",
     "text": [
      "saved!\n",
      "(512, 512, 67) 666\n",
      "min and max slice 4 51\n",
      "fucking max slice 51\n",
      "fucking after 62\n",
      "3 62\n",
      "(512, 512, 59)\n"
     ]
    },
    {
     "name": "stderr",
     "output_type": "stream",
     "text": [
      "100%|█████████▉| 262/263 [04:20<00:01,  1.08s/it]"
     ]
    },
    {
     "name": "stdout",
     "output_type": "stream",
     "text": [
      "saved!\n",
      "(512, 512, 65) 666\n",
      "min and max slice 10 55\n",
      "fucking max slice 55\n",
      "fucking after 65\n",
      "8 65\n",
      "(512, 512, 57)\n"
     ]
    },
    {
     "name": "stderr",
     "output_type": "stream",
     "text": [
      "100%|██████████| 263/263 [04:21<00:00,  1.01it/s]"
     ]
    },
    {
     "name": "stdout",
     "output_type": "stream",
     "text": [
      "saved!\n"
     ]
    },
    {
     "name": "stderr",
     "output_type": "stream",
     "text": [
      "\n"
     ]
    }
   ],
   "source": [
    "import matplotlib.pyplot as plt\n",
    "image_path = '../../Data/CT_Phase/Full_Image_Liver_07075/CILM_CT_101040_0000.nii.gz'\n",
    "image_name = 'CILM_CT_101040_0000.nii.gz'\n",
    "cropped_out_path = '../../Data/CT_Phase/Full_image_Liver_slice_07075'\n",
    "\n",
    "os.makedirs(cropped_out_path,exist_ok=True)\n",
    "save_liver_slice(image_path,image_name,cropped_out_path,slice_margin=0.2)\n",
    "\n",
    "\n",
    "#save all slice that includes liver\n",
    "for i in tqdm(range(image_orig_load.images_num)):\n",
    "    file_name = image_orig_load.images_names[i]\n",
    "    image_path = image_orig_load.image_path[i]\n",
    "    save_liver_slice(image_path,file_name,cropped_out_path,slice_margin=0.2)\n",
    "\n"
   ]
  },
  {
   "cell_type": "code",
   "execution_count": 48,
   "metadata": {},
   "outputs": [],
   "source": [
    "img = nib.load('../../Data/CT_Phase/Full_image_Liver_slice_07075/CILM_CT_246501_0000.nii.gz').get_fdata()\n",
    "#plt.imshow(img[:,:,0],cmap='gray')"
   ]
  },
  {
   "cell_type": "code",
   "execution_count": 56,
   "metadata": {},
   "outputs": [
    {
     "name": "stdout",
     "output_type": "stream",
     "text": [
      "min and max slice 345 544\n",
      "276 93\n",
      "(539, 539, 0)\n",
      "saved!\n"
     ]
    }
   ],
   "source": []
  },
  {
   "cell_type": "code",
   "execution_count": 19,
   "metadata": {},
   "outputs": [
    {
     "data": {
      "text/plain": [
       "(258, 288, 30)"
      ]
     },
     "execution_count": 19,
     "metadata": {},
     "output_type": "execute_result"
    }
   ],
   "source": [
    "a.shape"
   ]
  },
  {
   "cell_type": "code",
   "execution_count": null,
   "metadata": {},
   "outputs": [],
   "source": []
  }
 ],
 "metadata": {
  "kernelspec": {
   "display_name": "samuel",
   "language": "python",
   "name": "python3"
  },
  "language_info": {
   "codemirror_mode": {
    "name": "ipython",
    "version": 3
   },
   "file_extension": ".py",
   "mimetype": "text/x-python",
   "name": "python",
   "nbconvert_exporter": "python",
   "pygments_lexer": "ipython3",
   "version": "3.9.18"
  }
 },
 "nbformat": 4,
 "nbformat_minor": 2
}
