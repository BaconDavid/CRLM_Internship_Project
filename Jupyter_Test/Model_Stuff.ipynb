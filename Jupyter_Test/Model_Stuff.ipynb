{
 "cells": [
  {
   "cell_type": "code",
   "execution_count": 4,
   "metadata": {},
   "outputs": [],
   "source": [
    "import sys\n",
    "sys.path.append('../')\n",
    "import Phase_Detector.Utility as Utility\n",
    "import torch"
   ]
  },
  {
   "cell_type": "code",
   "execution_count": 5,
   "metadata": {},
   "outputs": [
    {
     "name": "stdout",
     "output_type": "stream",
     "text": [
      "CrossEntropyLoss()\n"
     ]
    }
   ],
   "source": [
    "from torch.nn import CrossEntropyLoss\n",
    "import torch\n",
    "loss = CrossEntropyLoss()\n",
    "print(loss)"
   ]
  },
  {
   "cell_type": "code",
   "execution_count": 48,
   "metadata": {},
   "outputs": [],
   "source": [
    "y_true = [1,0,0,1,0,0,1,0,0,]\n",
    "y_pre_tensor = [torch.tensor([0.1,0.8]).reshape(1,2) for i in range(len(y_true))]\n",
    "metric = Utility.Metrics(2,y_pred=y_pre_tensor, y_true_label=y_true)\n",
    "#metric.get_accuracy()"
   ]
  },
  {
   "cell_type": "markdown",
   "metadata": {},
   "source": [
    "Test Dataloader"
   ]
  },
  {
   "cell_type": "code",
   "execution_count": 15,
   "metadata": {},
   "outputs": [],
   "source": [
    "import torch\n",
    "from torch.utils.data import Dataset, DataLoader\n",
    "\n",
    "# 定义一个简单的自定义数据集\n",
    "# 示例数据\n",
    "data = [i for i in range(10)]  # 一个包含0-9的简单列表\n",
    "\n",
    "# 创建Dataset\n",
    "simple_dataset = ImageDataset(data)\n",
    "\n",
    "# 创建DataLoader\n",
    "#data_loader = DataLoader(simple_dataset, batch_size=2, shuffle=True)\n",
    "\n",
    "# 迭代DataLoader\n",
    "#for batch in data_loader:\n",
    " #   print(batch)\n"
   ]
  },
  {
   "cell_type": "code",
   "execution_count": 1,
   "metadata": {},
   "outputs": [
    {
     "name": "stderr",
     "output_type": "stream",
     "text": [
      "c:\\Users\\098986\\AppData\\Local\\anaconda3\\envs\\CILM\\lib\\site-packages\\tqdm\\auto.py:21: TqdmWarning: IProgress not found. Please update jupyter and ipywidgets. See https://ipywidgets.readthedocs.io/en/stable/user_install.html\n",
      "  from .autonotebook import tqdm as notebook_tqdm\n"
     ]
    }
   ],
   "source": []
  },
  {
   "cell_type": "code",
   "execution_count": 13,
   "metadata": {},
   "outputs": [],
   "source": [
    "from torch import tensor\n",
    "import torch\n",
    "import nibabel as nib\n",
    "\n",
    "from torch.utils.data import WeightedRandomSampler\n",
    "\n",
    "import numpy as np\n",
    "import pandas as pd\n",
    "import os\n",
    "from monai.transforms import Compose\n",
    "\n",
    "from monai.data import ImageDataset,DataLoader\n",
    "\n",
    "\n",
    "class Image_Dataset(ImageDataset):\n",
    "    def __init__(self,image_files,labels,transform_methods=None,data_aug=True,label_name=None,*args,**kwargs):\n",
    "        \"\"\"\n",
    "        args:\n",
    "            image_files: list of image files path\n",
    "            labels: list of labels\n",
    "            transform_methods: list of transform methods\n",
    "            data_aug: True if data augmentation is used\n",
    "            label_name: name of the label\n",
    "        \n",
    "        \"\"\"\n",
    "        if data_aug:\n",
    "            transform = Compose(transform_methods)\n",
    "        else:\n",
    "            transform = None\n",
    "\n",
    "        super().__init__(image_files=image_files,labels=labels,transform=transform,*args, **kwargs)\n",
    "\n",
    "    \n",
    "    def __len__(self):\n",
    "        return len(self.image_files)\n",
    "    \n",
    "    def __getitem__(self,index):\n",
    "        image = self.image_files[index]\n",
    "        label = self.labels[index]\n",
    "\n",
    "        # get image array\n",
    "        image = nib.load(image).get_fdata()\n",
    "        # here to do windowing\n",
    "\n",
    "        image = tensor(image)\n",
    "        return image,label\n",
    "    \n",
    "class Data_Loader(DataLoader):\n",
    "    def __init__(self,dataset,batch_size,num_workers=0,*args,**kwargs):\n",
    "        super().__init__(dataset=dataset,batch_size=batch_size,num_workers=num_workers,*args,**kwargs)\n",
    "    \n",
    "    \n",
    "    def build_train_loader(self):\n",
    "        return DataLoader(self.dataset,batch_size=self.batch_size,shuffle=True,num_workers=self.num_workers,drop_last=True,*self.args,**self.kwargs)\n",
    "\n",
    "    def build_vali_loader(self):\n",
    "        return DataLoader(self.dataset,batch_size=self.batch_size,shuffle=False,num_workers=self.num_workers,drop_last=False,*self.args,**self.kwargs)\n",
    "    \n",
    "    def build_test_loader(self):\n",
    "        return DataLoader(self.dataset,batch_size=self.batch_size,shuffle=False,num_workers=self.num_workers,drop_last=False,*self.args,**self.kwargs)\n"
   ]
  },
  {
   "cell_type": "code",
   "execution_count": 11,
   "metadata": {},
   "outputs": [
    {
     "data": {
      "text/plain": [
       "<generator object Module.parameters at 0x00000186E6371F20>"
      ]
     },
     "execution_count": 11,
     "metadata": {},
     "output_type": "execute_result"
    }
   ],
   "source": [
    "\n",
    "import monai\n",
    "import torch\n",
    "\n",
    "model = monai.networks.nets.resnet10()\n",
    "model.parameters()"
   ]
  },
  {
   "cell_type": "code",
   "execution_count": 33,
   "metadata": {},
   "outputs": [
    {
     "name": "stdout",
     "output_type": "stream",
     "text": [
      "{'lr': 0.001}\n"
     ]
    }
   ],
   "source": [
    "def build_optimizer(parameters,**kwargs):\n",
    "    print(kwargs)\n",
    "    return torch.optim.Adam(parameters,**kwargs)\n",
    "\n",
    "\n",
    "optimizer_param = {\"lr\":0.001}\n",
    "optimizer = build_optimizer(model.parameters(),**optimizer_param)"
   ]
  },
  {
   "cell_type": "code",
   "execution_count": 46,
   "metadata": {},
   "outputs": [
    {
     "data": {
      "text/plain": [
       "CrossEntropyLoss()"
      ]
     },
     "execution_count": 46,
     "metadata": {},
     "output_type": "execute_result"
    }
   ],
   "source": [
    "from torch.nn import CrossEntropyLoss\n",
    "\n",
    "class Loss:\n",
    "    def __init__(self,*args,**kwargs):\n",
    "        \"\"\"\n",
    "        args:\n",
    "            args only have one loss function\n",
    "        \"\"\"\n",
    "        self.args = args\n",
    "\n",
    "    def build_loss(self):\n",
    "        return self.args[0]\n",
    "    \n",
    "    def calculate_loss(self,*args):\n",
    "        pass\n"
   ]
  },
  {
   "cell_type": "code",
   "execution_count": 20,
   "metadata": {},
   "outputs": [
    {
     "data": {
      "text/plain": [
       "{'_do_transform': True,\n",
       " 'prob': 0.5,\n",
       " '_lazy': False,\n",
       " 'min_zoom': (1.0,),\n",
       " 'max_zoom': (1.2,),\n",
       " 'mode': area,\n",
       " 'padding_mode': edge,\n",
       " 'align_corners': None,\n",
       " 'dtype': torch.float32,\n",
       " 'keep_size': True,\n",
       " 'kwargs': {},\n",
       " '_zoom': [1.0]}"
      ]
     },
     "execution_count": 20,
     "metadata": {},
     "output_type": "execute_result"
    }
   ],
   "source": [
    "from monai.transforms import Compose,EnsureChannelFirst,RandZoom,RandRotate,RandFlip,ToTensor\n",
    "import inspect\n",
    "transform_param = {\"transform_methods\":[\n",
    "                                EnsureChannelFirst(),\n",
    "                                # Data augmentation\n",
    "                                RandZoom(prob = 0.5, min_zoom=1.0, max_zoom=1.2),\n",
    "                                RandRotate(range_z = 0.35, prob = 0.8),\n",
    "                                RandFlip(prob = 0.5),\n",
    "                                # To tensor\n",
    "                                ToTensor()\n",
    "                                ]}\n",
    "transform_param['transform_methods'][1].__dict__\n"
   ]
  },
  {
   "cell_type": "markdown",
   "metadata": {},
   "source": [
    "Test Dataloader\n"
   ]
  },
  {
   "cell_type": "code",
   "execution_count": 8,
   "metadata": {},
   "outputs": [
    {
     "data": {
      "text/plain": [
       "0.5"
      ]
     },
     "execution_count": 8,
     "metadata": {},
     "output_type": "execute_result"
    }
   ],
   "source": [
    "from sklearn.metrics import accuracy_score\n",
    "import torch\n",
    "a = torch.tensor([0,1])\n",
    "b = [0,]\n",
    "accuracy_score(a,b)"
   ]
  },
  {
   "cell_type": "code",
   "execution_count": 14,
   "metadata": {},
   "outputs": [
    {
     "data": {
      "text/plain": [
       "40"
      ]
     },
     "execution_count": 14,
     "metadata": {},
     "output_type": "execute_result"
    }
   ],
   "source": [
    "a = Data_Loader(dataset=dataset,batch_size=1,num_workers=0).build_train_loader()\n",
    "len(a)"
   ]
  },
  {
   "cell_type": "markdown",
   "metadata": {},
   "source": [
    "# Binary classifaction\n"
   ]
  },
  {
   "cell_type": "code",
   "execution_count": 2,
   "metadata": {},
   "outputs": [],
   "source": [
    "import pandas as pd\n",
    "pvp_label = pd.read_csv('../../Data/CT_Phase/True_Label/Phase_PVP.csv')\n",
    "#将Phase中的Phase的1和0都换成0,2换成1\n",
    "pvp_label['Phase'] = pvp_label['Phase'].apply(lambda x: 0 if x == 1 or x==0 else 1)\n"
   ]
  },
  {
   "cell_type": "code",
   "execution_count": 6,
   "metadata": {},
   "outputs": [],
   "source": [
    "pvp_label.to_csv('../../Data/CT_Phase/True_Label/Phase_PVP.csv',index=False)\n",
    "\n",
    "\n"
   ]
  },
  {
   "cell_type": "markdown",
   "metadata": {},
   "source": [
    "METRICS\n",
    "\n"
   ]
  },
  {
   "cell_type": "code",
   "execution_count": 29,
   "metadata": {},
   "outputs": [],
   "source": [
    "import os\n",
    "os.environ[\"KMP_DUPLICATE_LIB_OK\"] = \"TRUE\"\n",
    "from monai.metrics import get_confusion_matrix,compute_roc_auc\n",
    "from sklearn.metrics import roc_auc_score, confusion_matrix, accuracy_score, f1_score\n",
    "from torch import tensor\n",
    "from sklearn.metrics import precision_score, recall_score\n",
    "import torch\n",
    "import pandas as pd\n",
    "import numpy as np\n",
    "class Metrics():\n",
    "    def __init__(self,num_class=2,y_pred=None,y_true_label=None,targets=None):\n",
    "        \"\"\"\n",
    "        args:\n",
    "            y_pred: list of predicted tensor\n",
    "            y_true_label: list of true labels\n",
    "            targets: dicts of targets and their labels\n",
    "        \"\"\"\n",
    "        self.num_class = num_class\n",
    "        self.four_rate_dic = {str(i):{'tp':0,'fp':0,'tn':0,'fn':0} for i in range(num_class)}\n",
    "        self.y_true_label = np.array(y_true_label)\n",
    "        self.y_pred_label = [torch.argmax(y_pre,dim=1).detach().cpu().numpy().tolist() for y_pre in y_pred]\n",
    "        self.y_pred_label = [item for sublist in self.y_pred_label for item in sublist]\n",
    "\n",
    "        self.y_pred_label = np.array(self.y_pred_label)\n",
    "        self.y_pred_one_hot = torch.nn.functional.one_hot(torch.tensor(self.y_pred_label,dtype=torch.int64),num_classes=self.num_class)\n",
    "        self.y_true_one_hot = torch.nn.functional.one_hot(torch.tensor(self.y_true_label.tolist(),dtype=torch.int64),num_classes=self.num_class)\n",
    "    \n",
    "    def calculate_metrics(self):\n",
    "        self.metrics = {str(i): {'f1': 0, 'auc': 0, 'accuracy': 0, 'precision': 0, 'recall': 0} for i in range(self.num_class)}\n",
    "\n",
    "        for i in range(self.num_class):\n",
    "            true_binary = (self.y_true_label == i).astype(int)\n",
    "            pred_binary = (self.y_pred_label == i).astype(int)\n",
    "            print(true_binary,pred_binary,666)\n",
    "            self.metrics[str(i)]['f1'] = f1_score(true_binary, pred_binary)\n",
    "            self.metrics[str(i)]['precision'] = precision_score(true_binary, pred_binary)\n",
    "            self.metrics[str(i)]['recall'] = recall_score(true_binary, pred_binary)\n",
    "\n",
    "            if len(np.unique(true_binary)) > 1:\n",
    "                self.metrics[str(i)]['auc'] = roc_auc_score(true_binary, self.y_pred_one_hot[:, i])\n",
    "\n",
    "            self.metrics[str(i)]['accuracy'] = accuracy_score(true_binary, pred_binary)\n",
    "\n",
    "        return self.metrics\n",
    "\n",
    "\n",
    "\n",
    "    def get_roc(self,average='macro'):\n",
    "        return compute_roc_auc(self.y_pred_one_hot,self.y_true_one_hot,average)\n",
    "        \n",
    "\n",
    "    def get_four_rate(self) -> tensor:\n",
    "        \"\"\"\n",
    "        args:\n",
    "            y_pred: (B,C) one-hot tensor\n",
    "            y_true: (B,C) one-hot tensor\n",
    "        \"\"\"\n",
    "        confu_matrix = get_confusion_matrix(self.y_pred_one_hot,self.y_true_one_hot)\n",
    "        #calculate tp,fp,tn,fn\n",
    "        for i in range(self.num_class):\n",
    "            self.four_rate_dic[str(i)]['tp'] += confu_matrix[:,i,0].sum()\n",
    "            self.four_rate_dic[str(i)]['fp'] += confu_matrix[:,i,1].sum() \n",
    "            self.four_rate_dic[str(i)]['tn'] += confu_matrix[:,i,2].sum() \n",
    "            self.four_rate_dic[str(i)]['fn'] += confu_matrix[:,i,3].sum()\n",
    "        return self.four_rate_dic\n",
    "    \n",
    "    def get_accuracy(self) -> float:\n",
    "        \"\"\"\n",
    "        args:\n",
    "            y_pred_label: list of predicted labels\n",
    "            y_true_label: list of true labels\n",
    "        \"\"\"\n",
    "        accuracy = accuracy_score(self.y_pred_label,self.y_true_label)\n",
    "        return accuracy\n",
    "    \n",
    "    def get_f1_score(self,average='macro') -> float:\n",
    "        return f1_score(self.y_pred_label,self.y_true_label,average=average)\n",
    "    \n",
    "\n",
    "    def generate_metrics_df(self,epoch):\n",
    "\n",
    "        # 将指标数据整理成列表形式\n",
    "        metrics_data = []\n",
    "        for class_id, class_metrics in self.metrics.items():\n",
    "            data_row = {\"epoch\": epoch}  # 首先添加 epoch\n",
    "            data_row.update({\"class_id\": class_id})  # 然后添加 class_id\n",
    "            data_row.update(class_metrics)  # 最后添加其他指标\n",
    "            metrics_data.append(data_row)\n",
    "\n",
    "\n",
    "\n",
    "        # 创建DataFrame\n",
    "        df = pd.DataFrame(metrics_data)\n",
    "\n",
    "        return df\n"
   ]
  },
  {
   "cell_type": "code",
   "execution_count": 30,
   "metadata": {},
   "outputs": [
    {
     "name": "stdout",
     "output_type": "stream",
     "text": [
      "torch.Size([2, 10])\n",
      "[0 0] [0 0] 666\n",
      "[1 1] [0 0] 666\n",
      "[0 0] [0 0] 666\n",
      "[0 0] [0 0] 666\n",
      "[0 0] [0 0] 666\n",
      "[0 0] [0 0] 666\n",
      "[0 0] [0 0] 666\n",
      "[0 0] [0 0] 666\n",
      "[0 0] [1 1] 666\n",
      "[0 0] [0 0] 666\n"
     ]
    },
    {
     "name": "stderr",
     "output_type": "stream",
     "text": [
      "c:\\Users\\098986\\AppData\\Local\\anaconda3\\envs\\CILM\\lib\\site-packages\\sklearn\\metrics\\_classification.py:1760: UndefinedMetricWarning: F-score is ill-defined and being set to 0.0 due to no true nor predicted samples. Use `zero_division` parameter to control this behavior.\n",
      "  _warn_prf(average, \"true nor predicted\", \"F-score is\", len(true_sum))\n",
      "c:\\Users\\098986\\AppData\\Local\\anaconda3\\envs\\CILM\\lib\\site-packages\\sklearn\\metrics\\_classification.py:1471: UndefinedMetricWarning: Precision is ill-defined and being set to 0.0 due to no predicted samples. Use `zero_division` parameter to control this behavior.\n",
      "  _warn_prf(average, modifier, msg_start, len(result))\n",
      "c:\\Users\\098986\\AppData\\Local\\anaconda3\\envs\\CILM\\lib\\site-packages\\sklearn\\metrics\\_classification.py:1471: UndefinedMetricWarning: Recall is ill-defined and being set to 0.0 due to no true samples. Use `zero_division` parameter to control this behavior.\n",
      "  _warn_prf(average, modifier, msg_start, len(result))\n",
      "c:\\Users\\098986\\AppData\\Local\\anaconda3\\envs\\CILM\\lib\\site-packages\\sklearn\\metrics\\_classification.py:1471: UndefinedMetricWarning: Precision is ill-defined and being set to 0.0 due to no predicted samples. Use `zero_division` parameter to control this behavior.\n",
      "  _warn_prf(average, modifier, msg_start, len(result))\n",
      "c:\\Users\\098986\\AppData\\Local\\anaconda3\\envs\\CILM\\lib\\site-packages\\sklearn\\metrics\\_classification.py:1760: UndefinedMetricWarning: F-score is ill-defined and being set to 0.0 due to no true nor predicted samples. Use `zero_division` parameter to control this behavior.\n",
      "  _warn_prf(average, \"true nor predicted\", \"F-score is\", len(true_sum))\n",
      "c:\\Users\\098986\\AppData\\Local\\anaconda3\\envs\\CILM\\lib\\site-packages\\sklearn\\metrics\\_classification.py:1471: UndefinedMetricWarning: Precision is ill-defined and being set to 0.0 due to no predicted samples. Use `zero_division` parameter to control this behavior.\n",
      "  _warn_prf(average, modifier, msg_start, len(result))\n",
      "c:\\Users\\098986\\AppData\\Local\\anaconda3\\envs\\CILM\\lib\\site-packages\\sklearn\\metrics\\_classification.py:1471: UndefinedMetricWarning: Recall is ill-defined and being set to 0.0 due to no true samples. Use `zero_division` parameter to control this behavior.\n",
      "  _warn_prf(average, modifier, msg_start, len(result))\n",
      "c:\\Users\\098986\\AppData\\Local\\anaconda3\\envs\\CILM\\lib\\site-packages\\sklearn\\metrics\\_classification.py:1760: UndefinedMetricWarning: F-score is ill-defined and being set to 0.0 due to no true nor predicted samples. Use `zero_division` parameter to control this behavior.\n",
      "  _warn_prf(average, \"true nor predicted\", \"F-score is\", len(true_sum))\n",
      "c:\\Users\\098986\\AppData\\Local\\anaconda3\\envs\\CILM\\lib\\site-packages\\sklearn\\metrics\\_classification.py:1471: UndefinedMetricWarning: Precision is ill-defined and being set to 0.0 due to no predicted samples. Use `zero_division` parameter to control this behavior.\n",
      "  _warn_prf(average, modifier, msg_start, len(result))\n",
      "c:\\Users\\098986\\AppData\\Local\\anaconda3\\envs\\CILM\\lib\\site-packages\\sklearn\\metrics\\_classification.py:1471: UndefinedMetricWarning: Recall is ill-defined and being set to 0.0 due to no true samples. Use `zero_division` parameter to control this behavior.\n",
      "  _warn_prf(average, modifier, msg_start, len(result))\n",
      "c:\\Users\\098986\\AppData\\Local\\anaconda3\\envs\\CILM\\lib\\site-packages\\sklearn\\metrics\\_classification.py:1760: UndefinedMetricWarning: F-score is ill-defined and being set to 0.0 due to no true nor predicted samples. Use `zero_division` parameter to control this behavior.\n",
      "  _warn_prf(average, \"true nor predicted\", \"F-score is\", len(true_sum))\n",
      "c:\\Users\\098986\\AppData\\Local\\anaconda3\\envs\\CILM\\lib\\site-packages\\sklearn\\metrics\\_classification.py:1471: UndefinedMetricWarning: Precision is ill-defined and being set to 0.0 due to no predicted samples. Use `zero_division` parameter to control this behavior.\n",
      "  _warn_prf(average, modifier, msg_start, len(result))\n",
      "c:\\Users\\098986\\AppData\\Local\\anaconda3\\envs\\CILM\\lib\\site-packages\\sklearn\\metrics\\_classification.py:1471: UndefinedMetricWarning: Recall is ill-defined and being set to 0.0 due to no true samples. Use `zero_division` parameter to control this behavior.\n",
      "  _warn_prf(average, modifier, msg_start, len(result))\n",
      "c:\\Users\\098986\\AppData\\Local\\anaconda3\\envs\\CILM\\lib\\site-packages\\sklearn\\metrics\\_classification.py:1760: UndefinedMetricWarning: F-score is ill-defined and being set to 0.0 due to no true nor predicted samples. Use `zero_division` parameter to control this behavior.\n",
      "  _warn_prf(average, \"true nor predicted\", \"F-score is\", len(true_sum))\n",
      "c:\\Users\\098986\\AppData\\Local\\anaconda3\\envs\\CILM\\lib\\site-packages\\sklearn\\metrics\\_classification.py:1471: UndefinedMetricWarning: Precision is ill-defined and being set to 0.0 due to no predicted samples. Use `zero_division` parameter to control this behavior.\n",
      "  _warn_prf(average, modifier, msg_start, len(result))\n",
      "c:\\Users\\098986\\AppData\\Local\\anaconda3\\envs\\CILM\\lib\\site-packages\\sklearn\\metrics\\_classification.py:1471: UndefinedMetricWarning: Recall is ill-defined and being set to 0.0 due to no true samples. Use `zero_division` parameter to control this behavior.\n",
      "  _warn_prf(average, modifier, msg_start, len(result))\n",
      "c:\\Users\\098986\\AppData\\Local\\anaconda3\\envs\\CILM\\lib\\site-packages\\sklearn\\metrics\\_classification.py:1760: UndefinedMetricWarning: F-score is ill-defined and being set to 0.0 due to no true nor predicted samples. Use `zero_division` parameter to control this behavior.\n",
      "  _warn_prf(average, \"true nor predicted\", \"F-score is\", len(true_sum))\n",
      "c:\\Users\\098986\\AppData\\Local\\anaconda3\\envs\\CILM\\lib\\site-packages\\sklearn\\metrics\\_classification.py:1471: UndefinedMetricWarning: Precision is ill-defined and being set to 0.0 due to no predicted samples. Use `zero_division` parameter to control this behavior.\n",
      "  _warn_prf(average, modifier, msg_start, len(result))\n",
      "c:\\Users\\098986\\AppData\\Local\\anaconda3\\envs\\CILM\\lib\\site-packages\\sklearn\\metrics\\_classification.py:1471: UndefinedMetricWarning: Recall is ill-defined and being set to 0.0 due to no true samples. Use `zero_division` parameter to control this behavior.\n",
      "  _warn_prf(average, modifier, msg_start, len(result))\n",
      "c:\\Users\\098986\\AppData\\Local\\anaconda3\\envs\\CILM\\lib\\site-packages\\sklearn\\metrics\\_classification.py:1760: UndefinedMetricWarning: F-score is ill-defined and being set to 0.0 due to no true nor predicted samples. Use `zero_division` parameter to control this behavior.\n",
      "  _warn_prf(average, \"true nor predicted\", \"F-score is\", len(true_sum))\n",
      "c:\\Users\\098986\\AppData\\Local\\anaconda3\\envs\\CILM\\lib\\site-packages\\sklearn\\metrics\\_classification.py:1471: UndefinedMetricWarning: Precision is ill-defined and being set to 0.0 due to no predicted samples. Use `zero_division` parameter to control this behavior.\n",
      "  _warn_prf(average, modifier, msg_start, len(result))\n",
      "c:\\Users\\098986\\AppData\\Local\\anaconda3\\envs\\CILM\\lib\\site-packages\\sklearn\\metrics\\_classification.py:1471: UndefinedMetricWarning: Recall is ill-defined and being set to 0.0 due to no true samples. Use `zero_division` parameter to control this behavior.\n",
      "  _warn_prf(average, modifier, msg_start, len(result))\n",
      "c:\\Users\\098986\\AppData\\Local\\anaconda3\\envs\\CILM\\lib\\site-packages\\sklearn\\metrics\\_classification.py:1471: UndefinedMetricWarning: Recall is ill-defined and being set to 0.0 due to no true samples. Use `zero_division` parameter to control this behavior.\n",
      "  _warn_prf(average, modifier, msg_start, len(result))\n",
      "c:\\Users\\098986\\AppData\\Local\\anaconda3\\envs\\CILM\\lib\\site-packages\\sklearn\\metrics\\_classification.py:1760: UndefinedMetricWarning: F-score is ill-defined and being set to 0.0 due to no true nor predicted samples. Use `zero_division` parameter to control this behavior.\n",
      "  _warn_prf(average, \"true nor predicted\", \"F-score is\", len(true_sum))\n",
      "c:\\Users\\098986\\AppData\\Local\\anaconda3\\envs\\CILM\\lib\\site-packages\\sklearn\\metrics\\_classification.py:1471: UndefinedMetricWarning: Precision is ill-defined and being set to 0.0 due to no predicted samples. Use `zero_division` parameter to control this behavior.\n",
      "  _warn_prf(average, modifier, msg_start, len(result))\n",
      "c:\\Users\\098986\\AppData\\Local\\anaconda3\\envs\\CILM\\lib\\site-packages\\sklearn\\metrics\\_classification.py:1471: UndefinedMetricWarning: Recall is ill-defined and being set to 0.0 due to no true samples. Use `zero_division` parameter to control this behavior.\n",
      "  _warn_prf(average, modifier, msg_start, len(result))\n"
     ]
    },
    {
     "data": {
      "text/plain": [
       "{'0': {'f1': 0.0, 'auc': 0, 'accuracy': 1.0, 'precision': 0.0, 'recall': 0.0},\n",
       " '1': {'f1': 0.0, 'auc': 0, 'accuracy': 0.0, 'precision': 0.0, 'recall': 0.0},\n",
       " '2': {'f1': 0.0, 'auc': 0, 'accuracy': 1.0, 'precision': 0.0, 'recall': 0.0},\n",
       " '3': {'f1': 0.0, 'auc': 0, 'accuracy': 1.0, 'precision': 0.0, 'recall': 0.0},\n",
       " '4': {'f1': 0.0, 'auc': 0, 'accuracy': 1.0, 'precision': 0.0, 'recall': 0.0},\n",
       " '5': {'f1': 0.0, 'auc': 0, 'accuracy': 1.0, 'precision': 0.0, 'recall': 0.0},\n",
       " '6': {'f1': 0.0, 'auc': 0, 'accuracy': 1.0, 'precision': 0.0, 'recall': 0.0},\n",
       " '7': {'f1': 0.0, 'auc': 0, 'accuracy': 1.0, 'precision': 0.0, 'recall': 0.0},\n",
       " '8': {'f1': 0.0, 'auc': 0, 'accuracy': 0.0, 'precision': 0.0, 'recall': 0.0},\n",
       " '9': {'f1': 0.0, 'auc': 0, 'accuracy': 1.0, 'precision': 0.0, 'recall': 0.0}}"
      ]
     },
     "execution_count": 30,
     "metadata": {},
     "output_type": "execute_result"
    }
   ],
   "source": [
    "import torch\n",
    "import torch.nn as nn\n",
    "import torch.nn.functional as F\n",
    "\n",
    "# 定义网络结构\n",
    "class SimpleNet(nn.Module):\n",
    "    def __init__(self, input_size, hidden_size, num_classes):\n",
    "        super(SimpleNet, self).__init__()\n",
    "        self.fc1 = nn.Linear(input_size, hidden_size) \n",
    "        self.relu = nn.ReLU()\n",
    "        self.fc2 = nn.Linear(hidden_size, num_classes)  \n",
    "    \n",
    "    def forward(self, x):\n",
    "        out = self.fc1(x)\n",
    "        out = self.relu(out)\n",
    "        out = self.fc2(out)\n",
    "        return out\n",
    "\n",
    "# 参数设置\n",
    "input_size = 784  # 例如，28x28的图像展平后的大小\n",
    "hidden_size = 100  # 隐藏层的大小\n",
    "num_classes = 10   # 类别数，例如MNIST手写数字识别为10\n",
    "\n",
    "# 创建网络\n",
    "model = SimpleNet(input_size, hidden_size, num_classes)\n",
    "\n",
    "# 假设我们有一些随机数据作为输入\n",
    "batch_size = 2 # 批量大小\n",
    "x = torch.randn(batch_size, input_size)  # 生成随机数据\n",
    "\n",
    "# 前向传播\n",
    "output = model(x)\n",
    "\n",
    "\n",
    "# 输出结果\n",
    "print(output.shape)  # 应该是 [batch_size, num_classes]\n",
    "\n",
    "metrics = Metrics(10,y_pred=[output],y_true_label=[1 for i in range(2)])\n",
    "metrics.calculate_metrics()"
   ]
  },
  {
   "cell_type": "code",
   "execution_count": 31,
   "metadata": {},
   "outputs": [
    {
     "data": {
      "text/html": [
       "<div>\n",
       "<style scoped>\n",
       "    .dataframe tbody tr th:only-of-type {\n",
       "        vertical-align: middle;\n",
       "    }\n",
       "\n",
       "    .dataframe tbody tr th {\n",
       "        vertical-align: top;\n",
       "    }\n",
       "\n",
       "    .dataframe thead th {\n",
       "        text-align: right;\n",
       "    }\n",
       "</style>\n",
       "<table border=\"1\" class=\"dataframe\">\n",
       "  <thead>\n",
       "    <tr style=\"text-align: right;\">\n",
       "      <th></th>\n",
       "      <th>epoch</th>\n",
       "      <th>class_id</th>\n",
       "      <th>f1</th>\n",
       "      <th>auc</th>\n",
       "      <th>accuracy</th>\n",
       "      <th>precision</th>\n",
       "      <th>recall</th>\n",
       "    </tr>\n",
       "  </thead>\n",
       "  <tbody>\n",
       "    <tr>\n",
       "      <th>0</th>\n",
       "      <td>1</td>\n",
       "      <td>0</td>\n",
       "      <td>0.0</td>\n",
       "      <td>0</td>\n",
       "      <td>1.0</td>\n",
       "      <td>0.0</td>\n",
       "      <td>0.0</td>\n",
       "    </tr>\n",
       "    <tr>\n",
       "      <th>1</th>\n",
       "      <td>1</td>\n",
       "      <td>1</td>\n",
       "      <td>0.0</td>\n",
       "      <td>0</td>\n",
       "      <td>0.0</td>\n",
       "      <td>0.0</td>\n",
       "      <td>0.0</td>\n",
       "    </tr>\n",
       "    <tr>\n",
       "      <th>2</th>\n",
       "      <td>1</td>\n",
       "      <td>2</td>\n",
       "      <td>0.0</td>\n",
       "      <td>0</td>\n",
       "      <td>1.0</td>\n",
       "      <td>0.0</td>\n",
       "      <td>0.0</td>\n",
       "    </tr>\n",
       "    <tr>\n",
       "      <th>3</th>\n",
       "      <td>1</td>\n",
       "      <td>3</td>\n",
       "      <td>0.0</td>\n",
       "      <td>0</td>\n",
       "      <td>1.0</td>\n",
       "      <td>0.0</td>\n",
       "      <td>0.0</td>\n",
       "    </tr>\n",
       "    <tr>\n",
       "      <th>4</th>\n",
       "      <td>1</td>\n",
       "      <td>4</td>\n",
       "      <td>0.0</td>\n",
       "      <td>0</td>\n",
       "      <td>1.0</td>\n",
       "      <td>0.0</td>\n",
       "      <td>0.0</td>\n",
       "    </tr>\n",
       "    <tr>\n",
       "      <th>5</th>\n",
       "      <td>1</td>\n",
       "      <td>5</td>\n",
       "      <td>0.0</td>\n",
       "      <td>0</td>\n",
       "      <td>1.0</td>\n",
       "      <td>0.0</td>\n",
       "      <td>0.0</td>\n",
       "    </tr>\n",
       "    <tr>\n",
       "      <th>6</th>\n",
       "      <td>1</td>\n",
       "      <td>6</td>\n",
       "      <td>0.0</td>\n",
       "      <td>0</td>\n",
       "      <td>1.0</td>\n",
       "      <td>0.0</td>\n",
       "      <td>0.0</td>\n",
       "    </tr>\n",
       "    <tr>\n",
       "      <th>7</th>\n",
       "      <td>1</td>\n",
       "      <td>7</td>\n",
       "      <td>0.0</td>\n",
       "      <td>0</td>\n",
       "      <td>1.0</td>\n",
       "      <td>0.0</td>\n",
       "      <td>0.0</td>\n",
       "    </tr>\n",
       "    <tr>\n",
       "      <th>8</th>\n",
       "      <td>1</td>\n",
       "      <td>8</td>\n",
       "      <td>0.0</td>\n",
       "      <td>0</td>\n",
       "      <td>0.0</td>\n",
       "      <td>0.0</td>\n",
       "      <td>0.0</td>\n",
       "    </tr>\n",
       "    <tr>\n",
       "      <th>9</th>\n",
       "      <td>1</td>\n",
       "      <td>9</td>\n",
       "      <td>0.0</td>\n",
       "      <td>0</td>\n",
       "      <td>1.0</td>\n",
       "      <td>0.0</td>\n",
       "      <td>0.0</td>\n",
       "    </tr>\n",
       "  </tbody>\n",
       "</table>\n",
       "</div>"
      ],
      "text/plain": [
       "   epoch class_id   f1  auc  accuracy  precision  recall\n",
       "0      1        0  0.0    0       1.0        0.0     0.0\n",
       "1      1        1  0.0    0       0.0        0.0     0.0\n",
       "2      1        2  0.0    0       1.0        0.0     0.0\n",
       "3      1        3  0.0    0       1.0        0.0     0.0\n",
       "4      1        4  0.0    0       1.0        0.0     0.0\n",
       "5      1        5  0.0    0       1.0        0.0     0.0\n",
       "6      1        6  0.0    0       1.0        0.0     0.0\n",
       "7      1        7  0.0    0       1.0        0.0     0.0\n",
       "8      1        8  0.0    0       0.0        0.0     0.0\n",
       "9      1        9  0.0    0       1.0        0.0     0.0"
      ]
     },
     "execution_count": 31,
     "metadata": {},
     "output_type": "execute_result"
    }
   ],
   "source": []
  },
  {
   "cell_type": "code",
   "execution_count": 13,
   "metadata": {},
   "outputs": [
    {
     "data": {
      "text/plain": [
       "tensor([[-0.0618, -0.0941,  0.1946, -0.2964,  0.0383,  0.0465, -0.2030, -0.2793,\n",
       "          0.1523, -0.2352]], grad_fn=<AddmmBackward0>)"
      ]
     },
     "execution_count": 13,
     "metadata": {},
     "output_type": "execute_result"
    }
   ],
   "source": [
    "output"
   ]
  },
  {
   "cell_type": "code",
   "execution_count": 7,
   "metadata": {},
   "outputs": [
    {
     "data": {
      "text/plain": [
       "[1, 1, 1, 1, 1, 1, 1, 1, 1, 1]"
      ]
     },
     "execution_count": 7,
     "metadata": {},
     "output_type": "execute_result"
    }
   ],
   "source": [
    "y_true_label=[1 for i in range(10)]\n",
    "y_true_label "
   ]
  }
 ],
 "metadata": {
  "kernelspec": {
   "display_name": "samuel",
   "language": "python",
   "name": "python3"
  },
  "language_info": {
   "codemirror_mode": {
    "name": "ipython",
    "version": 3
   },
   "file_extension": ".py",
   "mimetype": "text/x-python",
   "name": "python",
   "nbconvert_exporter": "python",
   "pygments_lexer": "ipython3",
   "version": "3.9.18"
  }
 },
 "nbformat": 4,
 "nbformat_minor": 2
}
