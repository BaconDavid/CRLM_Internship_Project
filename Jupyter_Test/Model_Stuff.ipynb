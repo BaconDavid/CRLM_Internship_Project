{
 "cells": [
  {
   "cell_type": "code",
   "execution_count": 4,
   "metadata": {},
   "outputs": [],
   "source": [
    "import sys\n",
    "sys.path.append('../')\n",
    "import Phase_Detector.Utility as Utility\n",
    "import torch"
   ]
  },
  {
   "cell_type": "code",
   "execution_count": 48,
   "metadata": {},
   "outputs": [],
   "source": [
    "y_true = [1,0,0,1,0,0,1,0,0,]\n",
    "y_pre_tensor = [torch.tensor([0.1,0.8]).reshape(1,2) for i in range(len(y_true))]\n",
    "metric = Utility.Metrics(2,y_pred=y_pre_tensor, y_true_label=y_true)\n",
    "#metric.get_accuracy()"
   ]
  },
  {
   "cell_type": "markdown",
   "metadata": {},
   "source": [
    "Test Dataloader"
   ]
  },
  {
   "cell_type": "code",
   "execution_count": 15,
   "metadata": {},
   "outputs": [],
   "source": [
    "import torch\n",
    "from torch.utils.data import Dataset, DataLoader\n",
    "\n",
    "# 定义一个简单的自定义数据集\n",
    "# 示例数据\n",
    "data = [i for i in range(10)]  # 一个包含0-9的简单列表\n",
    "\n",
    "# 创建Dataset\n",
    "simple_dataset = ImageDataset(data)\n",
    "\n",
    "# 创建DataLoader\n",
    "#data_loader = DataLoader(simple_dataset, batch_size=2, shuffle=True)\n",
    "\n",
    "# 迭代DataLoader\n",
    "#for batch in data_loader:\n",
    " #   print(batch)\n"
   ]
  },
  {
   "cell_type": "code",
   "execution_count": 13,
   "metadata": {},
   "outputs": [],
   "source": [
    "from torch import tensor\n",
    "import torch\n",
    "import nibabel as nib\n",
    "\n",
    "from torch.utils.data import WeightedRandomSampler\n",
    "\n",
    "import numpy as np\n",
    "import pandas as pd\n",
    "import os\n",
    "from monai.transforms import Compose\n",
    "\n",
    "from monai.data import ImageDataset,DataLoader\n",
    "\n",
    "\n",
    "class Image_Dataset(ImageDataset):\n",
    "    def __init__(self,image_files,labels,transform_methods=None,data_aug=True,label_name=None,*args,**kwargs):\n",
    "        \"\"\"\n",
    "        args:\n",
    "            image_files: list of image files path\n",
    "            labels: list of labels\n",
    "            transform_methods: list of transform methods\n",
    "            data_aug: True if data augmentation is used\n",
    "            label_name: name of the label\n",
    "        \n",
    "        \"\"\"\n",
    "        if data_aug:\n",
    "            transform = Compose(transform_methods)\n",
    "        else:\n",
    "            transform = None\n",
    "\n",
    "        super().__init__(image_files=image_files,labels=labels,transform=transform,*args, **kwargs)\n",
    "\n",
    "    \n",
    "    def __len__(self):\n",
    "        return len(self.image_files)\n",
    "    \n",
    "    def __getitem__(self,index):\n",
    "        image = self.image_files[index]\n",
    "        label = self.labels[index]\n",
    "\n",
    "        # get image array\n",
    "        image = nib.load(image).get_fdata()\n",
    "        # here to do windowing\n",
    "\n",
    "        image = tensor(image)\n",
    "        return image,label\n",
    "    \n",
    "class Data_Loader(DataLoader):\n",
    "    def __init__(self,dataset,batch_size,num_workers=0,*args,**kwargs):\n",
    "        super().__init__(dataset=dataset,batch_size=batch_size,num_workers=num_workers,*args,**kwargs)\n",
    "    \n",
    "    \n",
    "    def build_train_loader(self):\n",
    "        return DataLoader(self.dataset,batch_size=self.batch_size,shuffle=True,num_workers=self.num_workers,drop_last=True,*self.args,**self.kwargs)\n",
    "\n",
    "    def build_vali_loader(self):\n",
    "        return DataLoader(self.dataset,batch_size=self.batch_size,shuffle=False,num_workers=self.num_workers,drop_last=False,*self.args,**self.kwargs)\n",
    "    \n",
    "    def build_test_loader(self):\n",
    "        return DataLoader(self.dataset,batch_size=self.batch_size,shuffle=False,num_workers=self.num_workers,drop_last=False,*self.args,**self.kwargs)\n"
   ]
  },
  {
   "cell_type": "code",
   "execution_count": 1,
   "metadata": {},
   "outputs": [
    {
     "name": "stdout",
     "output_type": "stream",
     "text": [
      "123\n"
     ]
    }
   ],
   "source": [
    "def a(**kwargs):\n",
    "    print(kwargs['out_path'])\n",
    "\n",
    "a(out_path='123')"
   ]
  }
 ],
 "metadata": {
  "kernelspec": {
   "display_name": "samuel",
   "language": "python",
   "name": "python3"
  },
  "language_info": {
   "codemirror_mode": {
    "name": "ipython",
    "version": 3
   },
   "file_extension": ".py",
   "mimetype": "text/x-python",
   "name": "python",
   "nbconvert_exporter": "python",
   "pygments_lexer": "ipython3",
   "version": "3.9.18"
  }
 },
 "nbformat": 4,
 "nbformat_minor": 2
}
